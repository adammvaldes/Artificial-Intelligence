{
 "cells": [
  {
   "cell_type": "markdown",
   "metadata": {},
   "source": [
    "$\\newcommand{\\xv}{\\mathbf{x}}\n",
    "\\newcommand{\\Xv}{\\mathbf{X}}\n",
    "\\newcommand{\\yv}{\\mathbf{y}}\n",
    "\\newcommand{\\zv}{\\mathbf{z}}\n",
    "\\newcommand{\\av}{\\mathbf{a}}\n",
    "\\newcommand{\\Wv}{\\mathbf{W}}\n",
    "\\newcommand{\\wv}{\\mathbf{w}}\n",
    "\\newcommand{\\tv}{\\mathbf{t}}\n",
    "\\newcommand{\\Tv}{\\mathbf{T}}\n",
    "\\newcommand{\\muv}{\\boldsymbol{\\mu}}\n",
    "\\newcommand{\\sigmav}{\\boldsymbol{\\sigma}}\n",
    "\\newcommand{\\phiv}{\\boldsymbol{\\phi}}\n",
    "\\newcommand{\\Phiv}{\\boldsymbol{\\Phi}}\n",
    "\\newcommand{\\Sigmav}{\\boldsymbol{\\Sigma}}\n",
    "\\newcommand{\\Lambdav}{\\boldsymbol{\\Lambda}}\n",
    "\\newcommand{\\half}{\\frac{1}{2}}\n",
    "\\newcommand{\\argmax}[1]{\\underset{#1}{\\operatorname{argmax}}}\n",
    "\\newcommand{\\argmin}[1]{\\underset{#1}{\\operatorname{argmin}}}$"
   ]
  },
  {
   "cell_type": "markdown",
   "metadata": {},
   "source": [
    "# Assignment 6: Neural Networks"
   ]
  },
  {
   "cell_type": "markdown",
   "metadata": {},
   "source": [
    "Adam Valdes"
   ]
  },
  {
   "cell_type": "markdown",
   "metadata": {},
   "source": [
    "## Overview"
   ]
  },
  {
   "cell_type": "markdown",
   "metadata": {},
   "source": [
    "You will write and apply code that trains neural networks of various numbers of hidden layers and units in each hidden layer and returns results as specified below.  You will do this once for a regression problem and once for a classification problem. "
   ]
  },
  {
   "cell_type": "markdown",
   "metadata": {},
   "source": [
    "## Required Code"
   ]
  },
  {
   "cell_type": "markdown",
   "metadata": {},
   "source": [
    "Define the following two functions to train neural networks using `pytorch` and the `Adam` optimizer, one for a regression problem and one for a classification problem:\n",
    "\n",
    "* `nnet, error_trace = train_for_regression(X, T, hidden_layers, n_epochs, learning_rate)`\n",
    "\n",
    "Given\n",
    "\n",
    "   * `X`: `np.array` of shape `n_samples` X `n_inputs` of input samples,\n",
    "   * `T`: `np.array` of shape `n_samples` X `n_outputs` of desired values for each sample,\n",
    "   * `hidden_layers`: list of integers of number of units in each hidden layer.  The length of this list is the number of hidden layers.\n",
    "   * `n_epochs`: number of epochs to train for,\n",
    "   * `learning_rate`: the learning rate used for the Adam optimizer function.\n",
    "    \n",
    "Return\n",
    "\n",
    "   * `nnet`: the trained neural network model\n",
    "   * `error_trace`: list of RMSE value for each epoch\n",
    "   \n",
    "* `nnet, error_trace = train_for_classification(X, T, hidden_layers, n_epochs, learning_rate)`\n",
    "\n",
    "Given values that are the same as  ones for `train_for_regression` except for\n",
    "\n",
    "   * `T`: `np.array` of shape `n_samples` X 1 of correct class labels for each sample, and must be integers from $\\{0, 1, \\ldots, K-1\\}$ where $K$ is the number of classes,\n",
    "   * `error_trace`: list of likelihood value for each epoch"
   ]
  },
  {
   "cell_type": "code",
   "execution_count": 1,
   "metadata": {
    "ExecuteTime": {
     "end_time": "2020-11-06T14:44:46.327761Z",
     "start_time": "2020-11-06T14:44:46.324159Z"
    }
   },
   "outputs": [],
   "source": [
    "import numpy as np\n",
    "import matplotlib.pyplot as plt\n",
    "import torch\n",
    "import pandas as pd\n",
    "import os"
   ]
  },
  {
   "cell_type": "code",
   "execution_count": 2,
   "metadata": {},
   "outputs": [],
   "source": [
    "#adapted from lecture notes 21\n",
    "def train_for_regression(X, T, hidden_layers, n_epochs, learning_rate):\n",
    "\n",
    "    Xt = torch.from_numpy(X).float()\n",
    "    Tt = torch.from_numpy(T).float()\n",
    "    \n",
    "    n_inputs = X.shape[1]\n",
    "    n_outputs = T.shape[1]\n",
    "\n",
    "    #create the neural network based on hidden_layers\n",
    "    if(len(hidden_layers) is 1):\n",
    "        nnet = torch.nn.Sequential(torch.nn.Linear(n_inputs,hidden_layers[0]), torch.nn.Tanh(), torch.nn.Linear(hidden_layers[0],n_outputs))\n",
    "    elif(len(hidden_layers) > 1):\n",
    "        layers = []\n",
    "        layers.append(torch.nn.Linear(n_inputs,hidden_layers[0]))\n",
    "        layers.append(torch.nn.Tanh())\n",
    "        for h in range(1, len(hidden_layers)):\n",
    "            layers.append(torch.nn.Linear(hidden_layers[h-1], hidden_layers[h]))\n",
    "            layers.append(torch.nn.Tanh())\n",
    "        layers.append(torch.nn.Linear(hidden_layers[len(hidden_layers)-1], n_outputs))\n",
    "        nnet = torch.nn.Sequential(*layers)\n",
    "    elif(len(hidden_layers) is 0):\n",
    "        nnet = torch.nn.Sequential(torch.nn.Linear(n_inputs, n_outputs))\n",
    "\n",
    "    # collect training and testing errors for plotting\n",
    "    errorTrace = np.zeros((n_epochs, 2))\n",
    "\n",
    "    mse_f = torch.nn.MSELoss()\n",
    "    \n",
    "    #using Adam instead of SGD\n",
    "    optimizer = torch.optim.Adam(nnet.parameters(), lr=learning_rate)\n",
    "\n",
    "    learning_curve = []\n",
    "\n",
    "    for epoch in range(n_epochs):\n",
    "\n",
    "        # Forward pass\n",
    "        Y = forward(nnet, Xt)\n",
    "\n",
    "        mse = mse_f(Y, Tt)\n",
    "\n",
    "        optimizer.zero_grad()\n",
    "        mse.backward()\n",
    "        optimizer.step()\n",
    "         \n",
    "        learning_curve.append(mse.detach().sqrt().item())\n",
    "       \n",
    "    return nnet, learning_curve"
   ]
  },
  {
   "cell_type": "code",
   "execution_count": 3,
   "metadata": {},
   "outputs": [],
   "source": [
    "#adapted from lecture notes 21 and lecture notes 22\n",
    "def train_for_classification(X, T, hidden_layers, n_epochs, learning_rate):\n",
    "\n",
    "    n_classes = len(np.unique(T))\n",
    "\n",
    "    n_inputs = X.shape[1]\n",
    "    n_outputs = len(np.unique(T))\n",
    "\n",
    "    Xt = torch.from_numpy(X).float()\n",
    "    Tt = torch.from_numpy(T).reshape(-1).long()\n",
    "    \n",
    "    #mostly the same as for regression, but using LogSoftmax\n",
    "    if(len(hidden_layers) is 1):\n",
    "        nnet = torch.nn.Sequential(torch.nn.Linear(n_inputs,hidden_layers[0]), torch.nn.Tanh(), torch.nn.Linear(hidden_layers[0],n_outputs), torch.nn.LogSoftmax(dim=1))\n",
    "    elif(len(hidden_layers) > 1):\n",
    "        layers = []\n",
    "        layers.append(torch.nn.Linear(n_inputs,hidden_layers[0]))\n",
    "        layers.append(torch.nn.Tanh())\n",
    "        for h in range(1, len(hidden_layers)):\n",
    "            layers.append(torch.nn.Linear(hidden_layers[h-1], hidden_layers[h]))\n",
    "            layers.append(torch.nn.Tanh())\n",
    "        layers.append(torch.nn.Linear(hidden_layers[len(hidden_layers)-1], n_outputs))\n",
    "        layers.append(torch.nn.LogSoftmax(dim=1))\n",
    "        nnet = torch.nn.Sequential(*layers)\n",
    "    elif(len(hidden_layers) is 0):\n",
    "        nnet = torch.nn.Sequential(torch.nn.Linear(n_inputs, n_outputs), torch.nn.LogSoftmax(dim=1))\n",
    "    \n",
    "    optimizer = torch.optim.Adam(nnet.parameters(), lr=learning_rate)\n",
    "    nll_f = torch.nn.NLLLoss()\n",
    "\n",
    "    learning_curve = []\n",
    "    \n",
    "    for epoch in range(n_epochs):\n",
    "\n",
    "        #forward pass to get the log of the probabilities\n",
    "        logP = nnet(Xt)\n",
    "        \n",
    "        nll = nll_f(logP, Tt)\n",
    "        \n",
    "        optimizer.zero_grad()\n",
    "        nll.backward()\n",
    "        optimizer.step()\n",
    "        \n",
    "        #negate and raise nll to e to undo negation and log\n",
    "        learning_curve.append((-nll.detach()).exp().item())       \n",
    "    \n",
    "    return nnet, learning_curve\n"
   ]
  },
  {
   "cell_type": "markdown",
   "metadata": {},
   "source": [
    "The following `forward` function may be useful in both of the above functions."
   ]
  },
  {
   "cell_type": "code",
   "execution_count": 4,
   "metadata": {
    "ExecuteTime": {
     "end_time": "2020-11-06T14:44:51.138605Z",
     "start_time": "2020-11-06T14:44:51.134799Z"
    }
   },
   "outputs": [],
   "source": [
    "def forward(nnet, Xt):\n",
    "    \n",
    "    Ys = [Xt]\n",
    "    for layer in nnet:\n",
    "        Ys.append(layer(Ys[-1]))\n",
    "        \n",
    "    return Ys[-1] "
   ]
  },
  {
   "cell_type": "markdown",
   "metadata": {},
   "source": [
    "The function `use` will be used below to apply a `nnet` to input data `X`."
   ]
  },
  {
   "cell_type": "code",
   "execution_count": 5,
   "metadata": {
    "ExecuteTime": {
     "end_time": "2020-11-06T14:44:52.155250Z",
     "start_time": "2020-11-06T14:44:52.150329Z"
    }
   },
   "outputs": [],
   "source": [
    "def use(nnet, X):\n",
    "    \n",
    "    Xt = torch.from_numpy(X).float()\n",
    "    Yt = forward(nnet, Xt)   # nnet(Xt)\n",
    "    Y = Yt.detach().numpy()\n",
    "    \n",
    "    return Y"
   ]
  },
  {
   "cell_type": "markdown",
   "metadata": {},
   "source": [
    "The following functions will also be useful.  The first will calculate the accuracy in terms of RMSE of predictions from a neural network applied to a regression problem. The second calculates the accuracy in terms of percent of samples correctly classified by a neural network applied to a classification problem."
   ]
  },
  {
   "cell_type": "code",
   "execution_count": 6,
   "metadata": {
    "ExecuteTime": {
     "end_time": "2020-11-06T14:44:53.082484Z",
     "start_time": "2020-11-06T14:44:53.079057Z"
    }
   },
   "outputs": [],
   "source": [
    "# for regression problem\n",
    "def rmse(a, b):\n",
    "    return np.sqrt(np.mean((a - b)**2))\n",
    "\n",
    "# for classification problem\n",
    "def percent_correct(a, b):\n",
    "    return 100 * np.mean(a == b)\n",
    "\n",
    "def confusion_matrix(Y_classes, T):\n",
    "    class_names = np.unique(T)\n",
    "    table = []\n",
    "    for true_class in class_names:\n",
    "        row = []\n",
    "        for Y_class in class_names:\n",
    "            row.append(100 * np.mean(Y_classes[T == true_class] == Y_class))\n",
    "        table.append(row)\n",
    "    conf_matrix = pd.DataFrame(table, index=class_names, columns=class_names)\n",
    "    conf_matrix.style.background_gradient(cmap='Blues').format(\"{:.1f}\")\n",
    "    print(f'Percent Correct is {percent_correct(Y_classes, T)}')\n",
    "    return conf_matrix"
   ]
  },
  {
   "cell_type": "markdown",
   "metadata": {},
   "source": [
    "# Regression Problem:  \"Turn off the stove!\"\n",
    "\n",
    "Apply your `train_for_regression` function to the following data.  Read about the data at [here at the UCI ML Repository](https://archive.ics.uci.edu/ml/datasets/Appliances+energy+prediction#)."
   ]
  },
  {
   "cell_type": "code",
   "execution_count": 7,
   "metadata": {
    "ExecuteTime": {
     "end_time": "2020-11-06T14:44:55.611918Z",
     "start_time": "2020-11-06T14:44:53.857386Z"
    }
   },
   "outputs": [
    {
     "name": "stdout",
     "output_type": "stream",
     "text": [
      "Reading data from 'energy.csv'.\n"
     ]
    }
   ],
   "source": [
    "if os.path.isfile('energy.csv'):\n",
    "    print('Reading data from \\'energy.csv\\'.')\n",
    "    energy = pd.read_csv('energy.csv')\n",
    "else:\n",
    "    print('Downloading energydata_complete.csv from UCI ML Repository.')\n",
    "    energy = pd.read_csv('https://archive.ics.uci.edu/ml/machine-learning-databases/00374/energydata_complete.csv')\n",
    "    print(f'Number rows in original data file {len(energy)}.')\n",
    "    energy = energy.dropna(axis=0)\n",
    "    print(f'Number rows after dropping rows with missing values {len(energy)}.')\n",
    "    energy.to_csv('energy.csv', index=False)  # so row numbers are not written\n",
    "    print(f'Data saved to \\'energy.csv\\'')"
   ]
  },
  {
   "cell_type": "code",
   "execution_count": 8,
   "metadata": {
    "ExecuteTime": {
     "end_time": "2020-11-06T14:44:55.642473Z",
     "start_time": "2020-11-06T14:44:55.613088Z"
    },
    "scrolled": true
   },
   "outputs": [
    {
     "data": {
      "text/html": [
       "<div>\n",
       "<style scoped>\n",
       "    .dataframe tbody tr th:only-of-type {\n",
       "        vertical-align: middle;\n",
       "    }\n",
       "\n",
       "    .dataframe tbody tr th {\n",
       "        vertical-align: top;\n",
       "    }\n",
       "\n",
       "    .dataframe thead th {\n",
       "        text-align: right;\n",
       "    }\n",
       "</style>\n",
       "<table border=\"1\" class=\"dataframe\">\n",
       "  <thead>\n",
       "    <tr style=\"text-align: right;\">\n",
       "      <th></th>\n",
       "      <th>date</th>\n",
       "      <th>Appliances</th>\n",
       "      <th>lights</th>\n",
       "      <th>T1</th>\n",
       "      <th>RH_1</th>\n",
       "      <th>T2</th>\n",
       "      <th>RH_2</th>\n",
       "      <th>T3</th>\n",
       "      <th>RH_3</th>\n",
       "      <th>T4</th>\n",
       "      <th>...</th>\n",
       "      <th>T9</th>\n",
       "      <th>RH_9</th>\n",
       "      <th>T_out</th>\n",
       "      <th>Press_mm_hg</th>\n",
       "      <th>RH_out</th>\n",
       "      <th>Windspeed</th>\n",
       "      <th>Visibility</th>\n",
       "      <th>Tdewpoint</th>\n",
       "      <th>rv1</th>\n",
       "      <th>rv2</th>\n",
       "    </tr>\n",
       "  </thead>\n",
       "  <tbody>\n",
       "    <tr>\n",
       "      <td>0</td>\n",
       "      <td>2016-01-11 17:00:00</td>\n",
       "      <td>60</td>\n",
       "      <td>30</td>\n",
       "      <td>19.890000</td>\n",
       "      <td>47.596667</td>\n",
       "      <td>19.200000</td>\n",
       "      <td>44.790000</td>\n",
       "      <td>19.790000</td>\n",
       "      <td>44.730000</td>\n",
       "      <td>19.000000</td>\n",
       "      <td>...</td>\n",
       "      <td>17.033333</td>\n",
       "      <td>45.5300</td>\n",
       "      <td>6.600000</td>\n",
       "      <td>733.5</td>\n",
       "      <td>92.000000</td>\n",
       "      <td>7.000000</td>\n",
       "      <td>63.000000</td>\n",
       "      <td>5.300000</td>\n",
       "      <td>13.275433</td>\n",
       "      <td>13.275433</td>\n",
       "    </tr>\n",
       "    <tr>\n",
       "      <td>1</td>\n",
       "      <td>2016-01-11 17:10:00</td>\n",
       "      <td>60</td>\n",
       "      <td>30</td>\n",
       "      <td>19.890000</td>\n",
       "      <td>46.693333</td>\n",
       "      <td>19.200000</td>\n",
       "      <td>44.722500</td>\n",
       "      <td>19.790000</td>\n",
       "      <td>44.790000</td>\n",
       "      <td>19.000000</td>\n",
       "      <td>...</td>\n",
       "      <td>17.066667</td>\n",
       "      <td>45.5600</td>\n",
       "      <td>6.483333</td>\n",
       "      <td>733.6</td>\n",
       "      <td>92.000000</td>\n",
       "      <td>6.666667</td>\n",
       "      <td>59.166667</td>\n",
       "      <td>5.200000</td>\n",
       "      <td>18.606195</td>\n",
       "      <td>18.606195</td>\n",
       "    </tr>\n",
       "    <tr>\n",
       "      <td>2</td>\n",
       "      <td>2016-01-11 17:20:00</td>\n",
       "      <td>50</td>\n",
       "      <td>30</td>\n",
       "      <td>19.890000</td>\n",
       "      <td>46.300000</td>\n",
       "      <td>19.200000</td>\n",
       "      <td>44.626667</td>\n",
       "      <td>19.790000</td>\n",
       "      <td>44.933333</td>\n",
       "      <td>18.926667</td>\n",
       "      <td>...</td>\n",
       "      <td>17.000000</td>\n",
       "      <td>45.5000</td>\n",
       "      <td>6.366667</td>\n",
       "      <td>733.7</td>\n",
       "      <td>92.000000</td>\n",
       "      <td>6.333333</td>\n",
       "      <td>55.333333</td>\n",
       "      <td>5.100000</td>\n",
       "      <td>28.642668</td>\n",
       "      <td>28.642668</td>\n",
       "    </tr>\n",
       "    <tr>\n",
       "      <td>3</td>\n",
       "      <td>2016-01-11 17:30:00</td>\n",
       "      <td>50</td>\n",
       "      <td>40</td>\n",
       "      <td>19.890000</td>\n",
       "      <td>46.066667</td>\n",
       "      <td>19.200000</td>\n",
       "      <td>44.590000</td>\n",
       "      <td>19.790000</td>\n",
       "      <td>45.000000</td>\n",
       "      <td>18.890000</td>\n",
       "      <td>...</td>\n",
       "      <td>17.000000</td>\n",
       "      <td>45.4000</td>\n",
       "      <td>6.250000</td>\n",
       "      <td>733.8</td>\n",
       "      <td>92.000000</td>\n",
       "      <td>6.000000</td>\n",
       "      <td>51.500000</td>\n",
       "      <td>5.000000</td>\n",
       "      <td>45.410389</td>\n",
       "      <td>45.410389</td>\n",
       "    </tr>\n",
       "    <tr>\n",
       "      <td>4</td>\n",
       "      <td>2016-01-11 17:40:00</td>\n",
       "      <td>60</td>\n",
       "      <td>40</td>\n",
       "      <td>19.890000</td>\n",
       "      <td>46.333333</td>\n",
       "      <td>19.200000</td>\n",
       "      <td>44.530000</td>\n",
       "      <td>19.790000</td>\n",
       "      <td>45.000000</td>\n",
       "      <td>18.890000</td>\n",
       "      <td>...</td>\n",
       "      <td>17.000000</td>\n",
       "      <td>45.4000</td>\n",
       "      <td>6.133333</td>\n",
       "      <td>733.9</td>\n",
       "      <td>92.000000</td>\n",
       "      <td>5.666667</td>\n",
       "      <td>47.666667</td>\n",
       "      <td>4.900000</td>\n",
       "      <td>10.084097</td>\n",
       "      <td>10.084097</td>\n",
       "    </tr>\n",
       "    <tr>\n",
       "      <td>...</td>\n",
       "      <td>...</td>\n",
       "      <td>...</td>\n",
       "      <td>...</td>\n",
       "      <td>...</td>\n",
       "      <td>...</td>\n",
       "      <td>...</td>\n",
       "      <td>...</td>\n",
       "      <td>...</td>\n",
       "      <td>...</td>\n",
       "      <td>...</td>\n",
       "      <td>...</td>\n",
       "      <td>...</td>\n",
       "      <td>...</td>\n",
       "      <td>...</td>\n",
       "      <td>...</td>\n",
       "      <td>...</td>\n",
       "      <td>...</td>\n",
       "      <td>...</td>\n",
       "      <td>...</td>\n",
       "      <td>...</td>\n",
       "      <td>...</td>\n",
       "    </tr>\n",
       "    <tr>\n",
       "      <td>19730</td>\n",
       "      <td>2016-05-27 17:20:00</td>\n",
       "      <td>100</td>\n",
       "      <td>0</td>\n",
       "      <td>25.566667</td>\n",
       "      <td>46.560000</td>\n",
       "      <td>25.890000</td>\n",
       "      <td>42.025714</td>\n",
       "      <td>27.200000</td>\n",
       "      <td>41.163333</td>\n",
       "      <td>24.700000</td>\n",
       "      <td>...</td>\n",
       "      <td>23.200000</td>\n",
       "      <td>46.7900</td>\n",
       "      <td>22.733333</td>\n",
       "      <td>755.2</td>\n",
       "      <td>55.666667</td>\n",
       "      <td>3.333333</td>\n",
       "      <td>23.666667</td>\n",
       "      <td>13.333333</td>\n",
       "      <td>43.096812</td>\n",
       "      <td>43.096812</td>\n",
       "    </tr>\n",
       "    <tr>\n",
       "      <td>19731</td>\n",
       "      <td>2016-05-27 17:30:00</td>\n",
       "      <td>90</td>\n",
       "      <td>0</td>\n",
       "      <td>25.500000</td>\n",
       "      <td>46.500000</td>\n",
       "      <td>25.754000</td>\n",
       "      <td>42.080000</td>\n",
       "      <td>27.133333</td>\n",
       "      <td>41.223333</td>\n",
       "      <td>24.700000</td>\n",
       "      <td>...</td>\n",
       "      <td>23.200000</td>\n",
       "      <td>46.7900</td>\n",
       "      <td>22.600000</td>\n",
       "      <td>755.2</td>\n",
       "      <td>56.000000</td>\n",
       "      <td>3.500000</td>\n",
       "      <td>24.500000</td>\n",
       "      <td>13.300000</td>\n",
       "      <td>49.282940</td>\n",
       "      <td>49.282940</td>\n",
       "    </tr>\n",
       "    <tr>\n",
       "      <td>19732</td>\n",
       "      <td>2016-05-27 17:40:00</td>\n",
       "      <td>270</td>\n",
       "      <td>10</td>\n",
       "      <td>25.500000</td>\n",
       "      <td>46.596667</td>\n",
       "      <td>25.628571</td>\n",
       "      <td>42.768571</td>\n",
       "      <td>27.050000</td>\n",
       "      <td>41.690000</td>\n",
       "      <td>24.700000</td>\n",
       "      <td>...</td>\n",
       "      <td>23.200000</td>\n",
       "      <td>46.7900</td>\n",
       "      <td>22.466667</td>\n",
       "      <td>755.2</td>\n",
       "      <td>56.333333</td>\n",
       "      <td>3.666667</td>\n",
       "      <td>25.333333</td>\n",
       "      <td>13.266667</td>\n",
       "      <td>29.199117</td>\n",
       "      <td>29.199117</td>\n",
       "    </tr>\n",
       "    <tr>\n",
       "      <td>19733</td>\n",
       "      <td>2016-05-27 17:50:00</td>\n",
       "      <td>420</td>\n",
       "      <td>10</td>\n",
       "      <td>25.500000</td>\n",
       "      <td>46.990000</td>\n",
       "      <td>25.414000</td>\n",
       "      <td>43.036000</td>\n",
       "      <td>26.890000</td>\n",
       "      <td>41.290000</td>\n",
       "      <td>24.700000</td>\n",
       "      <td>...</td>\n",
       "      <td>23.200000</td>\n",
       "      <td>46.8175</td>\n",
       "      <td>22.333333</td>\n",
       "      <td>755.2</td>\n",
       "      <td>56.666667</td>\n",
       "      <td>3.833333</td>\n",
       "      <td>26.166667</td>\n",
       "      <td>13.233333</td>\n",
       "      <td>6.322784</td>\n",
       "      <td>6.322784</td>\n",
       "    </tr>\n",
       "    <tr>\n",
       "      <td>19734</td>\n",
       "      <td>2016-05-27 18:00:00</td>\n",
       "      <td>430</td>\n",
       "      <td>10</td>\n",
       "      <td>25.500000</td>\n",
       "      <td>46.600000</td>\n",
       "      <td>25.264286</td>\n",
       "      <td>42.971429</td>\n",
       "      <td>26.823333</td>\n",
       "      <td>41.156667</td>\n",
       "      <td>24.700000</td>\n",
       "      <td>...</td>\n",
       "      <td>23.200000</td>\n",
       "      <td>46.8450</td>\n",
       "      <td>22.200000</td>\n",
       "      <td>755.2</td>\n",
       "      <td>57.000000</td>\n",
       "      <td>4.000000</td>\n",
       "      <td>27.000000</td>\n",
       "      <td>13.200000</td>\n",
       "      <td>34.118851</td>\n",
       "      <td>34.118851</td>\n",
       "    </tr>\n",
       "  </tbody>\n",
       "</table>\n",
       "<p>19735 rows × 29 columns</p>\n",
       "</div>"
      ],
      "text/plain": [
       "                      date  Appliances  lights         T1       RH_1  \\\n",
       "0      2016-01-11 17:00:00          60      30  19.890000  47.596667   \n",
       "1      2016-01-11 17:10:00          60      30  19.890000  46.693333   \n",
       "2      2016-01-11 17:20:00          50      30  19.890000  46.300000   \n",
       "3      2016-01-11 17:30:00          50      40  19.890000  46.066667   \n",
       "4      2016-01-11 17:40:00          60      40  19.890000  46.333333   \n",
       "...                    ...         ...     ...        ...        ...   \n",
       "19730  2016-05-27 17:20:00         100       0  25.566667  46.560000   \n",
       "19731  2016-05-27 17:30:00          90       0  25.500000  46.500000   \n",
       "19732  2016-05-27 17:40:00         270      10  25.500000  46.596667   \n",
       "19733  2016-05-27 17:50:00         420      10  25.500000  46.990000   \n",
       "19734  2016-05-27 18:00:00         430      10  25.500000  46.600000   \n",
       "\n",
       "              T2       RH_2         T3       RH_3         T4  ...         T9  \\\n",
       "0      19.200000  44.790000  19.790000  44.730000  19.000000  ...  17.033333   \n",
       "1      19.200000  44.722500  19.790000  44.790000  19.000000  ...  17.066667   \n",
       "2      19.200000  44.626667  19.790000  44.933333  18.926667  ...  17.000000   \n",
       "3      19.200000  44.590000  19.790000  45.000000  18.890000  ...  17.000000   \n",
       "4      19.200000  44.530000  19.790000  45.000000  18.890000  ...  17.000000   \n",
       "...          ...        ...        ...        ...        ...  ...        ...   \n",
       "19730  25.890000  42.025714  27.200000  41.163333  24.700000  ...  23.200000   \n",
       "19731  25.754000  42.080000  27.133333  41.223333  24.700000  ...  23.200000   \n",
       "19732  25.628571  42.768571  27.050000  41.690000  24.700000  ...  23.200000   \n",
       "19733  25.414000  43.036000  26.890000  41.290000  24.700000  ...  23.200000   \n",
       "19734  25.264286  42.971429  26.823333  41.156667  24.700000  ...  23.200000   \n",
       "\n",
       "          RH_9      T_out  Press_mm_hg     RH_out  Windspeed  Visibility  \\\n",
       "0      45.5300   6.600000        733.5  92.000000   7.000000   63.000000   \n",
       "1      45.5600   6.483333        733.6  92.000000   6.666667   59.166667   \n",
       "2      45.5000   6.366667        733.7  92.000000   6.333333   55.333333   \n",
       "3      45.4000   6.250000        733.8  92.000000   6.000000   51.500000   \n",
       "4      45.4000   6.133333        733.9  92.000000   5.666667   47.666667   \n",
       "...        ...        ...          ...        ...        ...         ...   \n",
       "19730  46.7900  22.733333        755.2  55.666667   3.333333   23.666667   \n",
       "19731  46.7900  22.600000        755.2  56.000000   3.500000   24.500000   \n",
       "19732  46.7900  22.466667        755.2  56.333333   3.666667   25.333333   \n",
       "19733  46.8175  22.333333        755.2  56.666667   3.833333   26.166667   \n",
       "19734  46.8450  22.200000        755.2  57.000000   4.000000   27.000000   \n",
       "\n",
       "       Tdewpoint        rv1        rv2  \n",
       "0       5.300000  13.275433  13.275433  \n",
       "1       5.200000  18.606195  18.606195  \n",
       "2       5.100000  28.642668  28.642668  \n",
       "3       5.000000  45.410389  45.410389  \n",
       "4       4.900000  10.084097  10.084097  \n",
       "...          ...        ...        ...  \n",
       "19730  13.333333  43.096812  43.096812  \n",
       "19731  13.300000  49.282940  49.282940  \n",
       "19732  13.266667  29.199117  29.199117  \n",
       "19733  13.233333   6.322784   6.322784  \n",
       "19734  13.200000  34.118851  34.118851  \n",
       "\n",
       "[19735 rows x 29 columns]"
      ]
     },
     "execution_count": 8,
     "metadata": {},
     "output_type": "execute_result"
    }
   ],
   "source": [
    "energy"
   ]
  },
  {
   "cell_type": "code",
   "execution_count": 9,
   "metadata": {
    "ExecuteTime": {
     "end_time": "2020-11-06T14:44:55.742657Z",
     "start_time": "2020-11-06T14:44:55.644958Z"
    }
   },
   "outputs": [
    {
     "data": {
      "text/html": [
       "<div>\n",
       "<style scoped>\n",
       "    .dataframe tbody tr th:only-of-type {\n",
       "        vertical-align: middle;\n",
       "    }\n",
       "\n",
       "    .dataframe tbody tr th {\n",
       "        vertical-align: top;\n",
       "    }\n",
       "\n",
       "    .dataframe thead th {\n",
       "        text-align: right;\n",
       "    }\n",
       "</style>\n",
       "<table border=\"1\" class=\"dataframe\">\n",
       "  <thead>\n",
       "    <tr style=\"text-align: right;\">\n",
       "      <th></th>\n",
       "      <th>Appliances</th>\n",
       "      <th>lights</th>\n",
       "      <th>T1</th>\n",
       "      <th>RH_1</th>\n",
       "      <th>T2</th>\n",
       "      <th>RH_2</th>\n",
       "      <th>T3</th>\n",
       "      <th>RH_3</th>\n",
       "      <th>T4</th>\n",
       "      <th>RH_4</th>\n",
       "      <th>...</th>\n",
       "      <th>T9</th>\n",
       "      <th>RH_9</th>\n",
       "      <th>T_out</th>\n",
       "      <th>Press_mm_hg</th>\n",
       "      <th>RH_out</th>\n",
       "      <th>Windspeed</th>\n",
       "      <th>Visibility</th>\n",
       "      <th>Tdewpoint</th>\n",
       "      <th>rv1</th>\n",
       "      <th>rv2</th>\n",
       "    </tr>\n",
       "  </thead>\n",
       "  <tbody>\n",
       "    <tr>\n",
       "      <td>count</td>\n",
       "      <td>19735.000000</td>\n",
       "      <td>19735.000000</td>\n",
       "      <td>19735.000000</td>\n",
       "      <td>19735.000000</td>\n",
       "      <td>19735.000000</td>\n",
       "      <td>19735.000000</td>\n",
       "      <td>19735.000000</td>\n",
       "      <td>19735.000000</td>\n",
       "      <td>19735.000000</td>\n",
       "      <td>19735.000000</td>\n",
       "      <td>...</td>\n",
       "      <td>19735.000000</td>\n",
       "      <td>19735.000000</td>\n",
       "      <td>19735.000000</td>\n",
       "      <td>19735.000000</td>\n",
       "      <td>19735.000000</td>\n",
       "      <td>19735.000000</td>\n",
       "      <td>19735.000000</td>\n",
       "      <td>19735.000000</td>\n",
       "      <td>19735.000000</td>\n",
       "      <td>19735.000000</td>\n",
       "    </tr>\n",
       "    <tr>\n",
       "      <td>mean</td>\n",
       "      <td>97.694958</td>\n",
       "      <td>3.801875</td>\n",
       "      <td>21.686571</td>\n",
       "      <td>40.259739</td>\n",
       "      <td>20.341219</td>\n",
       "      <td>40.420420</td>\n",
       "      <td>22.267611</td>\n",
       "      <td>39.242500</td>\n",
       "      <td>20.855335</td>\n",
       "      <td>39.026904</td>\n",
       "      <td>...</td>\n",
       "      <td>19.485828</td>\n",
       "      <td>41.552401</td>\n",
       "      <td>7.411665</td>\n",
       "      <td>755.522602</td>\n",
       "      <td>79.750418</td>\n",
       "      <td>4.039752</td>\n",
       "      <td>38.330834</td>\n",
       "      <td>3.760707</td>\n",
       "      <td>24.988033</td>\n",
       "      <td>24.988033</td>\n",
       "    </tr>\n",
       "    <tr>\n",
       "      <td>std</td>\n",
       "      <td>102.524891</td>\n",
       "      <td>7.935988</td>\n",
       "      <td>1.606066</td>\n",
       "      <td>3.979299</td>\n",
       "      <td>2.192974</td>\n",
       "      <td>4.069813</td>\n",
       "      <td>2.006111</td>\n",
       "      <td>3.254576</td>\n",
       "      <td>2.042884</td>\n",
       "      <td>4.341321</td>\n",
       "      <td>...</td>\n",
       "      <td>2.014712</td>\n",
       "      <td>4.151497</td>\n",
       "      <td>5.317409</td>\n",
       "      <td>7.399441</td>\n",
       "      <td>14.901088</td>\n",
       "      <td>2.451221</td>\n",
       "      <td>11.794719</td>\n",
       "      <td>4.194648</td>\n",
       "      <td>14.496634</td>\n",
       "      <td>14.496634</td>\n",
       "    </tr>\n",
       "    <tr>\n",
       "      <td>min</td>\n",
       "      <td>10.000000</td>\n",
       "      <td>0.000000</td>\n",
       "      <td>16.790000</td>\n",
       "      <td>27.023333</td>\n",
       "      <td>16.100000</td>\n",
       "      <td>20.463333</td>\n",
       "      <td>17.200000</td>\n",
       "      <td>28.766667</td>\n",
       "      <td>15.100000</td>\n",
       "      <td>27.660000</td>\n",
       "      <td>...</td>\n",
       "      <td>14.890000</td>\n",
       "      <td>29.166667</td>\n",
       "      <td>-5.000000</td>\n",
       "      <td>729.300000</td>\n",
       "      <td>24.000000</td>\n",
       "      <td>0.000000</td>\n",
       "      <td>1.000000</td>\n",
       "      <td>-6.600000</td>\n",
       "      <td>0.005322</td>\n",
       "      <td>0.005322</td>\n",
       "    </tr>\n",
       "    <tr>\n",
       "      <td>25%</td>\n",
       "      <td>50.000000</td>\n",
       "      <td>0.000000</td>\n",
       "      <td>20.760000</td>\n",
       "      <td>37.333333</td>\n",
       "      <td>18.790000</td>\n",
       "      <td>37.900000</td>\n",
       "      <td>20.790000</td>\n",
       "      <td>36.900000</td>\n",
       "      <td>19.530000</td>\n",
       "      <td>35.530000</td>\n",
       "      <td>...</td>\n",
       "      <td>18.000000</td>\n",
       "      <td>38.500000</td>\n",
       "      <td>3.666667</td>\n",
       "      <td>750.933333</td>\n",
       "      <td>70.333333</td>\n",
       "      <td>2.000000</td>\n",
       "      <td>29.000000</td>\n",
       "      <td>0.900000</td>\n",
       "      <td>12.497889</td>\n",
       "      <td>12.497889</td>\n",
       "    </tr>\n",
       "    <tr>\n",
       "      <td>50%</td>\n",
       "      <td>60.000000</td>\n",
       "      <td>0.000000</td>\n",
       "      <td>21.600000</td>\n",
       "      <td>39.656667</td>\n",
       "      <td>20.000000</td>\n",
       "      <td>40.500000</td>\n",
       "      <td>22.100000</td>\n",
       "      <td>38.530000</td>\n",
       "      <td>20.666667</td>\n",
       "      <td>38.400000</td>\n",
       "      <td>...</td>\n",
       "      <td>19.390000</td>\n",
       "      <td>40.900000</td>\n",
       "      <td>6.916667</td>\n",
       "      <td>756.100000</td>\n",
       "      <td>83.666667</td>\n",
       "      <td>3.666667</td>\n",
       "      <td>40.000000</td>\n",
       "      <td>3.433333</td>\n",
       "      <td>24.897653</td>\n",
       "      <td>24.897653</td>\n",
       "    </tr>\n",
       "    <tr>\n",
       "      <td>75%</td>\n",
       "      <td>100.000000</td>\n",
       "      <td>0.000000</td>\n",
       "      <td>22.600000</td>\n",
       "      <td>43.066667</td>\n",
       "      <td>21.500000</td>\n",
       "      <td>43.260000</td>\n",
       "      <td>23.290000</td>\n",
       "      <td>41.760000</td>\n",
       "      <td>22.100000</td>\n",
       "      <td>42.156667</td>\n",
       "      <td>...</td>\n",
       "      <td>20.600000</td>\n",
       "      <td>44.338095</td>\n",
       "      <td>10.408333</td>\n",
       "      <td>760.933333</td>\n",
       "      <td>91.666667</td>\n",
       "      <td>5.500000</td>\n",
       "      <td>40.000000</td>\n",
       "      <td>6.566667</td>\n",
       "      <td>37.583769</td>\n",
       "      <td>37.583769</td>\n",
       "    </tr>\n",
       "    <tr>\n",
       "      <td>max</td>\n",
       "      <td>1080.000000</td>\n",
       "      <td>70.000000</td>\n",
       "      <td>26.260000</td>\n",
       "      <td>63.360000</td>\n",
       "      <td>29.856667</td>\n",
       "      <td>56.026667</td>\n",
       "      <td>29.236000</td>\n",
       "      <td>50.163333</td>\n",
       "      <td>26.200000</td>\n",
       "      <td>51.090000</td>\n",
       "      <td>...</td>\n",
       "      <td>24.500000</td>\n",
       "      <td>53.326667</td>\n",
       "      <td>26.100000</td>\n",
       "      <td>772.300000</td>\n",
       "      <td>100.000000</td>\n",
       "      <td>14.000000</td>\n",
       "      <td>66.000000</td>\n",
       "      <td>15.500000</td>\n",
       "      <td>49.996530</td>\n",
       "      <td>49.996530</td>\n",
       "    </tr>\n",
       "  </tbody>\n",
       "</table>\n",
       "<p>8 rows × 28 columns</p>\n",
       "</div>"
      ],
      "text/plain": [
       "         Appliances        lights            T1          RH_1            T2  \\\n",
       "count  19735.000000  19735.000000  19735.000000  19735.000000  19735.000000   \n",
       "mean      97.694958      3.801875     21.686571     40.259739     20.341219   \n",
       "std      102.524891      7.935988      1.606066      3.979299      2.192974   \n",
       "min       10.000000      0.000000     16.790000     27.023333     16.100000   \n",
       "25%       50.000000      0.000000     20.760000     37.333333     18.790000   \n",
       "50%       60.000000      0.000000     21.600000     39.656667     20.000000   \n",
       "75%      100.000000      0.000000     22.600000     43.066667     21.500000   \n",
       "max     1080.000000     70.000000     26.260000     63.360000     29.856667   \n",
       "\n",
       "               RH_2            T3          RH_3            T4          RH_4  \\\n",
       "count  19735.000000  19735.000000  19735.000000  19735.000000  19735.000000   \n",
       "mean      40.420420     22.267611     39.242500     20.855335     39.026904   \n",
       "std        4.069813      2.006111      3.254576      2.042884      4.341321   \n",
       "min       20.463333     17.200000     28.766667     15.100000     27.660000   \n",
       "25%       37.900000     20.790000     36.900000     19.530000     35.530000   \n",
       "50%       40.500000     22.100000     38.530000     20.666667     38.400000   \n",
       "75%       43.260000     23.290000     41.760000     22.100000     42.156667   \n",
       "max       56.026667     29.236000     50.163333     26.200000     51.090000   \n",
       "\n",
       "       ...            T9          RH_9         T_out   Press_mm_hg  \\\n",
       "count  ...  19735.000000  19735.000000  19735.000000  19735.000000   \n",
       "mean   ...     19.485828     41.552401      7.411665    755.522602   \n",
       "std    ...      2.014712      4.151497      5.317409      7.399441   \n",
       "min    ...     14.890000     29.166667     -5.000000    729.300000   \n",
       "25%    ...     18.000000     38.500000      3.666667    750.933333   \n",
       "50%    ...     19.390000     40.900000      6.916667    756.100000   \n",
       "75%    ...     20.600000     44.338095     10.408333    760.933333   \n",
       "max    ...     24.500000     53.326667     26.100000    772.300000   \n",
       "\n",
       "             RH_out     Windspeed    Visibility     Tdewpoint           rv1  \\\n",
       "count  19735.000000  19735.000000  19735.000000  19735.000000  19735.000000   \n",
       "mean      79.750418      4.039752     38.330834      3.760707     24.988033   \n",
       "std       14.901088      2.451221     11.794719      4.194648     14.496634   \n",
       "min       24.000000      0.000000      1.000000     -6.600000      0.005322   \n",
       "25%       70.333333      2.000000     29.000000      0.900000     12.497889   \n",
       "50%       83.666667      3.666667     40.000000      3.433333     24.897653   \n",
       "75%       91.666667      5.500000     40.000000      6.566667     37.583769   \n",
       "max      100.000000     14.000000     66.000000     15.500000     49.996530   \n",
       "\n",
       "                rv2  \n",
       "count  19735.000000  \n",
       "mean      24.988033  \n",
       "std       14.496634  \n",
       "min        0.005322  \n",
       "25%       12.497889  \n",
       "50%       24.897653  \n",
       "75%       37.583769  \n",
       "max       49.996530  \n",
       "\n",
       "[8 rows x 28 columns]"
      ]
     },
     "execution_count": 9,
     "metadata": {},
     "output_type": "execute_result"
    }
   ],
   "source": [
    "energy.describe()"
   ]
  },
  {
   "cell_type": "code",
   "execution_count": 10,
   "metadata": {
    "ExecuteTime": {
     "end_time": "2020-11-06T14:44:55.764804Z",
     "start_time": "2020-11-06T14:44:55.743962Z"
    }
   },
   "outputs": [
    {
     "data": {
      "text/plain": [
       "array([['2016-01-11 17:00:00', 60, 30, ..., 5.3, 13.275433157105,\n",
       "        13.275433157105],\n",
       "       ['2016-01-11 17:10:00', 60, 30, ..., 5.2, 18.606194981839508,\n",
       "        18.606194981839508],\n",
       "       ['2016-01-11 17:20:00', 50, 30, ..., 5.1, 28.64266816759482,\n",
       "        28.64266816759482],\n",
       "       ...,\n",
       "       ['2016-05-27 17:40:00', 270, 10, ..., 13.266666666666698,\n",
       "        29.19911708449945, 29.19911708449945],\n",
       "       ['2016-05-27 17:50:00', 420, 10, ..., 13.233333333333302,\n",
       "        6.322783650830388, 6.322783650830388],\n",
       "       ['2016-05-27 18:00:00', 430, 10, ..., 13.2, 34.11885058740153,\n",
       "        34.11885058740153]], dtype=object)"
      ]
     },
     "execution_count": 10,
     "metadata": {},
     "output_type": "execute_result"
    }
   ],
   "source": [
    "energy.values"
   ]
  },
  {
   "cell_type": "code",
   "execution_count": 11,
   "metadata": {
    "ExecuteTime": {
     "end_time": "2020-11-06T14:44:55.828035Z",
     "start_time": "2020-11-06T14:44:55.766468Z"
    }
   },
   "outputs": [
    {
     "data": {
      "text/plain": [
       "array([ 19.89      ,  47.59666667,  19.2       ,  44.79      ,\n",
       "        19.79      ,  44.73      ,  19.        ,  45.56666667,\n",
       "        17.16666667,  55.2       ,   7.02666667,  84.25666667,\n",
       "        17.2       ,  41.62666667,  18.2       ,  48.9       ,\n",
       "        17.03333333,  45.53      ,   6.6       , 733.5       ,\n",
       "        92.        ,   7.        ,  63.        ,   5.3       ])"
      ]
     },
     "execution_count": 11,
     "metadata": {},
     "output_type": "execute_result"
    }
   ],
   "source": [
    "X = energy.values[:, 3:-2].astype(np.double)\n",
    "T = energy.values[:, 1:3].astype(np.double)\n",
    "X[0]"
   ]
  },
  {
   "cell_type": "code",
   "execution_count": 12,
   "metadata": {
    "ExecuteTime": {
     "end_time": "2020-11-06T14:44:55.833656Z",
     "start_time": "2020-11-06T14:44:55.829191Z"
    }
   },
   "outputs": [
    {
     "data": {
      "text/plain": [
       "(['T1',\n",
       "  'RH_1',\n",
       "  'T2',\n",
       "  'RH_2',\n",
       "  'T3',\n",
       "  'RH_3',\n",
       "  'T4',\n",
       "  'RH_4',\n",
       "  'T5',\n",
       "  'RH_5',\n",
       "  'T6',\n",
       "  'RH_6',\n",
       "  'T7',\n",
       "  'RH_7',\n",
       "  'T8',\n",
       "  'RH_8',\n",
       "  'T9',\n",
       "  'RH_9',\n",
       "  'T_out',\n",
       "  'Press_mm_hg',\n",
       "  'RH_out',\n",
       "  'Windspeed',\n",
       "  'Visibility',\n",
       "  'Tdewpoint'],\n",
       " ['Appliances', 'lights'])"
      ]
     },
     "execution_count": 12,
     "metadata": {},
     "output_type": "execute_result"
    }
   ],
   "source": [
    "Xnames = energy.iloc[:, 3:-2].columns.values.tolist()\n",
    "Tnames = energy.iloc[:, 1:3].columns.values.tolist()\n",
    "Xnames, Tnames"
   ]
  },
  {
   "cell_type": "markdown",
   "metadata": {},
   "source": [
    "Randomly partition the data into 80% for training and 20% for testing, using the following code cells."
   ]
  },
  {
   "cell_type": "code",
   "execution_count": 13,
   "metadata": {
    "ExecuteTime": {
     "end_time": "2020-11-06T14:44:55.937062Z",
     "start_time": "2020-11-06T14:44:55.934377Z"
    }
   },
   "outputs": [
    {
     "data": {
      "text/plain": [
       "15788"
      ]
     },
     "execution_count": 13,
     "metadata": {},
     "output_type": "execute_result"
    }
   ],
   "source": [
    "n_train = int(X.shape[0] * 0.8)\n",
    "n_train"
   ]
  },
  {
   "cell_type": "code",
   "execution_count": 14,
   "metadata": {
    "ExecuteTime": {
     "end_time": "2020-11-06T14:44:56.272334Z",
     "start_time": "2020-11-06T14:44:56.265436Z"
    }
   },
   "outputs": [
    {
     "data": {
      "text/plain": [
       "array([17794,  7613, 13933, ..., 15286,  1131, 11154])"
      ]
     },
     "execution_count": 14,
     "metadata": {},
     "output_type": "execute_result"
    }
   ],
   "source": [
    "# randomly shuffle samples\n",
    "rows = np.arange(X.shape[0])\n",
    "np.random.shuffle(rows)\n",
    "rows"
   ]
  },
  {
   "cell_type": "code",
   "execution_count": 15,
   "metadata": {
    "ExecuteTime": {
     "end_time": "2020-11-06T14:44:56.621373Z",
     "start_time": "2020-11-06T14:44:56.598269Z"
    }
   },
   "outputs": [
    {
     "data": {
      "text/plain": [
       "((15788, 24), (15788, 2), (3947, 24), (3947, 2))"
      ]
     },
     "execution_count": 15,
     "metadata": {},
     "output_type": "execute_result"
    }
   ],
   "source": [
    "Xtrain = X[rows[:n_train], :]\n",
    "Ttrain = T[rows[:n_train], :]\n",
    "\n",
    "Xtest = X[rows[n_train:], :]\n",
    "Ttest = T[rows[n_train:], :]\n",
    "\n",
    "Xmean = Xtrain.mean(axis=0)\n",
    "Xstd = Xtrain.std(axis=0)\n",
    "\n",
    "Xtrain = (Xtrain - Xmean) / Xstd\n",
    "Xtest = (Xtest - Xmean) / Xstd\n",
    "\n",
    "Xtrain.shape, Ttrain.shape, Xtest.shape, Ttest.shape"
   ]
  },
  {
   "cell_type": "markdown",
   "metadata": {},
   "source": [
    "Use at least four calls to `train_for_regression` for four different hidden-layer structures. Include `[]` to test a linear model without hidden layers.  For each one, use 1,000 epochs and a learning rate of 0.01. Plot the resulting `error_trace` for each result.\n",
    "\n",
    "For each trained network, call `rmse` to provide the RMSE for the trained network applied to the training data, and again for the testing data.  Create and show a `pandas.DataFrame` that combines these results. **Discuss the values in the table and how they relate to the hidden layer structures. Use at least five sentences.**  Here is an example of what your `DataFrame` should look like.  The RMSE values given are not real results. Your RMSE values may have more digits of precision."
   ]
  },
  {
   "cell_type": "code",
   "execution_count": 16,
   "metadata": {},
   "outputs": [],
   "source": [
    "#nnet: the trained neural network model\n",
    "#error_trace: list of MSE value for each epoch\n",
    "#nnet, error_trace = train_for_regression(X, T, hidden_layers, n_epochs, learning_rate)\n",
    "nnet1, error_trace1 = train_for_regression(Xtrain, Ttrain, [], 1000, 0.01)\n",
    "nnet2, error_trace2 = train_for_regression(Xtrain, Ttrain, [10], 1000, 0.01)\n",
    "nnet3, error_trace3 = train_for_regression(Xtrain, Ttrain, [100], 1000, 0.01)\n",
    "nnet4, error_trace4 = train_for_regression(Xtrain, Ttrain, [300], 1000, 0.01)\n",
    "nnet5, error_trace5 = train_for_regression(Xtrain, Ttrain, [200, 100], 1000, 0.01)\n",
    "nnet6, error_trace6 = train_for_regression(Xtrain, Ttrain, [300, 200], 1000, 0.01)\n",
    "nnet7, error_trace7 = train_for_regression(Xtrain, Ttrain, [100, 50, 50], 1000, 0.01)\n",
    "nnet8, error_trace8 = train_for_regression(Xtrain, Ttrain, [200, 75, 75], 1000, 0.01)\n",
    "nnet9, error_trace9 = train_for_regression(Xtrain, Ttrain, [150, 125, 100, 75], 1000, 0.01)\n",
    "#use use(nnet, Xtest) to use network\n",
    "Ytrain1 = use(nnet1, Xtrain)\n",
    "Ytrain2 = use(nnet2, Xtrain)\n",
    "Ytrain3 = use(nnet3, Xtrain)\n",
    "Ytrain4 = use(nnet4, Xtrain)\n",
    "Ytrain5 = use(nnet5, Xtrain)\n",
    "Ytrain6 = use(nnet6, Xtrain)\n",
    "Ytrain7 = use(nnet7, Xtrain)\n",
    "Ytrain8 = use(nnet8, Xtrain)\n",
    "Ytrain9 = use(nnet9, Xtrain)\n",
    "Ytest1 = use(nnet1, Xtest)\n",
    "Ytest2 = use(nnet2, Xtest)\n",
    "Ytest3 = use(nnet3, Xtest)\n",
    "Ytest4 = use(nnet4, Xtest)\n",
    "Ytest5 = use(nnet5, Xtest)\n",
    "Ytest6 = use(nnet6, Xtest)\n",
    "Ytest7 = use(nnet7, Xtest)\n",
    "Ytest8 = use(nnet8, Xtest)\n",
    "Ytest9 = use(nnet9, Xtest)"
   ]
  },
  {
   "cell_type": "code",
   "execution_count": 17,
   "metadata": {},
   "outputs": [
    {
     "data": {
      "text/plain": [
       "<matplotlib.legend.Legend at 0x189312f3dc8>"
      ]
     },
     "execution_count": 17,
     "metadata": {},
     "output_type": "execute_result"
    },
    {
     "data": {
      "image/png": "[encoded data removed]",
      "text/plain": [
       "<Figure size 432x288 with 1 Axes>"
      ]
     },
     "metadata": {
      "needs_background": "light"
     },
     "output_type": "display_data"
    }
   ],
   "source": [
    "epoch = 1000\n",
    "plt.plot(error_trace1[:epoch], label='[]')\n",
    "plt.plot(error_trace2[:epoch], label='[10]')\n",
    "plt.plot(error_trace3[:epoch], label='[100]')\n",
    "plt.plot(error_trace4[:epoch], label='[300]')\n",
    "plt.plot(error_trace5[:epoch], label='[200,100]')\n",
    "plt.plot(error_trace6[:epoch], label='[300,200]')\n",
    "plt.plot(error_trace7[:epoch], label='[100,50,50]')\n",
    "plt.plot(error_trace8[:epoch], label='[200,75,75]')\n",
    "plt.plot(error_trace9[:epoch], label='[150,125,100,75]')\n",
    "plt.xlabel(\"Epochs\")\n",
    "plt.ylabel(\"RMSE\")\n",
    "plt.legend()"
   ]
  },
  {
   "cell_type": "code",
   "execution_count": 18,
   "metadata": {},
   "outputs": [
    {
     "data": {
      "text/html": [
       "<div>\n",
       "<style scoped>\n",
       "    .dataframe tbody tr th:only-of-type {\n",
       "        vertical-align: middle;\n",
       "    }\n",
       "\n",
       "    .dataframe tbody tr th {\n",
       "        vertical-align: top;\n",
       "    }\n",
       "\n",
       "    .dataframe thead th {\n",
       "        text-align: right;\n",
       "    }\n",
       "</style>\n",
       "<table border=\"1\" class=\"dataframe\">\n",
       "  <thead>\n",
       "    <tr style=\"text-align: right;\">\n",
       "      <th></th>\n",
       "      <th>Hidden Layers</th>\n",
       "      <th>RMSE Train</th>\n",
       "      <th>RMSE Test</th>\n",
       "    </tr>\n",
       "  </thead>\n",
       "  <tbody>\n",
       "    <tr>\n",
       "      <td>0</td>\n",
       "      <td>[]</td>\n",
       "      <td>93.594250</td>\n",
       "      <td>91.952603</td>\n",
       "    </tr>\n",
       "    <tr>\n",
       "      <td>1</td>\n",
       "      <td>[10]</td>\n",
       "      <td>71.590520</td>\n",
       "      <td>69.642916</td>\n",
       "    </tr>\n",
       "    <tr>\n",
       "      <td>2</td>\n",
       "      <td>[100]</td>\n",
       "      <td>57.507182</td>\n",
       "      <td>57.640072</td>\n",
       "    </tr>\n",
       "    <tr>\n",
       "      <td>3</td>\n",
       "      <td>[300]</td>\n",
       "      <td>46.661590</td>\n",
       "      <td>52.189980</td>\n",
       "    </tr>\n",
       "    <tr>\n",
       "      <td>4</td>\n",
       "      <td>[200, 100]</td>\n",
       "      <td>45.670119</td>\n",
       "      <td>51.704979</td>\n",
       "    </tr>\n",
       "    <tr>\n",
       "      <td>5</td>\n",
       "      <td>[300, 200]</td>\n",
       "      <td>41.104129</td>\n",
       "      <td>51.812195</td>\n",
       "    </tr>\n",
       "    <tr>\n",
       "      <td>6</td>\n",
       "      <td>[100, 50, 50]</td>\n",
       "      <td>59.931802</td>\n",
       "      <td>59.996791</td>\n",
       "    </tr>\n",
       "    <tr>\n",
       "      <td>7</td>\n",
       "      <td>[200, 75, 75]</td>\n",
       "      <td>65.999695</td>\n",
       "      <td>64.717076</td>\n",
       "    </tr>\n",
       "    <tr>\n",
       "      <td>8</td>\n",
       "      <td>[150, 125, 100, 75]</td>\n",
       "      <td>73.074155</td>\n",
       "      <td>71.240575</td>\n",
       "    </tr>\n",
       "  </tbody>\n",
       "</table>\n",
       "</div>"
      ],
      "text/plain": [
       "         Hidden Layers  RMSE Train  RMSE Test\n",
       "0                   []   93.594250  91.952603\n",
       "1                 [10]   71.590520  69.642916\n",
       "2                [100]   57.507182  57.640072\n",
       "3                [300]   46.661590  52.189980\n",
       "4           [200, 100]   45.670119  51.704979\n",
       "5           [300, 200]   41.104129  51.812195\n",
       "6        [100, 50, 50]   59.931802  59.996791\n",
       "7        [200, 75, 75]   65.999695  64.717076\n",
       "8  [150, 125, 100, 75]   73.074155  71.240575"
      ]
     },
     "execution_count": 18,
     "metadata": {},
     "output_type": "execute_result"
    }
   ],
   "source": [
    "results = []\n",
    "results.append([[],rmse(Ytrain1,Ttrain),rmse(Ytest1,Ttest)])\n",
    "results.append([[10],rmse(Ytrain2,Ttrain),rmse(Ytest2,Ttest)])\n",
    "results.append([[100],rmse(Ytrain3,Ttrain),rmse(Ytest3,Ttest)])\n",
    "results.append([[300],rmse(Ytrain4,Ttrain),rmse(Ytest4,Ttest)])\n",
    "results.append([[200, 100],rmse(Ytrain5,Ttrain),rmse(Ytest5,Ttest)])\n",
    "results.append([[300, 200],rmse(Ytrain6,Ttrain),rmse(Ytest6,Ttest)])\n",
    "results.append([[100,50,50],rmse(Ytrain7,Ttrain),rmse(Ytest7,Ttest)])\n",
    "results.append([[200,75,75],rmse(Ytrain8,Ttrain),rmse(Ytest8,Ttest)])\n",
    "results.append([[150,125,100,75],rmse(Ytrain9,Ttrain),rmse(Ytest9,Ttest)])\n",
    "df = pd.DataFrame(results, columns=(\"Hidden Layers\", \"RMSE Train\", \"RMSE Test\"))\n",
    "df"
   ]
  },
  {
   "cell_type": "markdown",
   "metadata": {},
   "source": [
    "# Discussion of train_for_regression\n",
    "\n",
    "For my testing of train_for_regression I ran tests using a total of 9 different hidden layer structures, as shown above.  For a network with no hidden layers, I saw a linear decrease in RMSE across epochs, as expected, with an ending test RMSE of 91.953.  Upon adding one hidden layer of [10] I observed a sharp decrease in RMSE, ending with a test RMSE of 69.643.  For some of my tests I observed a decrease in RMSE as the hidden layer sizes increased and more hidden layers were added.  This trend was observed with hidden layers of [10], [100], [300], [200, 100], and [300, 200].  After this point, however, adding more hidden layers actually increased the RMSE test values, with hidden layers of [100, 50, 50], [200, 75, 75] and [150, 125, 100, 75] all having increased test RMSE over the previous hidden layers.  Overall, it was a network with a hidden layer structure of [200, 100] which gave me the lowest test RMSE value, which was 51.705.  As such, it can be seen that adding more hidden layers of larger sizes can result in decreased test RMSE to a certain point, but adding overly many large hidden layers can actually result in higher test RMSE values.  As is noted in the code cells above, my train_for_regression function was adapted from lecture notes 21."
   ]
  },
  {
   "cell_type": "code",
   "execution_count": 19,
   "metadata": {
    "ExecuteTime": {
     "end_time": "2020-11-06T14:44:57.671275Z",
     "start_time": "2020-11-06T14:44:57.663584Z"
    }
   },
   "outputs": [
    {
     "data": {
      "text/html": [
       "<div>\n",
       "<style scoped>\n",
       "    .dataframe tbody tr th:only-of-type {\n",
       "        vertical-align: middle;\n",
       "    }\n",
       "\n",
       "    .dataframe tbody tr th {\n",
       "        vertical-align: top;\n",
       "    }\n",
       "\n",
       "    .dataframe thead th {\n",
       "        text-align: right;\n",
       "    }\n",
       "</style>\n",
       "<table border=\"1\" class=\"dataframe\">\n",
       "  <thead>\n",
       "    <tr style=\"text-align: right;\">\n",
       "      <th></th>\n",
       "      <th>Hidden Layers</th>\n",
       "      <th>RMSE Train</th>\n",
       "      <th>RMSE Test</th>\n",
       "    </tr>\n",
       "  </thead>\n",
       "  <tbody>\n",
       "    <tr>\n",
       "      <td>0</td>\n",
       "      <td>[]</td>\n",
       "      <td>12.3</td>\n",
       "      <td>14.4</td>\n",
       "    </tr>\n",
       "    <tr>\n",
       "      <td>1</td>\n",
       "      <td>[10]</td>\n",
       "      <td>11.2</td>\n",
       "      <td>52.2</td>\n",
       "    </tr>\n",
       "    <tr>\n",
       "      <td>2</td>\n",
       "      <td>[100]</td>\n",
       "      <td>8.2</td>\n",
       "      <td>22.2</td>\n",
       "    </tr>\n",
       "    <tr>\n",
       "      <td>3</td>\n",
       "      <td>[100, 50, 50]</td>\n",
       "      <td>65.2</td>\n",
       "      <td>42.1</td>\n",
       "    </tr>\n",
       "  </tbody>\n",
       "</table>\n",
       "</div>"
      ],
      "text/plain": [
       "   Hidden Layers  RMSE Train  RMSE Test\n",
       "0             []        12.3       14.4\n",
       "1           [10]        11.2       52.2\n",
       "2          [100]         8.2       22.2\n",
       "3  [100, 50, 50]        65.2       42.1"
      ]
     },
     "execution_count": 19,
     "metadata": {},
     "output_type": "execute_result"
    }
   ],
   "source": [
    "pd.DataFrame([[[], 12.3, 14.4], [[10], 11.2, 52.2], [[100], 8.2, 22.2], [[100, 50, 50], 65.2, 42.1]],\n",
    "            columns=('Hidden Layers', 'RMSE Train', 'RMSE Test'))"
   ]
  },
  {
   "cell_type": "markdown",
   "metadata": {},
   "source": [
    "# Classification Problem:  \"Is that a frog I hear?\"\n",
    "\n",
    "Apply your `train_for_classification` function to the following data.  Read about the data at [here at the UCI ML Repository](https://archive.ics.uci.edu/ml/datasets/Anuran+Calls+%28MFCCs%29)."
   ]
  },
  {
   "cell_type": "code",
   "execution_count": 20,
   "metadata": {
    "ExecuteTime": {
     "end_time": "2020-11-06T14:44:59.480655Z",
     "start_time": "2020-11-06T14:44:58.553450Z"
    }
   },
   "outputs": [
    {
     "name": "stdout",
     "output_type": "stream",
     "text": [
      "Reading data from 'frogs.csv'.\n"
     ]
    }
   ],
   "source": [
    "import requests, zipfile, io\n",
    "\n",
    "if os.path.isfile('frogs.csv'):\n",
    "    print('Reading data from \\'frogs.csv\\'.')\n",
    "    frogs = pd.read_csv('frogs.csv')\n",
    "else:\n",
    "    print('Downloading \\'Anuran Calls (MFccs).zip\\' from UCI ML Repository.')\n",
    "    r = requests.get('https://archive.ics.uci.edu/ml/machine-learning-databases/00406/Anuran Calls (MFCCs).zip')\n",
    "    z = zipfile.ZipFile(io.BytesIO(r.content))  # StringIO(r.content))\n",
    "    frogs = pd.read_csv(z.open('Frogs_MFCCs.csv'))  # read('Frogs_MFCCs.csv'))\n",
    "    print(f'Number rows in original data file {len(frogs)}.')\n",
    "    frogs = frogs.dropna(axis=0)\n",
    "    print(f'Number rows after dropping rows with missing values {len(frogs)}.')\n",
    "    frogs.to_csv('frogs.csv', index=False)  # so row numbers are not written to \n",
    "    print(f'Data saved to \\'frogs.csv\\'')"
   ]
  },
  {
   "cell_type": "code",
   "execution_count": 21,
   "metadata": {
    "ExecuteTime": {
     "end_time": "2020-11-06T14:44:59.511168Z",
     "start_time": "2020-11-06T14:44:59.481880Z"
    }
   },
   "outputs": [
    {
     "data": {
      "text/html": [
       "<div>\n",
       "<style scoped>\n",
       "    .dataframe tbody tr th:only-of-type {\n",
       "        vertical-align: middle;\n",
       "    }\n",
       "\n",
       "    .dataframe tbody tr th {\n",
       "        vertical-align: top;\n",
       "    }\n",
       "\n",
       "    .dataframe thead th {\n",
       "        text-align: right;\n",
       "    }\n",
       "</style>\n",
       "<table border=\"1\" class=\"dataframe\">\n",
       "  <thead>\n",
       "    <tr style=\"text-align: right;\">\n",
       "      <th></th>\n",
       "      <th>MFCCs_ 1</th>\n",
       "      <th>MFCCs_ 2</th>\n",
       "      <th>MFCCs_ 3</th>\n",
       "      <th>MFCCs_ 4</th>\n",
       "      <th>MFCCs_ 5</th>\n",
       "      <th>MFCCs_ 6</th>\n",
       "      <th>MFCCs_ 7</th>\n",
       "      <th>MFCCs_ 8</th>\n",
       "      <th>MFCCs_ 9</th>\n",
       "      <th>MFCCs_10</th>\n",
       "      <th>...</th>\n",
       "      <th>MFCCs_17</th>\n",
       "      <th>MFCCs_18</th>\n",
       "      <th>MFCCs_19</th>\n",
       "      <th>MFCCs_20</th>\n",
       "      <th>MFCCs_21</th>\n",
       "      <th>MFCCs_22</th>\n",
       "      <th>Family</th>\n",
       "      <th>Genus</th>\n",
       "      <th>Species</th>\n",
       "      <th>RecordID</th>\n",
       "    </tr>\n",
       "  </thead>\n",
       "  <tbody>\n",
       "    <tr>\n",
       "      <td>0</td>\n",
       "      <td>1.0</td>\n",
       "      <td>0.152936</td>\n",
       "      <td>-0.105586</td>\n",
       "      <td>0.200722</td>\n",
       "      <td>0.317201</td>\n",
       "      <td>0.260764</td>\n",
       "      <td>0.100945</td>\n",
       "      <td>-0.150063</td>\n",
       "      <td>-0.171128</td>\n",
       "      <td>0.124676</td>\n",
       "      <td>...</td>\n",
       "      <td>-0.108351</td>\n",
       "      <td>-0.077623</td>\n",
       "      <td>-0.009568</td>\n",
       "      <td>0.057684</td>\n",
       "      <td>0.118680</td>\n",
       "      <td>0.014038</td>\n",
       "      <td>Leptodactylidae</td>\n",
       "      <td>Adenomera</td>\n",
       "      <td>AdenomeraAndre</td>\n",
       "      <td>1</td>\n",
       "    </tr>\n",
       "    <tr>\n",
       "      <td>1</td>\n",
       "      <td>1.0</td>\n",
       "      <td>0.171534</td>\n",
       "      <td>-0.098975</td>\n",
       "      <td>0.268425</td>\n",
       "      <td>0.338672</td>\n",
       "      <td>0.268353</td>\n",
       "      <td>0.060835</td>\n",
       "      <td>-0.222475</td>\n",
       "      <td>-0.207693</td>\n",
       "      <td>0.170883</td>\n",
       "      <td>...</td>\n",
       "      <td>-0.090974</td>\n",
       "      <td>-0.056510</td>\n",
       "      <td>-0.035303</td>\n",
       "      <td>0.020140</td>\n",
       "      <td>0.082263</td>\n",
       "      <td>0.029056</td>\n",
       "      <td>Leptodactylidae</td>\n",
       "      <td>Adenomera</td>\n",
       "      <td>AdenomeraAndre</td>\n",
       "      <td>1</td>\n",
       "    </tr>\n",
       "    <tr>\n",
       "      <td>2</td>\n",
       "      <td>1.0</td>\n",
       "      <td>0.152317</td>\n",
       "      <td>-0.082973</td>\n",
       "      <td>0.287128</td>\n",
       "      <td>0.276014</td>\n",
       "      <td>0.189867</td>\n",
       "      <td>0.008714</td>\n",
       "      <td>-0.242234</td>\n",
       "      <td>-0.219153</td>\n",
       "      <td>0.232538</td>\n",
       "      <td>...</td>\n",
       "      <td>-0.050691</td>\n",
       "      <td>-0.023590</td>\n",
       "      <td>-0.066722</td>\n",
       "      <td>-0.025083</td>\n",
       "      <td>0.099108</td>\n",
       "      <td>0.077162</td>\n",
       "      <td>Leptodactylidae</td>\n",
       "      <td>Adenomera</td>\n",
       "      <td>AdenomeraAndre</td>\n",
       "      <td>1</td>\n",
       "    </tr>\n",
       "    <tr>\n",
       "      <td>3</td>\n",
       "      <td>1.0</td>\n",
       "      <td>0.224392</td>\n",
       "      <td>0.118985</td>\n",
       "      <td>0.329432</td>\n",
       "      <td>0.372088</td>\n",
       "      <td>0.361005</td>\n",
       "      <td>0.015501</td>\n",
       "      <td>-0.194347</td>\n",
       "      <td>-0.098181</td>\n",
       "      <td>0.270375</td>\n",
       "      <td>...</td>\n",
       "      <td>-0.136009</td>\n",
       "      <td>-0.177037</td>\n",
       "      <td>-0.130498</td>\n",
       "      <td>-0.054766</td>\n",
       "      <td>-0.018691</td>\n",
       "      <td>0.023954</td>\n",
       "      <td>Leptodactylidae</td>\n",
       "      <td>Adenomera</td>\n",
       "      <td>AdenomeraAndre</td>\n",
       "      <td>1</td>\n",
       "    </tr>\n",
       "    <tr>\n",
       "      <td>4</td>\n",
       "      <td>1.0</td>\n",
       "      <td>0.087817</td>\n",
       "      <td>-0.068345</td>\n",
       "      <td>0.306967</td>\n",
       "      <td>0.330923</td>\n",
       "      <td>0.249144</td>\n",
       "      <td>0.006884</td>\n",
       "      <td>-0.265423</td>\n",
       "      <td>-0.172700</td>\n",
       "      <td>0.266434</td>\n",
       "      <td>...</td>\n",
       "      <td>-0.048885</td>\n",
       "      <td>-0.053074</td>\n",
       "      <td>-0.088550</td>\n",
       "      <td>-0.031346</td>\n",
       "      <td>0.108610</td>\n",
       "      <td>0.079244</td>\n",
       "      <td>Leptodactylidae</td>\n",
       "      <td>Adenomera</td>\n",
       "      <td>AdenomeraAndre</td>\n",
       "      <td>1</td>\n",
       "    </tr>\n",
       "    <tr>\n",
       "      <td>...</td>\n",
       "      <td>...</td>\n",
       "      <td>...</td>\n",
       "      <td>...</td>\n",
       "      <td>...</td>\n",
       "      <td>...</td>\n",
       "      <td>...</td>\n",
       "      <td>...</td>\n",
       "      <td>...</td>\n",
       "      <td>...</td>\n",
       "      <td>...</td>\n",
       "      <td>...</td>\n",
       "      <td>...</td>\n",
       "      <td>...</td>\n",
       "      <td>...</td>\n",
       "      <td>...</td>\n",
       "      <td>...</td>\n",
       "      <td>...</td>\n",
       "      <td>...</td>\n",
       "      <td>...</td>\n",
       "      <td>...</td>\n",
       "      <td>...</td>\n",
       "    </tr>\n",
       "    <tr>\n",
       "      <td>7190</td>\n",
       "      <td>1.0</td>\n",
       "      <td>-0.554504</td>\n",
       "      <td>-0.337717</td>\n",
       "      <td>0.035533</td>\n",
       "      <td>0.034511</td>\n",
       "      <td>0.443451</td>\n",
       "      <td>0.093889</td>\n",
       "      <td>-0.100753</td>\n",
       "      <td>0.037087</td>\n",
       "      <td>0.081075</td>\n",
       "      <td>...</td>\n",
       "      <td>0.069430</td>\n",
       "      <td>0.071001</td>\n",
       "      <td>0.021591</td>\n",
       "      <td>0.052449</td>\n",
       "      <td>-0.021860</td>\n",
       "      <td>-0.079860</td>\n",
       "      <td>Hylidae</td>\n",
       "      <td>Scinax</td>\n",
       "      <td>ScinaxRuber</td>\n",
       "      <td>60</td>\n",
       "    </tr>\n",
       "    <tr>\n",
       "      <td>7191</td>\n",
       "      <td>1.0</td>\n",
       "      <td>-0.517273</td>\n",
       "      <td>-0.370574</td>\n",
       "      <td>0.030673</td>\n",
       "      <td>0.068097</td>\n",
       "      <td>0.402890</td>\n",
       "      <td>0.096628</td>\n",
       "      <td>-0.116460</td>\n",
       "      <td>0.063727</td>\n",
       "      <td>0.089034</td>\n",
       "      <td>...</td>\n",
       "      <td>0.061127</td>\n",
       "      <td>0.068978</td>\n",
       "      <td>0.017745</td>\n",
       "      <td>0.046461</td>\n",
       "      <td>-0.015418</td>\n",
       "      <td>-0.101892</td>\n",
       "      <td>Hylidae</td>\n",
       "      <td>Scinax</td>\n",
       "      <td>ScinaxRuber</td>\n",
       "      <td>60</td>\n",
       "    </tr>\n",
       "    <tr>\n",
       "      <td>7192</td>\n",
       "      <td>1.0</td>\n",
       "      <td>-0.582557</td>\n",
       "      <td>-0.343237</td>\n",
       "      <td>0.029468</td>\n",
       "      <td>0.064179</td>\n",
       "      <td>0.385596</td>\n",
       "      <td>0.114905</td>\n",
       "      <td>-0.103317</td>\n",
       "      <td>0.070370</td>\n",
       "      <td>0.081317</td>\n",
       "      <td>...</td>\n",
       "      <td>0.082474</td>\n",
       "      <td>0.077771</td>\n",
       "      <td>-0.009688</td>\n",
       "      <td>0.027834</td>\n",
       "      <td>-0.000531</td>\n",
       "      <td>-0.080425</td>\n",
       "      <td>Hylidae</td>\n",
       "      <td>Scinax</td>\n",
       "      <td>ScinaxRuber</td>\n",
       "      <td>60</td>\n",
       "    </tr>\n",
       "    <tr>\n",
       "      <td>7193</td>\n",
       "      <td>1.0</td>\n",
       "      <td>-0.519497</td>\n",
       "      <td>-0.307553</td>\n",
       "      <td>-0.004922</td>\n",
       "      <td>0.072865</td>\n",
       "      <td>0.377131</td>\n",
       "      <td>0.086866</td>\n",
       "      <td>-0.115799</td>\n",
       "      <td>0.056979</td>\n",
       "      <td>0.089316</td>\n",
       "      <td>...</td>\n",
       "      <td>0.051796</td>\n",
       "      <td>0.069073</td>\n",
       "      <td>0.017963</td>\n",
       "      <td>0.041803</td>\n",
       "      <td>-0.027911</td>\n",
       "      <td>-0.096895</td>\n",
       "      <td>Hylidae</td>\n",
       "      <td>Scinax</td>\n",
       "      <td>ScinaxRuber</td>\n",
       "      <td>60</td>\n",
       "    </tr>\n",
       "    <tr>\n",
       "      <td>7194</td>\n",
       "      <td>1.0</td>\n",
       "      <td>-0.508833</td>\n",
       "      <td>-0.324106</td>\n",
       "      <td>0.062068</td>\n",
       "      <td>0.078211</td>\n",
       "      <td>0.397188</td>\n",
       "      <td>0.094596</td>\n",
       "      <td>-0.117672</td>\n",
       "      <td>0.058874</td>\n",
       "      <td>0.076180</td>\n",
       "      <td>...</td>\n",
       "      <td>0.061455</td>\n",
       "      <td>0.072983</td>\n",
       "      <td>-0.003980</td>\n",
       "      <td>0.031560</td>\n",
       "      <td>-0.029355</td>\n",
       "      <td>-0.087910</td>\n",
       "      <td>Hylidae</td>\n",
       "      <td>Scinax</td>\n",
       "      <td>ScinaxRuber</td>\n",
       "      <td>60</td>\n",
       "    </tr>\n",
       "  </tbody>\n",
       "</table>\n",
       "<p>7195 rows × 26 columns</p>\n",
       "</div>"
      ],
      "text/plain": [
       "      MFCCs_ 1  MFCCs_ 2  MFCCs_ 3  MFCCs_ 4  MFCCs_ 5  MFCCs_ 6  MFCCs_ 7  \\\n",
       "0          1.0  0.152936 -0.105586  0.200722  0.317201  0.260764  0.100945   \n",
       "1          1.0  0.171534 -0.098975  0.268425  0.338672  0.268353  0.060835   \n",
       "2          1.0  0.152317 -0.082973  0.287128  0.276014  0.189867  0.008714   \n",
       "3          1.0  0.224392  0.118985  0.329432  0.372088  0.361005  0.015501   \n",
       "4          1.0  0.087817 -0.068345  0.306967  0.330923  0.249144  0.006884   \n",
       "...        ...       ...       ...       ...       ...       ...       ...   \n",
       "7190       1.0 -0.554504 -0.337717  0.035533  0.034511  0.443451  0.093889   \n",
       "7191       1.0 -0.517273 -0.370574  0.030673  0.068097  0.402890  0.096628   \n",
       "7192       1.0 -0.582557 -0.343237  0.029468  0.064179  0.385596  0.114905   \n",
       "7193       1.0 -0.519497 -0.307553 -0.004922  0.072865  0.377131  0.086866   \n",
       "7194       1.0 -0.508833 -0.324106  0.062068  0.078211  0.397188  0.094596   \n",
       "\n",
       "      MFCCs_ 8  MFCCs_ 9  MFCCs_10  ...  MFCCs_17  MFCCs_18  MFCCs_19  \\\n",
       "0    -0.150063 -0.171128  0.124676  ... -0.108351 -0.077623 -0.009568   \n",
       "1    -0.222475 -0.207693  0.170883  ... -0.090974 -0.056510 -0.035303   \n",
       "2    -0.242234 -0.219153  0.232538  ... -0.050691 -0.023590 -0.066722   \n",
       "3    -0.194347 -0.098181  0.270375  ... -0.136009 -0.177037 -0.130498   \n",
       "4    -0.265423 -0.172700  0.266434  ... -0.048885 -0.053074 -0.088550   \n",
       "...        ...       ...       ...  ...       ...       ...       ...   \n",
       "7190 -0.100753  0.037087  0.081075  ...  0.069430  0.071001  0.021591   \n",
       "7191 -0.116460  0.063727  0.089034  ...  0.061127  0.068978  0.017745   \n",
       "7192 -0.103317  0.070370  0.081317  ...  0.082474  0.077771 -0.009688   \n",
       "7193 -0.115799  0.056979  0.089316  ...  0.051796  0.069073  0.017963   \n",
       "7194 -0.117672  0.058874  0.076180  ...  0.061455  0.072983 -0.003980   \n",
       "\n",
       "      MFCCs_20  MFCCs_21  MFCCs_22           Family      Genus  \\\n",
       "0     0.057684  0.118680  0.014038  Leptodactylidae  Adenomera   \n",
       "1     0.020140  0.082263  0.029056  Leptodactylidae  Adenomera   \n",
       "2    -0.025083  0.099108  0.077162  Leptodactylidae  Adenomera   \n",
       "3    -0.054766 -0.018691  0.023954  Leptodactylidae  Adenomera   \n",
       "4    -0.031346  0.108610  0.079244  Leptodactylidae  Adenomera   \n",
       "...        ...       ...       ...              ...        ...   \n",
       "7190  0.052449 -0.021860 -0.079860          Hylidae     Scinax   \n",
       "7191  0.046461 -0.015418 -0.101892          Hylidae     Scinax   \n",
       "7192  0.027834 -0.000531 -0.080425          Hylidae     Scinax   \n",
       "7193  0.041803 -0.027911 -0.096895          Hylidae     Scinax   \n",
       "7194  0.031560 -0.029355 -0.087910          Hylidae     Scinax   \n",
       "\n",
       "             Species  RecordID  \n",
       "0     AdenomeraAndre         1  \n",
       "1     AdenomeraAndre         1  \n",
       "2     AdenomeraAndre         1  \n",
       "3     AdenomeraAndre         1  \n",
       "4     AdenomeraAndre         1  \n",
       "...              ...       ...  \n",
       "7190     ScinaxRuber        60  \n",
       "7191     ScinaxRuber        60  \n",
       "7192     ScinaxRuber        60  \n",
       "7193     ScinaxRuber        60  \n",
       "7194     ScinaxRuber        60  \n",
       "\n",
       "[7195 rows x 26 columns]"
      ]
     },
     "execution_count": 21,
     "metadata": {},
     "output_type": "execute_result"
    }
   ],
   "source": [
    "frogs"
   ]
  },
  {
   "cell_type": "markdown",
   "metadata": {},
   "source": [
    "We want to classify each sample according to the species of the frog or toad.  So, we must convert the species names to integers from 0 to be our class labels for each sample.  The following code cells do this."
   ]
  },
  {
   "cell_type": "code",
   "execution_count": 22,
   "metadata": {
    "ExecuteTime": {
     "end_time": "2020-11-06T14:44:59.718464Z",
     "start_time": "2020-11-06T14:44:59.709240Z"
    }
   },
   "outputs": [
    {
     "data": {
      "text/plain": [
       "0       AdenomeraAndre\n",
       "1       AdenomeraAndre\n",
       "2       AdenomeraAndre\n",
       "3       AdenomeraAndre\n",
       "4       AdenomeraAndre\n",
       "             ...      \n",
       "7190       ScinaxRuber\n",
       "7191       ScinaxRuber\n",
       "7192       ScinaxRuber\n",
       "7193       ScinaxRuber\n",
       "7194       ScinaxRuber\n",
       "Name: Species, Length: 7195, dtype: object"
      ]
     },
     "execution_count": 22,
     "metadata": {},
     "output_type": "execute_result"
    }
   ],
   "source": [
    "frogs['Species']"
   ]
  },
  {
   "cell_type": "code",
   "execution_count": 23,
   "metadata": {
    "ExecuteTime": {
     "end_time": "2020-11-06T14:45:00.153287Z",
     "start_time": "2020-11-06T14:45:00.141250Z"
    }
   },
   "outputs": [
    {
     "data": {
      "text/plain": [
       "array(['AdenomeraAndre', 'AdenomeraHylaedactylus', 'Ameeregatrivittata',\n",
       "       'HylaMinuta', 'HypsiboasCinerascens', 'HypsiboasCordobae',\n",
       "       'LeptodactylusFuscus', 'OsteocephalusOophagus',\n",
       "       'Rhinellagranulosa', 'ScinaxRuber'], dtype=object)"
      ]
     },
     "execution_count": 23,
     "metadata": {},
     "output_type": "execute_result"
    }
   ],
   "source": [
    "species = frogs['Species'].values.reshape(-1, 1)\n",
    "class_names = np.unique(species)\n",
    "class_names"
   ]
  },
  {
   "cell_type": "code",
   "execution_count": 24,
   "metadata": {
    "ExecuteTime": {
     "end_time": "2020-11-06T14:45:00.717441Z",
     "start_time": "2020-11-06T14:45:00.704107Z"
    }
   },
   "outputs": [
    {
     "data": {
      "text/plain": [
       "array([[ True, False, False, ..., False, False, False],\n",
       "       [ True, False, False, ..., False, False, False],\n",
       "       [ True, False, False, ..., False, False, False],\n",
       "       ...,\n",
       "       [False, False, False, ..., False, False,  True],\n",
       "       [False, False, False, ..., False, False,  True],\n",
       "       [False, False, False, ..., False, False,  True]])"
      ]
     },
     "execution_count": 24,
     "metadata": {},
     "output_type": "execute_result"
    }
   ],
   "source": [
    "species == class_names"
   ]
  },
  {
   "cell_type": "code",
   "execution_count": 25,
   "metadata": {
    "ExecuteTime": {
     "end_time": "2020-11-06T14:45:01.203537Z",
     "start_time": "2020-11-06T14:45:01.194042Z"
    }
   },
   "outputs": [
    {
     "data": {
      "text/plain": [
       "array([0, 0, 0, ..., 9, 9, 9], dtype=int64)"
      ]
     },
     "execution_count": 25,
     "metadata": {},
     "output_type": "execute_result"
    }
   ],
   "source": [
    "_, column_indices = np.where(species == class_names)\n",
    "column_indices"
   ]
  },
  {
   "cell_type": "code",
   "execution_count": 26,
   "metadata": {
    "ExecuteTime": {
     "end_time": "2020-11-06T14:45:02.009962Z",
     "start_time": "2020-11-06T14:45:01.862715Z"
    }
   },
   "outputs": [
    {
     "data": {
      "image/png": "[encoded data removed]",
      "text/plain": [
       "<Figure size 432x288 with 1 Axes>"
      ]
     },
     "metadata": {
      "needs_background": "light"
     },
     "output_type": "display_data"
    }
   ],
   "source": [
    "plt.plot(column_indices)\n",
    "plt.ylabel('Species (from 0 to 9)')\n",
    "plt.xlabel('Sample Index');"
   ]
  },
  {
   "cell_type": "markdown",
   "metadata": {},
   "source": [
    "Now we can create our data matrices.  Each sample has inputs of the 22 MFCC features, from columns 0 through 21, and the target class labels are the `column_indices`."
   ]
  },
  {
   "cell_type": "code",
   "execution_count": 27,
   "metadata": {
    "ExecuteTime": {
     "end_time": "2020-11-06T14:45:02.760394Z",
     "start_time": "2020-11-06T14:45:02.755764Z"
    }
   },
   "outputs": [
    {
     "data": {
      "text/plain": [
       "((7195, 22), (7195, 1))"
      ]
     },
     "execution_count": 27,
     "metadata": {},
     "output_type": "execute_result"
    }
   ],
   "source": [
    "X = frogs.iloc[:, range(22)].values\n",
    "T = column_indices.reshape(-1, 1)  # to make T a column matrix\n",
    "\n",
    "Xnames = frogs.iloc[:, range(22)].columns.values\n",
    "Tnames = ['Species']\n",
    "\n",
    "X.shape, T.shape"
   ]
  },
  {
   "cell_type": "markdown",
   "metadata": {},
   "source": [
    "Use random partitions of the data of 60% for training and 40% for testing."
   ]
  },
  {
   "cell_type": "code",
   "execution_count": 28,
   "metadata": {
    "ExecuteTime": {
     "end_time": "2020-11-06T14:45:03.759041Z",
     "start_time": "2020-11-06T14:45:03.753109Z"
    }
   },
   "outputs": [
    {
     "data": {
      "text/plain": [
       "((4317, 22), (4317, 1), (2878, 22), (2878, 1))"
      ]
     },
     "execution_count": 28,
     "metadata": {},
     "output_type": "execute_result"
    }
   ],
   "source": [
    "n_train = int(X.shape[0] * 0.6)\n",
    "\n",
    "# randomly shuffle samples\n",
    "rows = np.arange(X.shape[0])\n",
    "np.random.shuffle(rows)\n",
    "Xtrain = X[rows[:n_train], :]\n",
    "Ttrain = T[rows[:n_train], :]\n",
    "Xtest = X[rows[n_train:], :]\n",
    "Ttest = T[rows[n_train:], :]\n",
    "\n",
    "Xmean = Xtrain.mean(axis=0)\n",
    "Xstd = Xtrain.std(axis=0)\n",
    "\n",
    "Xtrain = (Xtrain - Xmean) / Xstd\n",
    "Xtest = (Xtest - Xmean) / Xstd\n",
    "\n",
    "Xtrain.shape, Ttrain.shape, Xtest.shape, Ttest.shape"
   ]
  },
  {
   "cell_type": "code",
   "execution_count": 29,
   "metadata": {
    "ExecuteTime": {
     "end_time": "2020-11-06T14:45:04.242638Z",
     "start_time": "2020-11-06T14:45:04.231088Z"
    }
   },
   "outputs": [
    {
     "data": {
      "text/plain": [
       "(10, 10)"
      ]
     },
     "execution_count": 29,
     "metadata": {},
     "output_type": "execute_result"
    }
   ],
   "source": [
    "len(np.unique(Ttrain)), len(np.unique(Ttest))"
   ]
  },
  {
   "cell_type": "markdown",
   "metadata": {},
   "source": [
    "Rerun the above two code cells until you get 10 unique values in `Ttrain` and `Ttest`."
   ]
  },
  {
   "cell_type": "markdown",
   "metadata": {},
   "source": [
    "Use at least four calls to `train_for_classification` for four different hidden-layer structures. Include `[]` to test a linear model without hidden layers.  For each one, use 1,000 epochs and a learning rate of 0.01.  Plot the resulting `error_trace` for each result.\n",
    "\n",
    "For each trained network, call `percent_correct` to provide the accuracy for the trained network applied to the training data, and again for the testing data.  Create and show a `pandas.DataFrame` that combines these results. **Discuss the values in the table and how they relate to the hidden layer structures. Use at least five sentences.** \n",
    "\n",
    "For the neural network that has the best accuracy on testing data, display the confusion matrix for the network applied to training data and to testing data.  **Discuss the values you see in both confusion matrices with at least five sentences.**"
   ]
  },
  {
   "cell_type": "code",
   "execution_count": 30,
   "metadata": {},
   "outputs": [],
   "source": [
    "#nnet: the trained neural network model\n",
    "#error_trace: list of RMSE value for each epoch\n",
    "#nnet, error_trace = train_for_regression(X, T, hidden_layers, n_epochs, learning_rate)\n",
    "#still getting error for hidden_layers=[]\n",
    "nnet1, error_trace1 = train_for_classification(Xtrain, Ttrain, [], 1000, 0.01)\n",
    "nnet2, error_trace2 = train_for_classification(Xtrain, Ttrain, [10], 1000, 0.01)\n",
    "nnet3, error_trace3 = train_for_classification(Xtrain, Ttrain, [100], 1000, 0.01)\n",
    "nnet4, error_trace4 = train_for_classification(Xtrain, Ttrain, [300], 1000, 0.01)\n",
    "nnet5, error_trace5 = train_for_classification(Xtrain, Ttrain, [200, 100], 1000, 0.01)\n",
    "nnet6, error_trace6 = train_for_classification(Xtrain, Ttrain, [300, 200], 1000, 0.01)\n",
    "nnet7, error_trace7 = train_for_classification(Xtrain, Ttrain, [100, 50, 50], 1000, 0.01)\n",
    "nnet8, error_trace8 = train_for_classification(Xtrain, Ttrain, [200, 75, 75], 1000, 0.01)\n",
    "nnet9, error_trace9 = train_for_classification(Xtrain, Ttrain, [150, 125, 100, 75], 1000, 0.01)\n",
    "#use use(nnet, Xtest) to use network\n",
    "Ytrain1 = use(nnet1, Xtrain)\n",
    "Ytrain2 = use(nnet2, Xtrain)\n",
    "Ytrain3 = use(nnet3, Xtrain)\n",
    "Ytrain4 = use(nnet4, Xtrain)\n",
    "Ytrain5 = use(nnet5, Xtrain)\n",
    "Ytrain6 = use(nnet6, Xtrain)\n",
    "Ytrain7 = use(nnet7, Xtrain)\n",
    "Ytrain8 = use(nnet8, Xtrain)\n",
    "Ytrain9 = use(nnet9, Xtrain)\n",
    "Ytest1 = use(nnet1, Xtest)\n",
    "Ytest2 = use(nnet2, Xtest)\n",
    "Ytest3 = use(nnet3, Xtest)\n",
    "Ytest4 = use(nnet4, Xtest)\n",
    "Ytest5 = use(nnet5, Xtest)\n",
    "Ytest6 = use(nnet6, Xtest)\n",
    "Ytest7 = use(nnet7, Xtest)\n",
    "Ytest8 = use(nnet8, Xtest)\n",
    "Ytest9 = use(nnet9, Xtest)"
   ]
  },
  {
   "cell_type": "code",
   "execution_count": 31,
   "metadata": {},
   "outputs": [
    {
     "data": {
      "text/plain": [
       "<matplotlib.legend.Legend at 0x189339bbc48>"
      ]
     },
     "execution_count": 31,
     "metadata": {},
     "output_type": "execute_result"
    },
    {
     "data": {
      "image/png": "[encoded data removed]",
      "text/plain": [
       "<Figure size 432x288 with 1 Axes>"
      ]
     },
     "metadata": {
      "needs_background": "light"
     },
     "output_type": "display_data"
    }
   ],
   "source": [
    "epoch = 1000\n",
    "plt.plot(error_trace1[:epoch], label='[]')\n",
    "plt.plot(error_trace2[:epoch], label='[10]')\n",
    "plt.plot(error_trace3[:epoch], label='[100]')\n",
    "plt.plot(error_trace4[:epoch], label='[300]')\n",
    "plt.plot(error_trace5[:epoch], label='[200,100]')\n",
    "plt.plot(error_trace6[:epoch], label='[300,200]')\n",
    "plt.plot(error_trace7[:epoch], label='[100,50,50]')\n",
    "plt.plot(error_trace8[:epoch], label='[200,75,75]')\n",
    "plt.plot(error_trace9[:epoch], label='[150,125,100,75]')\n",
    "plt.xlabel(\"Epochs\")\n",
    "plt.ylabel(\"Error_trace\")\n",
    "plt.legend()"
   ]
  },
  {
   "cell_type": "code",
   "execution_count": 32,
   "metadata": {},
   "outputs": [
    {
     "data": {
      "text/html": [
       "<div>\n",
       "<style scoped>\n",
       "    .dataframe tbody tr th:only-of-type {\n",
       "        vertical-align: middle;\n",
       "    }\n",
       "\n",
       "    .dataframe tbody tr th {\n",
       "        vertical-align: top;\n",
       "    }\n",
       "\n",
       "    .dataframe thead th {\n",
       "        text-align: right;\n",
       "    }\n",
       "</style>\n",
       "<table border=\"1\" class=\"dataframe\">\n",
       "  <thead>\n",
       "    <tr style=\"text-align: right;\">\n",
       "      <th></th>\n",
       "      <th>Hidden Layers</th>\n",
       "      <th>Percent Correct Train</th>\n",
       "      <th>Percent Correct Test</th>\n",
       "    </tr>\n",
       "  </thead>\n",
       "  <tbody>\n",
       "    <tr>\n",
       "      <td>0</td>\n",
       "      <td>[]</td>\n",
       "      <td>97.382442</td>\n",
       "      <td>96.560111</td>\n",
       "    </tr>\n",
       "    <tr>\n",
       "      <td>1</td>\n",
       "      <td>[10]</td>\n",
       "      <td>99.096595</td>\n",
       "      <td>97.428770</td>\n",
       "    </tr>\n",
       "    <tr>\n",
       "      <td>2</td>\n",
       "      <td>[100]</td>\n",
       "      <td>100.000000</td>\n",
       "      <td>98.749131</td>\n",
       "    </tr>\n",
       "    <tr>\n",
       "      <td>3</td>\n",
       "      <td>[300]</td>\n",
       "      <td>100.000000</td>\n",
       "      <td>98.853370</td>\n",
       "    </tr>\n",
       "    <tr>\n",
       "      <td>4</td>\n",
       "      <td>[200, 100]</td>\n",
       "      <td>100.000000</td>\n",
       "      <td>98.818624</td>\n",
       "    </tr>\n",
       "    <tr>\n",
       "      <td>5</td>\n",
       "      <td>[300, 200]</td>\n",
       "      <td>100.000000</td>\n",
       "      <td>98.853370</td>\n",
       "    </tr>\n",
       "    <tr>\n",
       "      <td>6</td>\n",
       "      <td>[100, 50, 50]</td>\n",
       "      <td>100.000000</td>\n",
       "      <td>98.922863</td>\n",
       "    </tr>\n",
       "    <tr>\n",
       "      <td>7</td>\n",
       "      <td>[200, 75, 75]</td>\n",
       "      <td>100.000000</td>\n",
       "      <td>98.783878</td>\n",
       "    </tr>\n",
       "    <tr>\n",
       "      <td>8</td>\n",
       "      <td>[150, 125, 100, 75]</td>\n",
       "      <td>100.000000</td>\n",
       "      <td>98.644892</td>\n",
       "    </tr>\n",
       "  </tbody>\n",
       "</table>\n",
       "</div>"
      ],
      "text/plain": [
       "         Hidden Layers  Percent Correct Train  Percent Correct Test\n",
       "0                   []              97.382442             96.560111\n",
       "1                 [10]              99.096595             97.428770\n",
       "2                [100]             100.000000             98.749131\n",
       "3                [300]             100.000000             98.853370\n",
       "4           [200, 100]             100.000000             98.818624\n",
       "5           [300, 200]             100.000000             98.853370\n",
       "6        [100, 50, 50]             100.000000             98.922863\n",
       "7        [200, 75, 75]             100.000000             98.783878\n",
       "8  [150, 125, 100, 75]             100.000000             98.644892"
      ]
     },
     "execution_count": 32,
     "metadata": {},
     "output_type": "execute_result"
    }
   ],
   "source": [
    "results = []\n",
    "results.append([[],percent_correct(np.reshape(np.argmax(Ytrain1,axis=1),(-1,1)),Ttrain),percent_correct(np.reshape(np.argmax(Ytest1,axis=1),(-1,1)),Ttest)])\n",
    "results.append([[10],percent_correct(np.reshape(np.argmax(Ytrain2,axis=1),(-1,1)),Ttrain),percent_correct(np.reshape(np.argmax(Ytest2,axis=1),(-1,1)),Ttest)])\n",
    "results.append([[100],percent_correct(np.reshape(np.argmax(Ytrain3,axis=1),(-1,1)),Ttrain),percent_correct(np.reshape(np.argmax(Ytest3,axis=1),(-1,1)),Ttest)])\n",
    "results.append([[300],percent_correct(np.reshape(np.argmax(Ytrain4,axis=1),(-1,1)),Ttrain),percent_correct(np.reshape(np.argmax(Ytest4,axis=1),(-1,1)),Ttest)])\n",
    "results.append([[200, 100],percent_correct(np.reshape(np.argmax(Ytrain5,axis=1),(-1,1)),Ttrain),percent_correct(np.reshape(np.argmax(Ytest5,axis=1),(-1,1)),Ttest)])\n",
    "results.append([[300, 200],percent_correct(np.reshape(np.argmax(Ytrain6,axis=1),(-1,1)),Ttrain),percent_correct(np.reshape(np.argmax(Ytest6,axis=1),(-1,1)),Ttest)])\n",
    "results.append([[100, 50, 50],percent_correct(np.reshape(np.argmax(Ytrain7,axis=1),(-1,1)),Ttrain),percent_correct(np.reshape(np.argmax(Ytest7,axis=1),(-1,1)),Ttest)])\n",
    "results.append([[200, 75, 75],percent_correct(np.reshape(np.argmax(Ytrain8,axis=1),(-1,1)),Ttrain),percent_correct(np.reshape(np.argmax(Ytest8,axis=1),(-1,1)),Ttest)])\n",
    "results.append([[150, 125, 100, 75],percent_correct(np.reshape(np.argmax(Ytrain9,axis=1),(-1,1)),Ttrain),percent_correct(np.reshape(np.argmax(Ytest9,axis=1),(-1,1)),Ttest)])\n",
    "df = pd.DataFrame(results, columns=(\"Hidden Layers\", \"Percent Correct Train\", \"Percent Correct Test\"))\n",
    "df"
   ]
  },
  {
   "cell_type": "code",
   "execution_count": 36,
   "metadata": {},
   "outputs": [
    {
     "name": "stdout",
     "output_type": "stream",
     "text": [
      "Percent Correct is 98.92286309937457\n"
     ]
    },
    {
     "data": {
      "text/html": [
       "<div>\n",
       "<style scoped>\n",
       "    .dataframe tbody tr th:only-of-type {\n",
       "        vertical-align: middle;\n",
       "    }\n",
       "\n",
       "    .dataframe tbody tr th {\n",
       "        vertical-align: top;\n",
       "    }\n",
       "\n",
       "    .dataframe thead th {\n",
       "        text-align: right;\n",
       "    }\n",
       "</style>\n",
       "<table border=\"1\" class=\"dataframe\">\n",
       "  <thead>\n",
       "    <tr style=\"text-align: right;\">\n",
       "      <th></th>\n",
       "      <th>0</th>\n",
       "      <th>1</th>\n",
       "      <th>2</th>\n",
       "      <th>3</th>\n",
       "      <th>4</th>\n",
       "      <th>5</th>\n",
       "      <th>6</th>\n",
       "      <th>7</th>\n",
       "      <th>8</th>\n",
       "      <th>9</th>\n",
       "    </tr>\n",
       "  </thead>\n",
       "  <tbody>\n",
       "    <tr>\n",
       "      <td>0</td>\n",
       "      <td>97.51773</td>\n",
       "      <td>0.000000</td>\n",
       "      <td>0.000000</td>\n",
       "      <td>0.000000</td>\n",
       "      <td>1.063830</td>\n",
       "      <td>0.354610</td>\n",
       "      <td>0.000000</td>\n",
       "      <td>1.063830</td>\n",
       "      <td>0.000000</td>\n",
       "      <td>0.000000</td>\n",
       "    </tr>\n",
       "    <tr>\n",
       "      <td>1</td>\n",
       "      <td>0.00000</td>\n",
       "      <td>99.786172</td>\n",
       "      <td>0.000000</td>\n",
       "      <td>0.213828</td>\n",
       "      <td>0.000000</td>\n",
       "      <td>0.000000</td>\n",
       "      <td>0.000000</td>\n",
       "      <td>0.000000</td>\n",
       "      <td>0.000000</td>\n",
       "      <td>0.000000</td>\n",
       "    </tr>\n",
       "    <tr>\n",
       "      <td>2</td>\n",
       "      <td>0.00000</td>\n",
       "      <td>0.000000</td>\n",
       "      <td>99.052133</td>\n",
       "      <td>0.947867</td>\n",
       "      <td>0.000000</td>\n",
       "      <td>0.000000</td>\n",
       "      <td>0.000000</td>\n",
       "      <td>0.000000</td>\n",
       "      <td>0.000000</td>\n",
       "      <td>0.000000</td>\n",
       "    </tr>\n",
       "    <tr>\n",
       "      <td>3</td>\n",
       "      <td>0.00000</td>\n",
       "      <td>0.775194</td>\n",
       "      <td>0.775194</td>\n",
       "      <td>98.449612</td>\n",
       "      <td>0.000000</td>\n",
       "      <td>0.000000</td>\n",
       "      <td>0.000000</td>\n",
       "      <td>0.000000</td>\n",
       "      <td>0.000000</td>\n",
       "      <td>0.000000</td>\n",
       "    </tr>\n",
       "    <tr>\n",
       "      <td>4</td>\n",
       "      <td>0.00000</td>\n",
       "      <td>0.000000</td>\n",
       "      <td>0.000000</td>\n",
       "      <td>0.000000</td>\n",
       "      <td>98.936170</td>\n",
       "      <td>0.531915</td>\n",
       "      <td>0.000000</td>\n",
       "      <td>0.531915</td>\n",
       "      <td>0.000000</td>\n",
       "      <td>0.000000</td>\n",
       "    </tr>\n",
       "    <tr>\n",
       "      <td>5</td>\n",
       "      <td>0.00000</td>\n",
       "      <td>0.443459</td>\n",
       "      <td>0.000000</td>\n",
       "      <td>0.000000</td>\n",
       "      <td>0.221729</td>\n",
       "      <td>98.891353</td>\n",
       "      <td>0.000000</td>\n",
       "      <td>0.221729</td>\n",
       "      <td>0.000000</td>\n",
       "      <td>0.221729</td>\n",
       "    </tr>\n",
       "    <tr>\n",
       "      <td>6</td>\n",
       "      <td>0.00000</td>\n",
       "      <td>0.000000</td>\n",
       "      <td>0.000000</td>\n",
       "      <td>0.000000</td>\n",
       "      <td>0.000000</td>\n",
       "      <td>0.000000</td>\n",
       "      <td>98.979592</td>\n",
       "      <td>1.020408</td>\n",
       "      <td>0.000000</td>\n",
       "      <td>0.000000</td>\n",
       "    </tr>\n",
       "    <tr>\n",
       "      <td>7</td>\n",
       "      <td>0.00000</td>\n",
       "      <td>0.000000</td>\n",
       "      <td>0.000000</td>\n",
       "      <td>0.000000</td>\n",
       "      <td>4.761905</td>\n",
       "      <td>2.380952</td>\n",
       "      <td>2.380952</td>\n",
       "      <td>90.476190</td>\n",
       "      <td>0.000000</td>\n",
       "      <td>0.000000</td>\n",
       "    </tr>\n",
       "    <tr>\n",
       "      <td>8</td>\n",
       "      <td>0.00000</td>\n",
       "      <td>5.000000</td>\n",
       "      <td>0.000000</td>\n",
       "      <td>0.000000</td>\n",
       "      <td>0.000000</td>\n",
       "      <td>0.000000</td>\n",
       "      <td>10.000000</td>\n",
       "      <td>0.000000</td>\n",
       "      <td>85.000000</td>\n",
       "      <td>0.000000</td>\n",
       "    </tr>\n",
       "    <tr>\n",
       "      <td>9</td>\n",
       "      <td>0.00000</td>\n",
       "      <td>0.000000</td>\n",
       "      <td>0.000000</td>\n",
       "      <td>0.000000</td>\n",
       "      <td>0.000000</td>\n",
       "      <td>1.851852</td>\n",
       "      <td>0.000000</td>\n",
       "      <td>0.000000</td>\n",
       "      <td>1.851852</td>\n",
       "      <td>96.296296</td>\n",
       "    </tr>\n",
       "  </tbody>\n",
       "</table>\n",
       "</div>"
      ],
      "text/plain": [
       "          0          1          2          3          4          5          6  \\\n",
       "0  97.51773   0.000000   0.000000   0.000000   1.063830   0.354610   0.000000   \n",
       "1   0.00000  99.786172   0.000000   0.213828   0.000000   0.000000   0.000000   \n",
       "2   0.00000   0.000000  99.052133   0.947867   0.000000   0.000000   0.000000   \n",
       "3   0.00000   0.775194   0.775194  98.449612   0.000000   0.000000   0.000000   \n",
       "4   0.00000   0.000000   0.000000   0.000000  98.936170   0.531915   0.000000   \n",
       "5   0.00000   0.443459   0.000000   0.000000   0.221729  98.891353   0.000000   \n",
       "6   0.00000   0.000000   0.000000   0.000000   0.000000   0.000000  98.979592   \n",
       "7   0.00000   0.000000   0.000000   0.000000   4.761905   2.380952   2.380952   \n",
       "8   0.00000   5.000000   0.000000   0.000000   0.000000   0.000000  10.000000   \n",
       "9   0.00000   0.000000   0.000000   0.000000   0.000000   1.851852   0.000000   \n",
       "\n",
       "           7          8          9  \n",
       "0   1.063830   0.000000   0.000000  \n",
       "1   0.000000   0.000000   0.000000  \n",
       "2   0.000000   0.000000   0.000000  \n",
       "3   0.000000   0.000000   0.000000  \n",
       "4   0.531915   0.000000   0.000000  \n",
       "5   0.221729   0.000000   0.221729  \n",
       "6   1.020408   0.000000   0.000000  \n",
       "7  90.476190   0.000000   0.000000  \n",
       "8   0.000000  85.000000   0.000000  \n",
       "9   0.000000   1.851852  96.296296  "
      ]
     },
     "execution_count": 36,
     "metadata": {},
     "output_type": "execute_result"
    }
   ],
   "source": [
    "confusion_matrix(np.reshape(np.argmax(Ytest7,axis=1),(-1,1)),Ttest)"
   ]
  },
  {
   "cell_type": "markdown",
   "metadata": {},
   "source": [
    "# Discussion of train_for_classification\n",
    "\n",
    "For my testing of train_for_classification I ran tests using a total of 9 different hidden layer stuctures, as shown above.  Nearly all the networks I tested had a 100% correct rate on the training data, except for the networks with hidden layers of [] and [10].  These two netowrks also had the lowest percent correct rate on the testing data.  This was mostly expected, since those were the networks with the least and smallest hidden layers.  Of the other networks, the percent correct on the testing data was very similar, with at most 0.18 percentage points of difference between their percent correctly identified.  The network with the highest percent correct on the testing data was the network with a hidden layer structure of [100, 50, 50], with a percent correct on the testing data of 98.923.  This is the network that is displayed in the confusion matrix above.  As expected, the entries along the diagonal of the confusion matrix are close to 100, representing the percent of classes which were correctly identified.  The class with the highest percent correctly identified was class 1, corresponding to MFCCs 2.  This class had 99.786 percent of cases correctly identified.  The class with the lowest percent correctly identified was class 8, corresponding to MFCCs 9.  This class had only 85 percent of cases correctly identified.  The two most common mis-identifications were mistaking class 8 as class 1, with a 5 percent chance, and mistaking class 7 as class 4, with a 4.762 percent chance.  As is noted in the code cells above, my train_for_classification function was adapted from lecture notes 21 and lecture notes 22."
   ]
  },
  {
   "cell_type": "markdown",
   "metadata": {},
   "source": [
    "## Grading\n",
    "\n",
    "Download [A6grader.tar](http://www.cs.colostate.edu/~anderson/cs440/notebooks/A6grader.tar) and extract `A6grader.py` from it."
   ]
  },
  {
   "cell_type": "code",
   "execution_count": 37,
   "metadata": {
    "ExecuteTime": {
     "end_time": "2020-11-06T14:49:24.286359Z",
     "start_time": "2020-11-06T14:49:20.150734Z"
    },
    "scrolled": false
   },
   "outputs": [
    {
     "name": "stdout",
     "output_type": "stream",
     "text": [
      "\n",
      "======================= Code Execution =======================\n",
      "\n",
      "['Valdes-A6.ipynb']\n",
      "Extracting python code from notebook named 'Valdes-A6.ipynb' and storing in notebookcode.py\n",
      "Removing all statements that are not function or class defs or import statements.\n",
      "\n",
      "Testing\n",
      "\n",
      "    X = (np.arange(10) - 5).reshape(-1, 1)\n",
      "    T = np.sin(X)\n",
      "    nnet, error_trace = train_for_regression(X, T, [20], 2000, 0.01)\n",
      "\n",
      "\n",
      "--- 30/30 points. Your final value in error_trace is correct (less than 0.1)\n",
      "\n",
      "Testing\n",
      "\n",
      "    X = np.linspace(-10, 10, 100).reshape(2, -1).T\n",
      "    T = (np.sin(0.1 * np.abs(X[:,0]) * X[:, 1]) > 0.7).astype(int)\n",
      "    nnet, error_trace = train_for_classification(X, T, [20], 2000, 0.01)\n",
      "\n",
      "\n",
      "--- 30/30 points. Your final value in error_trace is correct (greater than 0.98)\n",
      "\n",
      "======================================================================\n",
      "C:\\Users\\Adam Valdes\\CS 440 EXECUTION Grade is 60 / 60\n",
      "======================================================================\n",
      "\n",
      "                \n",
      "___ / 5 points. DataFrame showing results of train_for_regression.\n",
      "\n",
      "___ / 15 points. Discussion of train_for_regression results with at least five sentences.\n",
      "\n",
      "___ / 3 points. DataFrame showing results of train_for_classification.\n",
      "\n",
      "___ / 2 points. Confusion matrix showing results of best network from train_for_classification.\n",
      "\n",
      "___ / 15 points. Discussion of train_for_classification DataFrame and confusion matrix \n",
      "                 results with at least ten sentences.\n",
      "\n",
      "\n",
      "\n",
      "======================================================================\n",
      "C:\\Users\\Adam Valdes\\CS 440 ADDITIONAL Grade is __ / 40\n",
      "======================================================================\n",
      "\n",
      "======================================================================\n",
      "C:\\Users\\Adam Valdes\\CS 440 FINAL GRADE is  _  / 100\n",
      "======================================================================\n",
      "\n",
      "\n",
      "Extra Credit: Earn one point of extra credit for correct application of train_for_regression\n",
      "              to a second regression data set from the UCI ML Repository and \n",
      "              discussion of the result.\n",
      "\n",
      "\n",
      "Extra Credit: Earn one point of extra credit for correct application of train_for_clsssification\n",
      "              to a second classification data set from the UCI ML Repository and \n",
      "              discussion of the result.\n",
      "\n",
      "C:\\Users\\Adam Valdes\\CS 440 EXTRA CREDIT is 0 / 2\n"
     ]
    }
   ],
   "source": [
    "%run -i \"A6grader.py\""
   ]
  },
  {
   "cell_type": "markdown",
   "metadata": {},
   "source": [
    "## Check-in"
   ]
  },
  {
   "cell_type": "markdown",
   "metadata": {},
   "source": [
    "Do not include this section in your notebook.\n",
    "\n",
    "Name your notebook ```Lastname-A6.ipynb```.  So, for me it would be ```Anderson-A6.ipynb```.  Submit the file using the ```Assignment 6``` link on [Canvas](https://colostate.instructure.com/courses/109411)."
   ]
  },
  {
   "cell_type": "markdown",
   "metadata": {},
   "source": [
    "## Extra Credit (up to 2 total points)\n",
    "\n",
    "Earn 1 point of extra credit by applying `train_for_regression` to a second regression data set from the UCI ML  Repository.\n",
    "\n",
    "Earn 1 point of extra credit by applying `train_for_classification` to a second classification data set from the UCI ML Repository.\n"
   ]
  }
 ],
 "metadata": {
  "anaconda-cloud": {},
  "kernelspec": {
   "display_name": "Python 3",
   "language": "python",
   "name": "python3"
  },
  "language_info": {
   "codemirror_mode": {
    "name": "ipython",
    "version": 3
   },
   "file_extension": ".py",
   "mimetype": "text/x-python",
   "name": "python",
   "nbconvert_exporter": "python",
   "pygments_lexer": "ipython3",
   "version": "3.7.4"
  },
  "toc": {
   "base_numbering": 1,
   "nav_menu": {},
   "number_sections": true,
   "sideBar": true,
   "skip_h1_title": false,
   "title_cell": "Table of Contents",
   "title_sidebar": "Contents",
   "toc_cell": false,
   "toc_position": {},
   "toc_section_display": "block",
   "toc_window_display": false
  }
 },
 "nbformat": 4,
 "nbformat_minor": 1
}
