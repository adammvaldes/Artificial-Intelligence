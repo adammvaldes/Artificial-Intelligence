{
 "cells": [
  {
   "cell_type": "markdown",
   "metadata": {
    "toc": true
   },
   "source": [
    "<h1>Table of Contents<span class=\"tocSkip\"></span></h1>\n",
    "<div class=\"toc\"><ul class=\"toc-item\"><li><span><a href=\"#A3:-A*,-IDS,-and-Effective-Branching-Factor\" data-toc-modified-id=\"A3:-A*,-IDS,-and-Effective-Branching-Factor-1\"><span class=\"toc-item-num\">1&nbsp;&nbsp;</span>A3: A*, IDS, and Effective Branching Factor</a></span><ul class=\"toc-item\"><li><span><a href=\"#Heuristic-Functions\" data-toc-modified-id=\"Heuristic-Functions-1.1\"><span class=\"toc-item-num\">1.1&nbsp;&nbsp;</span>Heuristic Functions</a></span></li><li><span><a href=\"#Comparison\" data-toc-modified-id=\"Comparison-1.2\"><span class=\"toc-item-num\">1.2&nbsp;&nbsp;</span>Comparison</a></span></li><li><span><a href=\"#Grading\" data-toc-modified-id=\"Grading-1.3\"><span class=\"toc-item-num\">1.3&nbsp;&nbsp;</span>Grading</a></span></li><li><span><a href=\"#Extra-Credit\" data-toc-modified-id=\"Extra-Credit-1.4\"><span class=\"toc-item-num\">1.4&nbsp;&nbsp;</span>Extra Credit</a></span></li></ul></li></ul></div>"
   ]
  },
  {
   "cell_type": "markdown",
   "metadata": {},
   "source": [
    "# A3: A\\*, IDS, and Effective Branching Factor"
   ]
  },
  {
   "cell_type": "markdown",
   "metadata": {},
   "source": [
    "For this assignment, implement the Recursive Best-First Search\n",
    "implementation of the A\\* algorithm given in class.  Name this function `Astar_search`.  Also in this notebook include your `iterative_deepening_search` functions.\n",
    "Define a new function named `effective_branching_factor` that returns an estimate of the effective\n",
    "branching factor for a search algorithm applied to a search problem.\n",
    "\n",
    "So, the required functions are\n",
    "\n",
    "   - `Astar_search(start_state, actions_f, take_action_f, goal_test_f, h_f)`\n",
    "   - `iterative_deepening_search(start_state, goal_state, actions_f, take_action_f, max_depth)`\n",
    "   - `effective_branching_factor(n_nodes, depth, precision=0.01)`, returns the effective branching factor, given the number of nodes expanded and depth reached during a search.\n",
    "\n",
    "Apply `iterative_deepening_search` and `Astar_search` to several eight-tile sliding puzzle\n",
    "problems. For this you must include your implementations of these functions from Assignment 2. Here we are renaming these functions to not include `_f`, just for simplicity.\n",
    "\n",
    "  * `actions_8p(state)`: returns a list of up to four valid actions that can be applied in `state`. With each action include a step cost of 1. For example, if all four actions are possible from this state, return [('left', 1), ('right', 1), ('up', 1), ('down', 1)].\n",
    "  * `take_action_8p(state, action)`: return the state that results from applying `action` in `state` and the cost of the one step,\n",
    "  \n",
    "plus the following function for the eight-tile puzzle:\n",
    "\n",
    "  * `goal_test_8p(state, goal)`\n",
    "  \n",
    "Compare their results by displaying\n",
    "solution path depth, number of nodes \n",
    "generated, and the effective branching factor, and discuss the results.  Do this by defining the following function that prints the table as shown in the example below.\n",
    "\n",
    "   - `run_experiment(goal_state_1, goal_state_2, goal_state_3, [h1, h2, h3])`\n",
    "   \n",
    "Define this function so it takes any number of $h$ functions in the list that is the fourth argument."
   ]
  },
  {
   "cell_type": "code",
   "execution_count": 1,
   "metadata": {},
   "outputs": [],
   "source": [
    "#global variable for n_nodes_expanded\n",
    "global n_nodes_expanded\n",
    "n_nodes_expanded = 0"
   ]
  },
  {
   "cell_type": "code",
   "execution_count": 2,
   "metadata": {},
   "outputs": [],
   "source": [
    "#adapted from lecture notes 07\n",
    "# Recursive Best First Search (Figure 3.26, Russell and Norvig)\n",
    "#  Recursive Iterative Deepening form of A*, where depth is replaced by f(n)\n",
    "class Node:\n",
    "\n",
    "    def __init__(self, state, f=0, g=0, h=0):\n",
    "        self.state = state\n",
    "        self.f = f\n",
    "        self.g = g\n",
    "        self.h = h\n",
    "\n",
    "    def __repr__(self):\n",
    "        return f'Node({self.state}, f={self.f}, g={self.g}, h={self.h})'\n",
    "\n",
    "def Astar_search(start_state, actions_f, take_action_f, goal_test_f, h_f):\n",
    "    #CHANGED IN A3: added global variable to keep track of number of nodes expanded\n",
    "    global n_nodes_expanded\n",
    "    n_nodes_expanded = 0\n",
    "    h = h_f(start_state)\n",
    "    start_node = Node(state=start_state, f=0 + h, g=0, h=h)\n",
    "    return a_star_search_helper(start_node, actions_f, take_action_f, \n",
    "                                goal_test_f, h_f, float('inf'))\n",
    "\n",
    "def a_star_search_helper(parent_node, actions_f, take_action_f, \n",
    "                         goal_test_f, h_f, f_max):\n",
    "    global n_nodes_expanded\n",
    "    if goal_test_f(parent_node.state):\n",
    "        return ([parent_node.state], parent_node.g)\n",
    "    \n",
    "    ## Construct list of children nodes with f, g, and h values\n",
    "    actions = actions_f(parent_node.state)\n",
    "    if not actions:\n",
    "        return ('failure', float('inf'))\n",
    "    \n",
    "    children = []\n",
    "    for action in actions:\n",
    "        #CHANGED: increment expanded nodes by 1\n",
    "        n_nodes_expanded += 1\n",
    "        (child_state, step_cost) = take_action_f(parent_node.state, action)\n",
    "        h = h_f(child_state)\n",
    "        g = parent_node.g + step_cost\n",
    "        f = max(h + g, parent_node.f)\n",
    "        child_node = Node(state=child_state, f=f, g=g, h=h)\n",
    "        children.append(child_node)\n",
    "        \n",
    "    while True:\n",
    "        # find best child\n",
    "        children.sort(key = lambda n: n.f) # sort by f value\n",
    "        best_child = children[0]\n",
    "        if best_child.f > f_max:\n",
    "            return ('failure', best_child.f)\n",
    "        # next lowest f value\n",
    "        alternative_f = children[1].f if len(children) > 1 else float('inf')\n",
    "        # expand best child, reassign its f value to be returned value\n",
    "        result, best_child.f = a_star_search_helper(best_child, actions_f,\n",
    "                                                    take_action_f, goal_test_f,\n",
    "                                                    h_f,\n",
    "                                                    min(f_max,alternative_f))\n",
    "        if result != 'failure':                    #        g\n",
    "            result.insert(0, parent_node.state)    #       / \n",
    "            return (result, best_child.f)          #      d\n",
    "                                                   #     / \\ \n",
    "#if __name__ == \"__main__\":                         #    b   h   \n",
    "#                                                   #   / \\   \n",
    "#    successors = {'a': ['b','c'],                  #  a   e  \n",
    "#                  'b': ['d','e'],                  #   \\         \n",
    "#                  'c': ['f'],                      #    c   i\n",
    "#                  'd': ['g', 'h'],                 #     \\ / \n",
    "#                  'f': ['i','j']}                  #      f  \n",
    "#                                                   #      \\\n",
    "#    def actions_f(state):                          #       j \n",
    "#        try:\n",
    "#            ## step cost of each action is 1\n",
    "#            return [(succ, 1) for succ in successors[state]]\n",
    "#        except KeyError:\n",
    "#            return []\n",
    "#\n",
    "#    def take_action_f(state, action):\n",
    "#        return action\n",
    "#\n",
    "#    def goal_test_f(state):\n",
    "#        return state == goal\n",
    "#\n",
    "#    def h1(state):\n",
    "#        return 0\n",
    "#\n",
    "#    start = 'a'\n",
    "#    goal = 'h'\n",
    "#    result = a_star_search(start, actions_f, take_action_f, goal_test_f, h1)\n",
    "#\n",
    "#    print(f'Path from a to h is {result[0]} for a cost of {result[1]}')\n",
    "#    return \"No A* search yet\""
   ]
  },
  {
   "cell_type": "code",
   "execution_count": 3,
   "metadata": {},
   "outputs": [],
   "source": [
    "#from A2\n",
    "def iterative_deepening_search(start_state, goal_state, actions_f, take_action_f, max_depth):\n",
    "    \n",
    "    #CHANGED IN A3: added global variable to keep track of number of nodes expanded\n",
    "    global n_nodes_expanded\n",
    "    n_nodes_expanded = 0\n",
    "    \n",
    "    # Conduct multiple searches, starting with smallest depth, then increasing it by 1 each time.\n",
    "    for depth in range(max_depth):\n",
    "        \n",
    "        # Conduct search from startState\n",
    "        result = depth_limited_search(start_state, goal_state, actions_f, take_action_f, depth)\n",
    "        \n",
    "        # If result was failure, return 'failure'.\n",
    "        if result is 'failure':\n",
    "            return 'failure'\n",
    "        \n",
    "        # Otherwise, if result was not cutoff, it succeeded, so add start_state to solution path and return it.\n",
    "        if result is not 'cutoff':\n",
    "            #Add start_state to front of solution path, in result, returned by depth_limited_search   \n",
    "            result.insert(0, start_state)\n",
    "            \n",
    "            return result\n",
    "        \n",
    "    # If we reach here, no solution found within the max_depth limit.\n",
    "    return 'cutoff'"
   ]
  },
  {
   "cell_type": "code",
   "execution_count": 4,
   "metadata": {},
   "outputs": [],
   "source": [
    "#adapted from A2\n",
    "def depth_limited_search(state, goal_state, actions_f, take_action_f, depth_limit):\n",
    "    \n",
    "    #CHANGED IN A3: added global variable to keep track of number of nodes expanded\n",
    "    global n_nodes_expanded\n",
    "    # If we have reached the goal, exit, returning an empty solution path.\n",
    "    #If state == goal_state, then\n",
    "    if state == goal_state:\n",
    "        return []\n",
    "    \n",
    "    # If we have reached the depth limit, return the string 'cutoff'.\n",
    "    if depth_limit is 0:\n",
    "        #Return the string 'cutoff' to signal that the depth limit was reached\n",
    "        return 'cutoff'\n",
    "        \n",
    "    cutoff_occurred = False\n",
    "    \n",
    "    # For each possible action from state ...\n",
    "    for action in actions_f(state):\n",
    "        #CHANGED IN A3: increment nodes expanded counter\n",
    "        n_nodes_expanded+= 1\n",
    "        # Apply the action to the current state to get a next state, named child_state\n",
    "        #CHANGED IN A3: only use the state, not the step cost\n",
    "        child_state = take_action_f(state, action)[0]\n",
    "        \n",
    "        # Recursively call this function to continue the search starting from the child_state.\n",
    "        # Decrease by one the depth_limit for this search.\n",
    "        result = depth_limited_search(child_state, goal_state, actions_f, take_action_f, depth_limit - 1)\n",
    "        \n",
    "        # If result was 'cufoff', just note that this happened.\n",
    "        if result is 'cutoff':\n",
    "            cutoff_occurred = True\n",
    "            \n",
    "        # If result was not 'failure', search succeeded so add childState to front of solution path and\n",
    "        # return that path.\n",
    "        elif result is not 'failure':\n",
    "            #Add child_state to front of partial solution path, in result, returned by depth_limited_search\n",
    "            result.insert(0, child_state)\n",
    "            return result\n",
    "        \n",
    "    # We reach here only if cutoff or failure occurred.  Return whichever occurred.\n",
    "    if cutoff_occurred:\n",
    "        return 'cutoff'\n",
    "    else:\n",
    "        return 'failure'"
   ]
  },
  {
   "cell_type": "code",
   "execution_count": 5,
   "metadata": {},
   "outputs": [],
   "source": [
    "#adapted from lecture notes 10\n",
    "def effective_branching_factor(n_nodes, depth, precision=0.01):\n",
    "    lower = 1\n",
    "    upper = n_nodes\n",
    "    b_est = 0\n",
    "    n_est = 0\n",
    "    while n_est > n_nodes+precision or n_est < n_nodes-precision:\n",
    "        print(lower, upper)\n",
    "        b_est = (lower+upper)/2\n",
    "        #to prevent division by 0\n",
    "        if lower == upper:\n",
    "            return upper\n",
    "        else:\n",
    "            n_est = (1-b_est**(depth+1))/(1-b_est)\n",
    "        if n_est > n_nodes:\n",
    "            upper = b_est\n",
    "        if n_est < n_nodes:\n",
    "            lower = b_est\n",
    "    return b_est"
   ]
  },
  {
   "cell_type": "code",
   "execution_count": 6,
   "metadata": {},
   "outputs": [],
   "source": [
    "#modified from A2\n",
    "def find_blank_8p(state):\n",
    "    #from lecture 9/8/2020\n",
    "    #if step cost is included then just look at state\n",
    "    if len(state) == 2:\n",
    "        zero_at = state[0].index(0)\n",
    "    else:\n",
    "        zero_at = state.index(0)\n",
    "    return zero_at // 3, zero_at % 3"
   ]
  },
  {
   "cell_type": "code",
   "execution_count": 7,
   "metadata": {},
   "outputs": [],
   "source": [
    "#from A2\n",
    "def print_state_8p(state):\n",
    "    print_state = ['-' if x == 0 else x for x in state]\n",
    "    print_string = ''\n",
    "    for i in range(len(print_state)):\n",
    "        if print_state[i] == '-':\n",
    "            print_string += '- '\n",
    "        else: \n",
    "            print_string += str(print_state[i])\n",
    "            print_string += ' '\n",
    "        if i % 3 == 2:\n",
    "            print_string += \"\\n\"\n",
    "    print(print_string)"
   ]
  },
  {
   "cell_type": "code",
   "execution_count": 8,
   "metadata": {},
   "outputs": [],
   "source": [
    "#modified from A2\n",
    "def actions_8p(state):\n",
    "    actions = []\n",
    "    s_cost = 1\n",
    "    if len(state) == 2:\n",
    "        s_cost = state[1]\n",
    "    blank = find_blank_8p(state)\n",
    "    if blank[1] != 0:\n",
    "        actions.append(('left', s_cost))\n",
    "    if blank[1] != 2:\n",
    "        actions.append(('right', s_cost))\n",
    "    if blank[0] != 0:\n",
    "        actions.append(('up', s_cost))\n",
    "    if blank[0] != 2:\n",
    "        actions.append(('down', s_cost))\n",
    "    return actions"
   ]
  },
  {
   "cell_type": "code",
   "execution_count": 9,
   "metadata": {},
   "outputs": [],
   "source": [
    "#modified from A2\n",
    "def take_action_8p(state, action):\n",
    "    s_cost = 1\n",
    "    if len(state) == 2:\n",
    "        s_cost = state[1]\n",
    "        return_state = state[0].copy()\n",
    "    else:\n",
    "        return_state = state.copy()\n",
    "    actions = actions_8p(state)\n",
    "    blank = find_blank_8p(state)\n",
    "    if len(state) == 2:\n",
    "        blank_index = state[0].index(0)\n",
    "    else:\n",
    "        blank_index = state.index(0)\n",
    "    acopy = actions.copy()\n",
    "    for t in range(len(acopy)):\n",
    "        acopy[t] = acopy[t][0]\n",
    "    if action[0] in acopy:\n",
    "        if action[0] == 'left':\n",
    "            return_state[blank_index] = return_state[blank_index-1]\n",
    "            return_state[blank_index-1] = 0\n",
    "        elif action[0] == 'right':\n",
    "            return_state[blank_index] = return_state[blank_index+1]\n",
    "            return_state[blank_index+1] = 0\n",
    "        elif action[0] == 'up':\n",
    "            return_state[blank_index] = return_state[blank_index-3]\n",
    "            return_state[blank_index-3] = 0\n",
    "        elif action[0] == 'down':\n",
    "            return_state[blank_index] = return_state[blank_index+3]\n",
    "            return_state[blank_index+3] = 0\n",
    "    return (return_state, s_cost)"
   ]
  },
  {
   "cell_type": "code",
   "execution_count": 10,
   "metadata": {},
   "outputs": [],
   "source": [
    "def goal_test_8p(state, goal):\n",
    "    if state == goal:\n",
    "        return True\n",
    "    else:\n",
    "        return False"
   ]
  },
  {
   "cell_type": "markdown",
   "metadata": {},
   "source": [
    "## Heuristic Functions\n",
    "\n",
    "For `Astar_search` use the following two heuristic functions, plus one more of your own design, for a total of three heuristic functions.\n",
    "\n",
    "  * `h1_8p(state, goal)`: $h(state, goal) = 0$, for all states $state$ and all goal states $goal$,\n",
    "  * `h2_8p(state, goal)`: $h(state, goal) = m$, where $m$ is the Manhattan distance that the blank is from its goal position,\n",
    "  * `h3_8p(state, goal)`: $h(state, goal) = ?$, that you define.  It must be admissible, and not constant for all states."
   ]
  },
  {
   "cell_type": "code",
   "execution_count": 11,
   "metadata": {},
   "outputs": [],
   "source": [
    "def h1_8p(state, goal):\n",
    "    return 0"
   ]
  },
  {
   "cell_type": "code",
   "execution_count": 12,
   "metadata": {},
   "outputs": [],
   "source": [
    "def h2_8p(state, goal):\n",
    "    state_blank = find_blank_8p(state)\n",
    "    goal_blank = find_blank_8p(goal)\n",
    "    r_dist = abs((state_blank[0]-goal_blank[0]))\n",
    "    col_dist = abs((state_blank[1]-goal_blank[1]))\n",
    "    m_dist = r_dist + col_dist\n",
    "    return m_dist"
   ]
  },
  {
   "cell_type": "code",
   "execution_count": 13,
   "metadata": {},
   "outputs": [],
   "source": [
    "#this will be a \"bad\" heuristic function, it will only account for horizontal/column distance between blank and goal\n",
    "#therefore is never overestimates, it will only underestimate, since it does not take into account the vertical/row distance\n",
    "#since it never overestimates it is admissible\n",
    "def h3_8p(state, goal):\n",
    "    state_blank = find_blank_8p(state)\n",
    "    goal_blank = find_blank_8p(goal)\n",
    "    col_dist = abs((state_blank[1]-goal_blank[1]))\n",
    "    return col_dist"
   ]
  },
  {
   "cell_type": "markdown",
   "metadata": {},
   "source": [
    "## Comparison"
   ]
  },
  {
   "cell_type": "markdown",
   "metadata": {},
   "source": [
    "Apply all four algorithms (`iterative_deepening_search` plus `Astar_search` with the three heuristic\n",
    "functions) to three eight-tile puzzle problems with start state\n",
    "\n",
    "$$\n",
    "\\begin{array}{ccc}\n",
    "1 & 2 & 3\\\\\n",
    "4 & 0 & 5\\\\\n",
    "6 & 7 & 8\n",
    "\\end{array}\n",
    "$$\n",
    "\n",
    "and these three goal states.\n",
    "\n",
    "$$\n",
    "\\begin{array}{ccccccccccc}\n",
    "1 & 2 & 3  & ~~~~ & 1 & 2 & 3  &  ~~~~ & 1 & 0 &  3\\\\\n",
    "4 & 0 & 5  & & 4 & 5 & 8  & & 4 & 5 & 8\\\\\n",
    "6 & 7 & 8 &  & 6 & 0 & 7  & & 2 & 6 & 7\n",
    "\\end{array}\n",
    "$$"
   ]
  },
  {
   "cell_type": "markdown",
   "metadata": {},
   "source": [
    "Print a well-formatted table like the following.  Try to match this\n",
    "format. If you have time, you might consider learning a bit about the `DataFrame` class in the `pandas` package.  When displayed in jupyter notebooks, `pandas.DataFrame` objects are nicely formatted in html.\n",
    "\n",
    "           [1, 2, 3, 4, 0, 5, 6, 7, 8]    [1, 2, 3, 4, 5, 8, 6, 0, 7]    [1, 0, 3, 4, 5, 8, 2, 6, 7] \n",
    "    Algorithm    Depth  Nodes  EBF              Depth  Nodes  EBF              Depth  Nodes  EBF          \n",
    "         IDS       0      0  0.000                3     43  3.086               11 225850  2.954         \n",
    "        A*h1       0      0  0.000                3    116  4.488               11 643246  3.263         \n",
    "        A*h2       0      0  0.000                3     51  3.297               11 100046  2.733         \n",
    "\n",
    "Of course you will have one more line for `h3`."
   ]
  },
  {
   "cell_type": "markdown",
   "metadata": {},
   "source": [
    "First, some example output for the effective_branching_factor function.  During execution, this example shows debugging output which is the low and high values passed into a recursive helper function."
   ]
  },
  {
   "cell_type": "code",
   "execution_count": 14,
   "metadata": {},
   "outputs": [
    {
     "name": "stdout",
     "output_type": "stream",
     "text": [
      "1 10\n",
      "1 5.5\n",
      "1 3.25\n",
      "1 2.125\n",
      "1.5625 2.125\n",
      "1.5625 1.84375\n",
      "1.5625 1.703125\n",
      "1.6328125 1.703125\n",
      "1.6328125 1.66796875\n",
      "1.650390625 1.66796875\n",
      "1.6591796875 1.66796875\n",
      "1.6591796875 1.66357421875\n"
     ]
    },
    {
     "data": {
      "text/plain": [
       "1.661376953125"
      ]
     },
     "execution_count": 14,
     "metadata": {},
     "output_type": "execute_result"
    }
   ],
   "source": [
    "effective_branching_factor(10, 3)"
   ]
  },
  {
   "cell_type": "markdown",
   "metadata": {},
   "source": [
    "The smallest argument values should be a depth of 0, and 1 node."
   ]
  },
  {
   "cell_type": "code",
   "execution_count": 15,
   "metadata": {},
   "outputs": [
    {
     "name": "stdout",
     "output_type": "stream",
     "text": [
      "1 1\n"
     ]
    },
    {
     "data": {
      "text/plain": [
       "1"
      ]
     },
     "execution_count": 15,
     "metadata": {},
     "output_type": "execute_result"
    }
   ],
   "source": [
    "effective_branching_factor(1, 0)"
   ]
  },
  {
   "cell_type": "code",
   "execution_count": 16,
   "metadata": {},
   "outputs": [
    {
     "name": "stdout",
     "output_type": "stream",
     "text": [
      "1 2\n",
      "1 1.5\n",
      "1 1.25\n",
      "1 1.125\n",
      "1 1.0625\n",
      "1 1.03125\n",
      "1 1.015625\n"
     ]
    },
    {
     "data": {
      "text/plain": [
       "1.0078125"
      ]
     },
     "execution_count": 16,
     "metadata": {},
     "output_type": "execute_result"
    }
   ],
   "source": [
    "effective_branching_factor(2, 1)"
   ]
  },
  {
   "cell_type": "code",
   "execution_count": 17,
   "metadata": {},
   "outputs": [
    {
     "name": "stdout",
     "output_type": "stream",
     "text": [
      "1 2\n",
      "1 1.5\n",
      "1 1.25\n",
      "1 1.125\n",
      "1 1.0625\n",
      "1 1.03125\n",
      "1 1.015625\n",
      "1 1.0078125\n",
      "1 1.00390625\n",
      "1 1.001953125\n",
      "1 1.0009765625\n",
      "1 1.00048828125\n",
      "1 1.000244140625\n",
      "1 1.0001220703125\n",
      "1 1.00006103515625\n",
      "1 1.000030517578125\n",
      "1 1.0000152587890625\n",
      "1 1.0000076293945312\n",
      "1 1.0000038146972656\n",
      "1 1.0000019073486328\n"
     ]
    },
    {
     "data": {
      "text/plain": [
       "1.0000009536743164"
      ]
     },
     "execution_count": 17,
     "metadata": {},
     "output_type": "execute_result"
    }
   ],
   "source": [
    "effective_branching_factor(2, 1, precision=0.000001)"
   ]
  },
  {
   "cell_type": "code",
   "execution_count": 18,
   "metadata": {},
   "outputs": [
    {
     "name": "stdout",
     "output_type": "stream",
     "text": [
      "1 200000\n",
      "1 100000.5\n",
      "1 50000.75\n",
      "1 25000.875\n",
      "1 12500.9375\n",
      "1 6250.96875\n",
      "1 3125.984375\n",
      "1 1563.4921875\n",
      "1 782.24609375\n",
      "1 391.623046875\n",
      "1 196.3115234375\n",
      "1 98.65576171875\n",
      "1 49.827880859375\n",
      "1 25.4139404296875\n",
      "1 13.20697021484375\n",
      "7.103485107421875 13.20697021484375\n",
      "10.155227661132812 13.20697021484375\n",
      "10.155227661132812 11.681098937988281\n",
      "10.918163299560547 11.681098937988281\n",
      "10.918163299560547 11.299631118774414\n",
      "11.10889720916748 11.299631118774414\n",
      "11.204264163970947 11.299631118774414\n",
      "11.25194764137268 11.299631118774414\n",
      "11.25194764137268 11.275789380073547\n",
      "11.263868510723114 11.275789380073547\n",
      "11.26982894539833 11.275789380073547\n",
      "11.272809162735939 11.275789380073547\n",
      "11.274299271404743 11.275789380073547\n",
      "11.275044325739145 11.275789380073547\n",
      "11.275416852906346 11.275789380073547\n",
      "11.275416852906346 11.275603116489947\n",
      "11.275509984698147 11.275603116489947\n",
      "11.275556550594047 11.275603116489947\n",
      "11.275579833541997 11.275603116489947\n",
      "11.275591475015972 11.275603116489947\n",
      "11.275591475015972 11.27559729575296\n",
      "11.275594385384466 11.27559729575296\n",
      "11.275595840568712 11.27559729575296\n",
      "11.275596568160836 11.27559729575296\n"
     ]
    },
    {
     "data": {
      "text/plain": [
       "11.275596931956898"
      ]
     },
     "execution_count": 18,
     "metadata": {},
     "output_type": "execute_result"
    }
   ],
   "source": [
    "effective_branching_factor(200000, 5)"
   ]
  },
  {
   "cell_type": "code",
   "execution_count": 19,
   "metadata": {},
   "outputs": [
    {
     "name": "stdout",
     "output_type": "stream",
     "text": [
      "1 200000\n",
      "1 100000.5\n",
      "1 50000.75\n",
      "1 25000.875\n",
      "1 12500.9375\n",
      "1 6250.96875\n",
      "1 3125.984375\n",
      "1 1563.4921875\n",
      "1 782.24609375\n",
      "1 391.623046875\n",
      "1 196.3115234375\n",
      "1 98.65576171875\n",
      "1 49.827880859375\n",
      "1 25.4139404296875\n",
      "1 13.20697021484375\n",
      "1 7.103485107421875\n",
      "1 4.0517425537109375\n",
      "1 2.5258712768554688\n",
      "1 1.7629356384277344\n",
      "1 1.3814678192138672\n",
      "1.1907339096069336 1.3814678192138672\n",
      "1.1907339096069336 1.2861008644104004\n",
      "1.1907339096069336 1.238417387008667\n",
      "1.2145756483078003 1.238417387008667\n",
      "1.2264965176582336 1.238417387008667\n",
      "1.2324569523334503 1.238417387008667\n",
      "1.2324569523334503 1.2354371696710587\n",
      "1.2339470610022545 1.2354371696710587\n",
      "1.2346921153366566 1.2354371696710587\n",
      "1.2346921153366566 1.2350646425038576\n",
      "1.2346921153366566 1.234878378920257\n",
      "1.2347852471284568 1.234878378920257\n",
      "1.2347852471284568 1.234831813024357\n",
      "1.234808530076407 1.234831813024357\n",
      "1.234808530076407 1.234820171550382\n",
      "1.2348143508133944 1.234820171550382\n",
      "1.2348172611818882 1.234820171550382\n",
      "1.234818716366135 1.234820171550382\n",
      "1.234818716366135 1.2348194439582585\n",
      "1.2348190801621968 1.2348194439582585\n",
      "1.2348190801621968 1.2348192620602276\n",
      "1.2348191711112122 1.2348192620602276\n",
      "1.23481921658572 1.2348192620602276\n",
      "1.2348192393229738 1.2348192620602276\n",
      "1.2348192393229738 1.2348192506916007\n",
      "1.2348192450072872 1.2348192506916007\n",
      "1.234819247849444 1.2348192506916007\n"
     ]
    },
    {
     "data": {
      "text/plain": [
       "1.2348192492705223"
      ]
     },
     "execution_count": 19,
     "metadata": {},
     "output_type": "execute_result"
    }
   ],
   "source": [
    "effective_branching_factor(200000, 50)"
   ]
  },
  {
   "cell_type": "markdown",
   "metadata": {},
   "source": [
    "Here is a simple example using our usual simple graph search."
   ]
  },
  {
   "cell_type": "code",
   "execution_count": 20,
   "metadata": {},
   "outputs": [],
   "source": [
    "def actions_simple(state):\n",
    "    succs = {'a': ['b', 'c'], 'b':['a'], 'c':['h'], 'h':['i'], 'i':['j', 'k', 'l'], 'k':['z']}\n",
    "    return [(s, 1) for s in succs.get(state, [])]\n",
    "\n",
    "def take_action_simple(state, action):\n",
    "    return action\n",
    "\n",
    "def goal_test_simple(state, goal):\n",
    "    return state == goal\n",
    "\n",
    "def h_simple(state, goal):\n",
    "    return 1"
   ]
  },
  {
   "cell_type": "code",
   "execution_count": 21,
   "metadata": {},
   "outputs": [
    {
     "data": {
      "text/plain": [
       "[('b', 1), ('c', 1)]"
      ]
     },
     "execution_count": 21,
     "metadata": {},
     "output_type": "execute_result"
    }
   ],
   "source": [
    "actions = actions_simple('a')\n",
    "actions"
   ]
  },
  {
   "cell_type": "code",
   "execution_count": 22,
   "metadata": {},
   "outputs": [
    {
     "data": {
      "text/plain": [
       "('b', 1)"
      ]
     },
     "execution_count": 22,
     "metadata": {},
     "output_type": "execute_result"
    }
   ],
   "source": [
    "take_action_simple('a', actions[0])"
   ]
  },
  {
   "cell_type": "code",
   "execution_count": 23,
   "metadata": {},
   "outputs": [
    {
     "data": {
      "text/plain": [
       "True"
      ]
     },
     "execution_count": 23,
     "metadata": {},
     "output_type": "execute_result"
    }
   ],
   "source": [
    "goal_test_simple('a', 'a')"
   ]
  },
  {
   "cell_type": "code",
   "execution_count": 24,
   "metadata": {},
   "outputs": [
    {
     "data": {
      "text/plain": [
       "1"
      ]
     },
     "execution_count": 24,
     "metadata": {},
     "output_type": "execute_result"
    }
   ],
   "source": [
    "h_simple('a', 'z')"
   ]
  },
  {
   "cell_type": "code",
   "execution_count": 25,
   "metadata": {},
   "outputs": [
    {
     "data": {
      "text/plain": [
       "['a', 'c', 'h', 'i', 'k', 'z']"
      ]
     },
     "execution_count": 25,
     "metadata": {},
     "output_type": "execute_result"
    }
   ],
   "source": [
    "iterative_deepening_search('a', 'z', actions_simple, take_action_simple, 10)"
   ]
  },
  {
   "cell_type": "code",
   "execution_count": 26,
   "metadata": {},
   "outputs": [
    {
     "data": {
      "text/plain": [
       "(['a', 'c', 'h', 'i', 'k', 'z'], 5)"
      ]
     },
     "execution_count": 26,
     "metadata": {},
     "output_type": "execute_result"
    }
   ],
   "source": [
    "Astar_search('a',actions_simple, take_action_simple,\n",
    "            lambda s: goal_test_simple(s, 'z'),\n",
    "            lambda s: h_simple(s, 'z'))"
   ]
  },
  {
   "cell_type": "code",
   "execution_count": 27,
   "metadata": {},
   "outputs": [],
   "source": [
    "import pandas\n",
    "def run_experiment(goal_state_1, goal_state_2, goal_state_3, h_list):\n",
    "    global n_nodes_expanded\n",
    "    goal_states = [goal_state_1, goal_state_2, goal_state_3]\n",
    "    results = []\n",
    "    sub_results = []\n",
    "    sub_results.append(\"IDS\")\n",
    "    #run IDS for each goal state\n",
    "    for goal_s in goal_states:\n",
    "        IDS_results = iterative_deepening_search(state, goal_s, actions_8p, take_action_8p, 20)\n",
    "        solution_depth = len(IDS_results)-1\n",
    "        sub_results.append(solution_depth)\n",
    "        sub_results.append(n_nodes_expanded)\n",
    "        ebf = round(effective_branching_factor(n_nodes_expanded, solution_depth), 3)\n",
    "        sub_results.append(ebf)\n",
    "    results.append(sub_results)\n",
    "    sub_results = []\n",
    "    #run A* for each goal state for each heuristic function\n",
    "    for h in h_list:\n",
    "        #will not give correct heuristic name if it is defined differently from h1, h2, h3\n",
    "        sub_results.append(\"A*\"+str(h)[10:12])\n",
    "        for goal_s in goal_states:\n",
    "            Astar_results = Astar_search(state, actions_8p, take_action_8p, lambda s: goal_test_8p(s, goal_s), lambda s: h(s, goal_s))\n",
    "            solution_depth = Astar_results[len(Astar_results)-1]\n",
    "            sub_results.append(solution_depth)\n",
    "            sub_results.append(n_nodes_expanded)\n",
    "            ebf = round(effective_branching_factor(n_nodes_expanded, solution_depth), 3)\n",
    "            sub_results.append(ebf)\n",
    "        results.append(sub_results)\n",
    "        sub_results = []\n",
    "    results.append(sub_results)\n",
    "    #get rid of excess result added\n",
    "    results.pop(-1)\n",
    "    print(\"results:\",results)\n",
    "    print(\"  [1, 2, 3, 4, 0, 5, 6, 7, 8][1, 2, 3, 4, 5, 8, 6, 0, 7][1, 0, 3, 4, 5, 8, 2, 6, 7] \")\n",
    "    df = pandas.DataFrame(results, columns=('Algorithm', 'Depth', 'Nodes', 'EBF', '  Depth', 'Nodes', 'EBF', '  Depth', 'Nodes', 'EBF',))\n",
    "    pandas.options.display.max_colwidth=10\n",
    "    print(df)\n",
    "    "
   ]
  },
  {
   "cell_type": "code",
   "execution_count": 28,
   "metadata": {
    "scrolled": true
   },
   "outputs": [
    {
     "name": "stdout",
     "output_type": "stream",
     "text": [
      "1 43\n",
      "1 22.0\n",
      "1 11.5\n",
      "1 6.25\n",
      "1 3.625\n",
      "2.3125 3.625\n",
      "2.96875 3.625\n",
      "2.96875 3.296875\n",
      "2.96875 3.1328125\n",
      "3.05078125 3.1328125\n",
      "3.05078125 3.091796875\n",
      "3.0712890625 3.091796875\n",
      "3.08154296875 3.091796875\n",
      "3.08154296875 3.086669921875\n",
      "3.0841064453125 3.086669921875\n",
      "3.08538818359375 3.086669921875\n",
      "1 225850\n",
      "1 112925.5\n",
      "1 56463.25\n",
      "1 28232.125\n",
      "1 14116.5625\n",
      "1 7058.78125\n",
      "1 3529.890625\n",
      "1 1765.4453125\n",
      "1 883.22265625\n",
      "1 442.111328125\n",
      "1 221.5556640625\n",
      "1 111.27783203125\n",
      "1 56.138916015625\n",
      "1 28.5694580078125\n",
      "1 14.78472900390625\n",
      "1 7.892364501953125\n",
      "1 4.4461822509765625\n",
      "2.7230911254882812 4.4461822509765625\n",
      "2.7230911254882812 3.584636688232422\n",
      "2.7230911254882812 3.1538639068603516\n",
      "2.9384775161743164 3.1538639068603516\n",
      "2.9384775161743164 3.046170711517334\n",
      "2.9384775161743164 2.992324113845825\n",
      "2.9384775161743164 2.965400815010071\n",
      "2.9519391655921936 2.965400815010071\n",
      "2.9519391655921936 2.958669990301132\n",
      "2.9519391655921936 2.955304577946663\n",
      "2.9536218717694283 2.955304577946663\n",
      "2.9536218717694283 2.9544632248580456\n",
      "2.9536218717694283 2.954042548313737\n",
      "2.9538322100415826 2.954042548313737\n",
      "2.9538322100415826 2.9539373791776597\n",
      "2.9538322100415826 2.953884794609621\n",
      "2.953858502325602 2.953884794609621\n",
      "2.9538716484676115 2.953884794609621\n",
      "2.9538782215386163 2.953884794609621\n",
      "2.9538815080741188 2.953884794609621\n",
      "2.9538815080741188 2.95388315134187\n",
      "2.9538823297079944 2.95388315134187\n",
      "2.953882740524932 2.95388315134187\n",
      "2.953882945933401 2.95388315134187\n",
      "2.9538830486376355 2.95388315134187\n",
      "1 116\n",
      "1 58.5\n",
      "1 29.75\n",
      "1 15.375\n",
      "1 8.1875\n",
      "1 4.59375\n",
      "2.796875 4.59375\n",
      "3.6953125 4.59375\n",
      "4.14453125 4.59375\n",
      "4.369140625 4.59375\n",
      "4.4814453125 4.59375\n",
      "4.4814453125 4.53759765625\n",
      "4.4814453125 4.509521484375\n",
      "4.4814453125 4.4954833984375\n",
      "4.4814453125 4.48846435546875\n",
      "4.484954833984375 4.48846435546875\n",
      "4.4867095947265625 4.48846435546875\n",
      "1 643246\n",
      "1 321623.5\n",
      "1 160812.25\n",
      "1 80406.625\n",
      "1 40203.8125\n",
      "1 20102.40625\n",
      "1 10051.703125\n",
      "1 5026.3515625\n",
      "1 2513.67578125\n",
      "1 1257.337890625\n",
      "1 629.1689453125\n",
      "1 315.08447265625\n",
      "1 158.042236328125\n",
      "1 79.5211181640625\n",
      "1 40.26055908203125\n",
      "1 20.630279541015625\n",
      "1 10.815139770507812\n",
      "1 5.907569885253906\n",
      "1 3.453784942626953\n",
      "2.2268924713134766 3.453784942626953\n",
      "2.840338706970215 3.453784942626953\n",
      "3.147061824798584 3.453784942626953\n",
      "3.147061824798584 3.3004233837127686\n",
      "3.2237426042556763 3.3004233837127686\n",
      "3.2620829939842224 3.3004233837127686\n",
      "3.2620829939842224 3.2812531888484955\n",
      "3.2620829939842224 3.271668091416359\n",
      "3.2620829939842224 3.2668755427002907\n",
      "3.2620829939842224 3.2644792683422565\n",
      "3.2620829939842224 3.2632811311632395\n",
      "3.262682062573731 3.2632811311632395\n",
      "3.262682062573731 3.262981596868485\n",
      "3.262682062573731 3.262831829721108\n",
      "3.262682062573731 3.2627569461474195\n",
      "3.2627195043605752 3.2627569461474195\n",
      "3.2627382252539974 3.2627569461474195\n",
      "3.2627475857007084 3.2627569461474195\n",
      "3.262752265924064 3.2627569461474195\n",
      "3.2627546060357417 3.2627569461474195\n",
      "3.2627557760915806 3.2627569461474195\n",
      "3.2627557760915806 3.2627563611195\n",
      "3.2627557760915806 3.2627560686055403\n",
      "3.2627559223485605 3.2627560686055403\n",
      "3.2627559223485605 3.2627559954770504\n",
      "3.2627559589128055 3.2627559954770504\n",
      "3.2627559589128055 3.262755977194928\n",
      "1 51\n",
      "1 26.0\n",
      "1 13.5\n",
      "1 7.25\n",
      "1 4.125\n",
      "2.5625 4.125\n",
      "2.5625 3.34375\n",
      "2.953125 3.34375\n",
      "3.1484375 3.34375\n",
      "3.24609375 3.34375\n",
      "3.294921875 3.34375\n",
      "3.294921875 3.3193359375\n",
      "3.294921875 3.30712890625\n",
      "3.294921875 3.301025390625\n",
      "3.294921875 3.2979736328125\n",
      "3.29644775390625 3.2979736328125\n",
      "3.29644775390625 3.297210693359375\n",
      "1 100046\n",
      "1 50023.5\n",
      "1 25012.25\n",
      "1 12506.625\n",
      "1 6253.8125\n",
      "1 3127.40625\n",
      "1 1564.203125\n",
      "1 782.6015625\n",
      "1 391.80078125\n",
      "1 196.400390625\n",
      "1 98.7001953125\n",
      "1 49.85009765625\n",
      "1 25.425048828125\n",
      "1 13.2125244140625\n",
      "1 7.10626220703125\n",
      "1 4.053131103515625\n",
      "2.5265655517578125 4.053131103515625\n",
      "2.5265655517578125 3.2898483276367188\n",
      "2.5265655517578125 2.9082069396972656\n",
      "2.717386245727539 2.9082069396972656\n",
      "2.717386245727539 2.8127965927124023\n",
      "2.717386245727539 2.7650914192199707\n",
      "2.717386245727539 2.741238832473755\n",
      "2.729312539100647 2.741238832473755\n",
      "2.729312539100647 2.735275685787201\n",
      "2.732294112443924 2.735275685787201\n",
      "2.732294112443924 2.7337848991155624\n",
      "2.732294112443924 2.733039505779743\n",
      "2.732294112443924 2.7326668091118336\n",
      "2.7324804607778788 2.7326668091118336\n",
      "2.732573634944856 2.7326668091118336\n",
      "2.732573634944856 2.732620222028345\n",
      "2.732573634944856 2.7325969284866005\n",
      "2.7325852817157283 2.7325969284866005\n",
      "2.7325911051011644 2.7325969284866005\n",
      "2.7325911051011644 2.7325940167938825\n",
      "2.7325925609475235 2.7325940167938825\n",
      "2.7325925609475235 2.732593288870703\n",
      "2.7325925609475235 2.732592924909113\n",
      "2.7325925609475235 2.7325927429283183\n",
      "2.7325925609475235 2.732592651937921\n",
      "1 48\n",
      "1 24.5\n",
      "1 12.75\n",
      "1 6.875\n",
      "1 3.9375\n",
      "2.46875 3.9375\n",
      "3.203125 3.9375\n",
      "3.203125 3.5703125\n",
      "3.203125 3.38671875\n",
      "3.203125 3.294921875\n",
      "3.203125 3.2490234375\n",
      "3.203125 3.22607421875\n",
      "3.214599609375 3.22607421875\n",
      "3.2203369140625 3.22607421875\n",
      "3.2203369140625 3.22320556640625\n",
      "3.2203369140625 3.221771240234375\n",
      "3.2203369140625 3.2210540771484375\n",
      "1 434444\n",
      "1 217222.5\n",
      "1 108611.75\n",
      "1 54306.375\n",
      "1 27153.6875\n",
      "1 13577.34375\n",
      "1 6789.171875\n",
      "1 3395.0859375\n",
      "1 1698.04296875\n",
      "1 849.521484375\n",
      "1 425.2607421875\n",
      "1 213.13037109375\n",
      "1 107.065185546875\n",
      "1 54.0325927734375\n",
      "1 27.51629638671875\n",
      "1 14.258148193359375\n",
      "1 7.6290740966796875\n",
      "1 4.314537048339844\n",
      "2.657268524169922 4.314537048339844\n",
      "2.657268524169922 3.485902786254883\n",
      "3.0715856552124023 3.485902786254883\n",
      "3.0715856552124023 3.2787442207336426\n",
      "3.0715856552124023 3.1751649379730225\n",
      "3.1233752965927124 3.1751649379730225\n",
      "3.1233752965927124 3.1492701172828674\n",
      "3.13632270693779 3.1492701172828674\n",
      "3.1427964121103287 3.1492701172828674\n",
      "3.1427964121103287 3.146033264696598\n",
      "3.1427964121103287 3.1444148384034634\n",
      "3.1427964121103287 3.143605625256896\n",
      "3.1432010186836123 3.143605625256896\n",
      "3.143403321970254 3.143605625256896\n",
      "3.143504473613575 3.143605625256896\n",
      "3.1435550494352356 3.143605625256896\n",
      "3.1435550494352356 3.143580337346066\n",
      "3.1435550494352356 3.1435676933906507\n",
      "3.143561371412943 3.1435676933906507\n",
      "3.143564532401797 3.1435676933906507\n",
      "3.143564532401797 3.143566112896224\n",
      "3.1435653226490103 3.143566112896224\n",
      "3.143565717772617 3.143566112896224\n",
      "3.1435659153344204 3.143566112896224\n",
      "3.143566014115322 3.143566112896224\n",
      "3.143566063505773 3.143566112896224\n",
      "results: [['IDS', 0, 0, 0, 3, 43, 3.086, 11, 225850, 2.954], ['A*h1', 0, 0, 0, 3, 116, 4.488, 11, 643246, 3.263], ['A*h2', 0, 0, 0, 3, 51, 3.297, 11, 100046, 2.733], ['A*h3', 0, 0, 0, 3, 48, 3.221, 11, 434444, 3.144]]\n",
      "  [1, 2, 3, 4, 0, 5, 6, 7, 8][1, 2, 3, 4, 5, 8, 6, 0, 7][1, 0, 3, 4, 5, 8, 2, 6, 7] \n",
      "  Algorithm  Depth  Nodes  EBF    Depth  Nodes    EBF    Depth   Nodes    EBF\n",
      "0       IDS      0      0    0        3     43  3.086       11  225850  2.954\n",
      "1      A*h1      0      0    0        3    116  4.488       11  643246  3.263\n",
      "2      A*h2      0      0    0        3     51  3.297       11  100046  2.733\n",
      "3      A*h3      0      0    0        3     48  3.221       11  434444  3.144\n"
     ]
    }
   ],
   "source": [
    "state = [1, 2, 3, 4, 0, 5, 6, 7, 8]\n",
    "goal_state_1 =  [1, 2, 3, 4, 0, 5, 6, 7, 8]\n",
    "goal_state_2 =  [1, 2, 3, 4, 5, 8, 6, 0, 7]\n",
    "goal_state_3 =  [1, 0, 3, 4, 5, 8, 2, 6, 7]\n",
    "run_experiment(goal_state_1, goal_state_2, goal_state_3, [h1_8p, h2_8p, h3_8p])"
   ]
  },
  {
   "cell_type": "markdown",
   "metadata": {},
   "source": [
    "# Discussion Part 1: The third heuristic function\n",
    "\n",
    "For my third heurstic function I implemented a \"bad\" heuristic function that outputs only the horizontal distance between the blank and the goal.  As such, it is worse than the second heuristic function, which accounts for both the horizontal and vertical distance to the goal.  I think that it is admissible since it never overestimates the distance to the goal.  In the case where the blank is on the same row as the goal, it will give the accurate distance from the goal.  In the case where the blank is on the same column as the goal it will give 0 distance from the goal.  And in the case where the blank is neither on the same row or same column as the goal it will give only the horizontal distance to the goal.  As such, in all these cases, the heursitic function will never overestimate the distance towards the goal: it will either give the correct distance or give an underestimate, since it does not account for vertical distance.  As such, since the heuristic function never overestimates the cost of the minimum cost path to the goal node, the heuristic function is admissible.  "
   ]
  },
  {
   "cell_type": "markdown",
   "metadata": {},
   "source": [
    "# Discussion Part 2: Similiarities and differences of search results\n",
    "\n",
    "The effective branching factor can be understood to be a measure of the number of nodes expanded to reach the goal state of a search, while also taking into account the depth that the solution was found at. As such, a higher effective branching factor means the search was less effective, in that it expanded more nodes before it reached the goal.  Therefore, effective branching factor can be used to measure the performance of a search.  For the first search problem, the start state was equal to the goal state, and as such all of the searches performed equally.  It can be seen that for the search problems chosen A* h1 performed the worst, with the highest effective branching factor for each (non-trivial) search problem attempted.  This is somewhat expected, since the h1 heuristic function always returns 0, giving no reliable indication of the distance from the blank to the goal.  IDS,  A* h2, and A* h3 performed better than A* h1 on all (non-trivial) occasions, having a lower effective branching factor on all search problems attempted.  A* h2 and A* h3 performed nearly evenly on the second search problem, but on the third search problem A* h2 produced a far lower effective branching factor than A* h3.  Seeing as the number of nodes expanded for the third search problem was much greater than for the second problem, I think that the more effective heuristic function of A* h2 was what allowed it to greatly outperform A* h3 for that problem.  For the second search problem, however, A* h3 actually had a slightly lower effective branching factor than  A* h2.  I think that this is because the solution for the 8 puzzle is more than simply moving the blank to the goal state.  As such, I think that even though the A* h3 heuristic function gave a less accurate indicator of the cost to move the blank to the goal state, it sometimes gave an answer that was more effective overall than the A* h2 heuristic function.  I think the difference in overall effectiveness between the A* h2 and A* h3 heuristic functions can still be seen clearly in the third search problem, which required many more moves to complete.  Since the third search problem required many more moves to complete, I think that the A* h2 heuristic function's higher accuracy had a greater overall effect than any randomness that may have produced a better result with A* h3.  I think the IDS search performed in a somewhat similar fashion to the A* h3 search, in that had a lower effective branching factor than A* h2 on the shorter second problem, but a greater effective branching factor on the third larger problem.  Since the IDS is an uninformed search, I think it performed better in the shorter search problem in the same way that A* h3 did, in that it had a higher chance of randomly running into the goal on a shorter problem.  On the longer search problem, however, I think the advantage of the informed A* h2 heuristic showed, as the A* h2 heuristic resulted in a lower effective branching factor than the IDS.  I think it is also worth noting that even on the longer search the IDS performed better than A* h3, showing that it takes a good heuristic function to make the A* search work effectively, which the A* h3 heuristic was not.  "
   ]
  },
  {
   "cell_type": "markdown",
   "metadata": {},
   "source": [
    "## Grading"
   ]
  },
  {
   "cell_type": "markdown",
   "metadata": {},
   "source": [
    "Download [A3grader.tar](http://www.cs.colostate.edu/~anderson/cs440/notebooks/A3grader.tar) and extract A3grader.py from it."
   ]
  },
  {
   "cell_type": "code",
   "execution_count": 29,
   "metadata": {},
   "outputs": [
    {
     "name": "stdout",
     "output_type": "stream",
     "text": [
      "\n",
      "======================= Code Execution =======================\n",
      "\n",
      "Extracting python code from notebook named 'Valdes-A3.ipynb' and storing in notebookcode.py\n",
      "Removing all statements that are not function or class defs or import statements.\n",
      "\n",
      "Testing actions_8p([1, 2, 3, 4, 5, 6, 7, 0, 8])\n",
      "\n",
      "--- 5/5 points. Your actions_8p correctly returned [('left', 1), ('right', 1), ('up', 1)]\n",
      "\n",
      "Testing take_action_8p([1, 2, 3, 4, 5, 6, 7, 0, 8], (up, 1))\n",
      "\n",
      "--- 5/5 points. Your take actions_8p correctly returned ([1, 2, 3, 4, 0, 6, 7, 5, 8], 1)\n",
      "\n",
      "Testing goal_test_8p([1, 2, 3, 4, 5, 6, 7, 0, 8], [1, 2, 3, 4, 5, 6, 7, 0, 8])\n",
      "\n",
      "--- 5/5 points. Your goal_test_8p correctly True\n",
      "\n",
      "Testing Astar_search(1, 2, 3, 4, 5, 6, 7, 0, 8],\n",
      "                     actions_8p, take_action_8p,\n",
      "                     lambda s: goal_test_8p(s, [0, 2, 3, 1, 4,  6, 7, 5, 8]),\n",
      "                     lambda s: h1_8p(s, [0, 2, 3, 1, 4,  6, 7, 5, 8]))\n",
      "\n",
      "--- 20/20 points. Your search correctly returned ([[1, 2, 3, 4, 5, 6, 7, 0, 8], [1, 2, 3, 4, 0, 6, 7, 5, 8], [1, 2, 3, 0, 4, 6, 7, 5, 8], [0, 2, 3, 1, 4, 6, 7, 5, 8]], 3)\n",
      "\n",
      "Testing iterative_deepening_search([1, 2, 3, 4, 5, 6, 7, 0, 8], \n",
      "                                 [0, 2, 3, 1, 4,  6, 7, 5, 8],\n",
      "                                 actions_8p, take_action_8p, 10)\n",
      "\n",
      "--- 15/15 points. Your search correctly returned [[1, 2, 3, 4, 5, 6, 7, 0, 8], [1, 2, 3, 4, 0, 6, 7, 5, 8], [1, 2, 3, 0, 4, 6, 7, 5, 8], [0, 2, 3, 1, 4, 6, 7, 5, 8]]\n",
      "\n",
      "Testing iterative_deepening_search([5, 2, 8, 0, 1, 4, 3, 7, 6], \n",
      "                                 [0, 2, 3, 1, 4,  6, 7, 5, 8],\n",
      "                                 actions_8p, take_action_8p, 10)\n",
      "\n",
      "--- 15/15 points. Your search correctly returned cutoff\n",
      "\n",
      "Testing effective_branching_factor(200, 6, 0.1)\n",
      "1 200\n",
      "1 100.5\n",
      "1 50.75\n",
      "1 25.875\n",
      "1 13.4375\n",
      "1 7.21875\n",
      "1 4.109375\n",
      "1 2.5546875\n",
      "1.77734375 2.5546875\n",
      "2.166015625 2.5546875\n",
      "2.166015625 2.3603515625\n",
      "2.166015625 2.26318359375\n",
      "2.166015625 2.214599609375\n",
      "2.166015625 2.1903076171875\n",
      "2.17816162109375 2.1903076171875\n",
      "2.184234619140625 2.1903076171875\n",
      "2.184234619140625 2.1872711181640625\n",
      "2.184234619140625 2.1857528686523438\n",
      "2.1849937438964844 2.1857528686523438\n",
      "\n",
      "--- 15/15 points. Your call to effective_branching_factor correctly returned 2.185373306274414\n",
      "\n",
      "======================================================================\n",
      "C:\\Users\\Adam Valdes\\CS 440 Execution Grade is 80 / 80\n",
      "======================================================================\n",
      "\n",
      "___ / 10 points.  At least 6 meaningful sentences describing your third heuristic function.\n",
      "                  Describe what it calculates and argue why you think it is admissible.\n",
      "\n",
      "___ / 10 points.  At least 6 more sentences that discuss the similarities and differences in your\n",
      "                  results for each search method and heuristic function.\n",
      "\n",
      "======================================================================\n",
      "C:\\Users\\Adam Valdes\\CS 440 Additional Grade is __ / 20\n",
      "======================================================================\n",
      "\n",
      "======================================================================\n",
      "C:\\Users\\Adam Valdes\\CS 440 FINAL GRADE is  _  / 100\n",
      "======================================================================\n",
      "\n",
      "Extra Credit: Earn one point of extra credit for adding the computation time to your results table\n",
      "and a discussion of the timing results.\n",
      "\n",
      "C:\\Users\\Adam Valdes\\CS 440 EXTRA CREDIT is 0 / 1\n"
     ]
    }
   ],
   "source": [
    "%run -i A3grader.py"
   ]
  },
  {
   "cell_type": "markdown",
   "metadata": {},
   "source": [
    "## Extra Credit"
   ]
  },
  {
   "cell_type": "markdown",
   "metadata": {},
   "source": [
    "Add a third column for each result (from running `runExperiment`) that is the number of seconds each search required.  You may get the total run time when running a function by doing\n",
    "\n",
    "     import time\n",
    "    \n",
    "     start_time = time.time()\n",
    "    \n",
    "     < do some python stuff >\n",
    "    \n",
    "     end_time = time.time()\n",
    "     print('This took', end_time - start_time, 'seconds.')\n"
   ]
  }
 ],
 "metadata": {
  "anaconda-cloud": {},
  "jupytext": {
   "formats": "ipynb,py:light"
  },
  "kernelspec": {
   "display_name": "Python 3",
   "language": "python",
   "name": "python3"
  },
  "language_info": {
   "codemirror_mode": {
    "name": "ipython",
    "version": 3
   },
   "file_extension": ".py",
   "mimetype": "text/x-python",
   "name": "python",
   "nbconvert_exporter": "python",
   "pygments_lexer": "ipython3",
   "version": "3.7.4"
  },
  "toc": {
   "base_numbering": 1,
   "nav_menu": {},
   "number_sections": true,
   "sideBar": true,
   "skip_h1_title": false,
   "title_cell": "Table of Contents",
   "title_sidebar": "Contents",
   "toc_cell": true,
   "toc_position": {},
   "toc_section_display": true,
   "toc_window_display": false
  }
 },
 "nbformat": 4,
 "nbformat_minor": 2
}
