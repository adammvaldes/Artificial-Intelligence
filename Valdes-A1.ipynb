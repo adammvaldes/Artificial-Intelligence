{
 "cells": [
  {
   "cell_type": "markdown",
   "metadata": {
    "toc": true
   },
   "source": [
    "<h1>Table of Contents<span class=\"tocSkip\"></span></h1>\n",
    "<div class=\"toc\"><ul class=\"toc-item\"><li><span><a href=\"#Assignment-1:-Uninformed-Search\" data-toc-modified-id=\"Assignment-1:-Uninformed-Search-1\"><span class=\"toc-item-num\">1&nbsp;&nbsp;</span>Assignment 1: Uninformed Search</a></span></li><li><span><a href=\"#Required-Code\" data-toc-modified-id=\"Required-Code-2\"><span class=\"toc-item-num\">2&nbsp;&nbsp;</span>Required Code</a></span></li><li><span><a href=\"#Example-1\" data-toc-modified-id=\"Example-1-3\"><span class=\"toc-item-num\">3&nbsp;&nbsp;</span>Example 1</a></span></li><li><span><a href=\"#Example-2\" data-toc-modified-id=\"Example-2-4\"><span class=\"toc-item-num\">4&nbsp;&nbsp;</span>Example 2</a></span></li><li><span><a href=\"#Required-Modification-to-the-Grid-Puzzle-(worth-20-points)\" data-toc-modified-id=\"Required-Modification-to-the-Grid-Puzzle-(worth-20-points)-5\"><span class=\"toc-item-num\">5&nbsp;&nbsp;</span>Required Modification to the Grid Puzzle (worth 20 points)</a></span></li><li><span><a href=\"#Extra-Credit\" data-toc-modified-id=\"Extra-Credit-6\"><span class=\"toc-item-num\">6&nbsp;&nbsp;</span>Extra Credit</a></span></li><li><span><a href=\"#Grading\" data-toc-modified-id=\"Grading-7\"><span class=\"toc-item-num\">7&nbsp;&nbsp;</span>Grading</a></span></li><li><span><a href=\"#Check-in\" data-toc-modified-id=\"Check-in-8\"><span class=\"toc-item-num\">8&nbsp;&nbsp;</span>Check-in</a></span></li></ul></div>"
   ]
  },
  {
   "cell_type": "markdown",
   "metadata": {},
   "source": [
    "# Assignment 1: Uninformed Search\n",
    "\n",
    "* *A1.1: First paragraph is changed. It no longer mentions a requirement of applying your search functions to a puzzle of your choice.*"
   ]
  },
  {
   "cell_type": "markdown",
   "metadata": {},
   "source": [
    "*Type your name here*"
   ]
  },
  {
   "cell_type": "markdown",
   "metadata": {},
   "source": [
    "Breadth-first and depth-first are two algorithms for performing\n",
    "uninformed search---a search that does not use\n",
    "knowledge about the goal of the search.  You will implement both\n",
    "search algorithms in python and test them on a simple graph.  Then you\n",
    "will apply your search algorithms to the grid navigation problem that you modify\n",
    "as explained below."
   ]
  },
  {
   "cell_type": "markdown",
   "metadata": {},
   "source": [
    "# Required Code"
   ]
  },
  {
   "cell_type": "markdown",
   "metadata": {},
   "source": [
    "In this jupyter notebook, you must implement at least the following functions.  The first function, `search`, implements the algorithm shown at the end of Lecture Notes `03 Problem-Solving Agents`."
   ]
  },
  {
   "cell_type": "markdown",
   "metadata": {},
   "source": [
    "`solution_path = search(start_state, goal_state, successors_f, breadth_first)`\n",
    "* `start_state`: single state where search starts\n",
    "* `goal_state`: signle state that represents the goal\n",
    "* `successors_f`: function that accepts a single argument that is a state and returns a list of states that can be reached in one step from the argument state\n",
    "* `breadth_first`: `True` or `False`.  If `True`, `search` performs a breadth-first search. Otherwise it performs a depth-first search.\n",
    "* `solution_path`: returned value that is either<br>\n",
    "  * a list of states that shows the path found from the start state to the goal state, or<br>\n",
    "  * the string `'Goal not found'` if the search has searched everywhere without finding the goal state."
   ]
  },
  {
   "cell_type": "markdown",
   "metadata": {},
   "source": [
    "The next two functions are very short, and just call `search`.  These are really just convenience functions so the user of your search algorithm does not need to know what the boolean-valued argument `breadth_first` means."
   ]
  },
  {
   "cell_type": "markdown",
   "metadata": {},
   "source": [
    "`solution_path = breadth_first_search(start_state, goal_state, successors_f)`\n",
    "* `start_state`: single state where search starts\n",
    "* `goal_state`: signle state that represents the goal\n",
    "* `successors_f`: function that accepts a single argument that is a state and returns a list of states that can be reached in one step from the argument state\n",
    "* `solution_path`: returned value that is either<br>\n",
    "  * a list of states that shows the path found from the start state to the goal state, or<br>\n",
    "  * the string `'Goal not found'` if the search has searched everywhere without finding the goal state."
   ]
  },
  {
   "cell_type": "markdown",
   "metadata": {},
   "source": [
    "\n",
    "`solution_path = depth_first_search(start_state, goal_state, successors_f)`\n",
    "* `start_state`: single state where search starts\n",
    "* `goal_state`: signle state that represents the goal\n",
    "* `successors_f`: function that accepts a single argument that is a state and returns a list of states that can be reached in one step from the argument state\n",
    "* `solution_path`: returned value that is either<br>\n",
    "  * a list of states that shows the path found from the start state to the goal state, or<br>\n",
    "  * the string `'Goal not found'` if the search has searched everywhere without finding the goal state."
   ]
  },
  {
   "cell_type": "markdown",
   "metadata": {},
   "source": [
    "  \n",
    "Each receives as arguments the starting state, the goal state, and a successors function.  If they succeed in finding the goal state, `breadth_first_search` returns the breadth-first solution path as a list of states starting with the `start_state` and ending with the `goal_state`.  `depth_first_search` returns the depth-first solution path.  If they do not success, they return the string `'Goal not found'`.\n",
    "\n",
    "Test your code by running them with a simple graph as shown in the following example, and with the grid example. \n",
    "\n",
    "Test your code on other graphs, too.  <font color='red'>The final grading script will include graphs not shown here.</font>"
   ]
  },
  {
   "cell_type": "code",
   "execution_count": 1,
   "metadata": {},
   "outputs": [],
   "source": [
    "def search(start_state, goal_state, successors_f, breadth_first):\n",
    "    #state : parent\n",
    "    expanded = {}\n",
    "    #(state, parent state)\n",
    "    un_expanded = [(start_state, None)]\n",
    "    if start_state == goal_state:\n",
    "        print(\"start_state == goal_state\")\n",
    "        return [start_state]\n",
    "    #not not <empty list> = false, not not <nonempty list> = true\n",
    "    while not not un_expanded:\n",
    "        #parent[0] = state, parent[1] = parent\n",
    "        parent = un_expanded.pop(len(un_expanded)-1)\n",
    "        children = successors_f(parent[0])\n",
    "        #change this?\n",
    "        #should this be expanded[tuple(parent[0])] = parent[1]\n",
    "        expanded[parent[0]] = parent[1]\n",
    "        #find indices of duplicates\n",
    "        delete_indices = []\n",
    "        for j in expanded:\n",
    "            delete_indices += [i for i, x in enumerate(children) if x == j]\n",
    "            delete_indices += [i for i, x in enumerate(children) if x == expanded[j]]\n",
    "        for j in range(len(un_expanded)):\n",
    "            for k in range(2):\n",
    "                delete_indices += [i for i, x in enumerate(children) if x == un_expanded[j][k]]\n",
    "        delete_indices2 = []\n",
    "        [delete_indices2.append(x) for x in delete_indices if x not in delete_indices2]\n",
    "        delete_indices2.sort(reverse=True)\n",
    "        for i in delete_indices2:\n",
    "            del children[i]\n",
    "        if goal_state in children:\n",
    "            #print(\"goal in children!\")\n",
    "            solution_path = [parent[0], goal_state]\n",
    "            while parent is not None and parent[1] is not None:\n",
    "                solution_path.insert(0, parent[1])\n",
    "                parent = (parent[1], expanded[parent[1]])\n",
    "                if parent == start_state:\n",
    "                    solution_path.insert(0, parent)\n",
    "                    #print(\"parent == start_state\")\n",
    "                    return solution_path\n",
    "            return solution_path\n",
    "        else:\n",
    "            children.sort(reverse=True)\n",
    "            m_children = []\n",
    "            for i in children:\n",
    "                m_children.append((i, parent[0]))\n",
    "            if breadth_first == True:\n",
    "                un_expanded = m_children + un_expanded\n",
    "            else:\n",
    "                un_expanded = un_expanded + m_children\n",
    "    return 'Goal not found'"
   ]
  },
  {
   "cell_type": "code",
   "execution_count": 2,
   "metadata": {},
   "outputs": [],
   "source": [
    "def breadth_first_search(start_state, goal_state, successors_f):\n",
    "    return search(start_state, goal_state, successors_f, True)"
   ]
  },
  {
   "cell_type": "code",
   "execution_count": 3,
   "metadata": {},
   "outputs": [],
   "source": [
    "def depth_first_search(start_state, goal_state, successors_f):\n",
    "    return search(start_state, goal_state, successors_f, False)"
   ]
  },
  {
   "cell_type": "markdown",
   "metadata": {},
   "source": [
    "# Example 1"
   ]
  },
  {
   "cell_type": "markdown",
   "metadata": {},
   "source": [
    "Here is a simple example.  States are defined by lower case letters.  A dictionary stores a list of successor states for each state in the graph that has successors."
   ]
  },
  {
   "cell_type": "code",
   "execution_count": 4,
   "metadata": {
    "lines_to_next_cell": 1
   },
   "outputs": [
    {
     "data": {
      "text/plain": [
       "{'a': ['b', 'c', 'd'],\n",
       " 'b': ['e', 'f', 'g'],\n",
       " 'c': ['a', 'h', 'i'],\n",
       " 'd': ['j', 'z'],\n",
       " 'e': ['a', 'k', 'l'],\n",
       " 'g': ['m'],\n",
       " 'k': ['z']}"
      ]
     },
     "execution_count": 4,
     "metadata": {},
     "output_type": "execute_result"
    }
   ],
   "source": [
    "successors = {'a':  ['b', 'c', 'd'],\n",
    "              'b':  ['e', 'f', 'g'],\n",
    "              'c':  ['a', 'h', 'i'],\n",
    "              'd':  ['j', 'z'],\n",
    "              'e':  ['a', 'k', 'l'],   # Watch out.  This creates the cycle a -> b -> e-> a\n",
    "              'g':  ['m'],\n",
    "              'k':  ['z']}\n",
    "successors"
   ]
  },
  {
   "cell_type": "markdown",
   "metadata": {},
   "source": [
    "Here is an example of a successors function that works for any search problem whose graph is explicitly represented with a successors dictionary as used in this example."
   ]
  },
  {
   "cell_type": "code",
   "execution_count": 5,
   "metadata": {},
   "outputs": [],
   "source": [
    "def successors_f(state): \n",
    "    successors = {'a':  ['b', 'c', 'd'],\n",
    "                  'b':  ['e', 'f', 'g'],\n",
    "                  'c':  ['a', 'h', 'i'],\n",
    "                  'd':  ['j', 'z'],\n",
    "                  'e':  ['a', 'k', 'l'],   # Watch out.  This creates the cycle a -> b -> e-> a\n",
    "                  'g':  ['m'],\n",
    "                  'k':  ['z']}\n",
    "    return successors.get(state, [])"
   ]
  },
  {
   "cell_type": "code",
   "execution_count": 6,
   "metadata": {},
   "outputs": [
    {
     "data": {
      "text/plain": [
       "['b', 'c', 'd']"
      ]
     },
     "execution_count": 6,
     "metadata": {},
     "output_type": "execute_result"
    }
   ],
   "source": [
    "successors_f('a')"
   ]
  },
  {
   "cell_type": "code",
   "execution_count": 7,
   "metadata": {},
   "outputs": [
    {
     "data": {
      "text/plain": [
       "['a', 'k', 'l']"
      ]
     },
     "execution_count": 7,
     "metadata": {},
     "output_type": "execute_result"
    }
   ],
   "source": [
    "successors_f('e')"
   ]
  },
  {
   "cell_type": "code",
   "execution_count": 8,
   "metadata": {},
   "outputs": [
    {
     "data": {
      "text/plain": [
       "[]"
      ]
     },
     "execution_count": 8,
     "metadata": {},
     "output_type": "execute_result"
    }
   ],
   "source": [
    "successors_f('q')"
   ]
  },
  {
   "cell_type": "code",
   "execution_count": 9,
   "metadata": {},
   "outputs": [
    {
     "name": "stdout",
     "output_type": "stream",
     "text": [
      "start_state == goal_state\n",
      "['a']\n"
     ]
    }
   ],
   "source": [
    "print(breadth_first_search('a', 'a', successors_f))"
   ]
  },
  {
   "cell_type": "code",
   "execution_count": 10,
   "metadata": {},
   "outputs": [
    {
     "name": "stdout",
     "output_type": "stream",
     "text": [
      "['a', 'b']\n"
     ]
    }
   ],
   "source": [
    "print(breadth_first_search('a', 'b', successors_f))"
   ]
  },
  {
   "cell_type": "code",
   "execution_count": 11,
   "metadata": {},
   "outputs": [
    {
     "name": "stdout",
     "output_type": "stream",
     "text": [
      "['a', 'c']\n"
     ]
    }
   ],
   "source": [
    "print(breadth_first_search('a', 'c', successors_f))"
   ]
  },
  {
   "cell_type": "code",
   "execution_count": 12,
   "metadata": {},
   "outputs": [
    {
     "name": "stdout",
     "output_type": "stream",
     "text": [
      "['a', 'd']\n"
     ]
    }
   ],
   "source": [
    "print(breadth_first_search('a', 'd', successors_f))"
   ]
  },
  {
   "cell_type": "code",
   "execution_count": 13,
   "metadata": {},
   "outputs": [
    {
     "name": "stdout",
     "output_type": "stream",
     "text": [
      "['a', 'b', 'e']\n"
     ]
    }
   ],
   "source": [
    "print(breadth_first_search('a', 'e', successors_f))"
   ]
  },
  {
   "cell_type": "code",
   "execution_count": 14,
   "metadata": {},
   "outputs": [
    {
     "name": "stdout",
     "output_type": "stream",
     "text": [
      "['a', 'b', 'g', 'm']\n"
     ]
    }
   ],
   "source": [
    "print(breadth_first_search('a', 'm', successors_f))"
   ]
  },
  {
   "cell_type": "code",
   "execution_count": 15,
   "metadata": {},
   "outputs": [
    {
     "name": "stdout",
     "output_type": "stream",
     "text": [
      "start_state == goal_state\n",
      "Path from a to a: ['a']\n",
      "Path from a to b: ['a', 'b']\n",
      "Path from a to c: ['a', 'c']\n",
      "Path from a to d: ['a', 'd']\n",
      "Path from a to e: ['a', 'b', 'e']\n",
      "Path from a to f: ['a', 'b', 'f']\n",
      "Path from a to g: ['a', 'b', 'g']\n",
      "Path from a to h: ['a', 'c', 'h']\n",
      "Path from a to i: ['a', 'c', 'i']\n",
      "Path from a to j: ['a', 'd', 'j']\n",
      "Path from a to k: ['a', 'b', 'e', 'k']\n",
      "Path from a to l: ['a', 'b', 'e', 'l']\n",
      "Path from a to m: ['a', 'b', 'g', 'm']\n",
      "Path from a to z: ['a', 'd', 'z']\n"
     ]
    }
   ],
   "source": [
    "for goal in ['a', 'b', 'c', 'd', 'e', 'f', 'g', 'h', 'i', 'j', 'k', 'l', 'm', 'z']:\n",
    "    path = breadth_first_search('a', goal, successors_f)\n",
    "    print(f'Path from a to {goal}: {path}')"
   ]
  },
  {
   "cell_type": "code",
   "execution_count": 16,
   "metadata": {},
   "outputs": [
    {
     "name": "stdout",
     "output_type": "stream",
     "text": [
      "start_state == goal_state\n",
      "Path from a to a: ['a']\n",
      "Path from a to b: ['a', 'b']\n",
      "Path from a to c: ['a', 'c']\n",
      "Path from a to d: ['a', 'd']\n",
      "Path from a to e: ['a', 'b', 'e']\n",
      "Path from a to f: ['a', 'b', 'f']\n",
      "Path from a to g: ['a', 'b', 'g']\n",
      "Path from a to h: ['a', 'c', 'h']\n",
      "Path from a to i: ['a', 'c', 'i']\n",
      "Path from a to j: ['a', 'd', 'j']\n",
      "Path from a to k: ['a', 'b', 'e', 'k']\n",
      "Path from a to l: ['a', 'b', 'e', 'l']\n",
      "Path from a to m: ['a', 'b', 'g', 'm']\n",
      "Path from a to z: ['a', 'b', 'e', 'k', 'z']\n"
     ]
    }
   ],
   "source": [
    "for goal in ['a', 'b', 'c', 'd', 'e', 'f', 'g', 'h', 'i', 'j', 'k', 'l', 'm', 'z']:\n",
    "    path = depth_first_search('a', goal, successors_f)\n",
    "    print(f'Path from a to {goal}: {path}')"
   ]
  },
  {
   "cell_type": "markdown",
   "metadata": {},
   "source": [
    "# Example 2"
   ]
  },
  {
   "cell_type": "markdown",
   "metadata": {},
   "source": [
    "Let's try a navigation problem around a grid of size 10 x 10. Rows and columns will be indexed from 0 to 9.\n",
    "\n",
    "The following function takes the input state and returns all possible states."
   ]
  },
  {
   "cell_type": "code",
   "execution_count": 17,
   "metadata": {},
   "outputs": [],
   "source": [
    "def grid_successors(state):\n",
    "    row, col = state\n",
    "    # succs will be list of tuples () rather than list of lists [] because state must\n",
    "    # be an immutable type to serve as a key in dictionary of expanded nodes\n",
    "    succs = []\n",
    "    for r in [-1, 0, 1]:   #check each row\n",
    "        for c in [-1, 0, 1]:  # check in each col\n",
    "            newr = row + r\n",
    "            newc = col + c\n",
    "            if 0 <= newr <= 9 and 0 <= newc <= 9:  \n",
    "                succs.append( (newr, newc) )\n",
    "    return succs"
   ]
  },
  {
   "cell_type": "code",
   "execution_count": 18,
   "metadata": {},
   "outputs": [
    {
     "data": {
      "text/plain": [
       "[(2, 3), (2, 4), (2, 5), (3, 3), (3, 4), (3, 5), (4, 3), (4, 4), (4, 5)]"
      ]
     },
     "execution_count": 18,
     "metadata": {},
     "output_type": "execute_result"
    }
   ],
   "source": [
    "grid_successors([3,4])"
   ]
  },
  {
   "cell_type": "code",
   "execution_count": 19,
   "metadata": {},
   "outputs": [
    {
     "data": {
      "text/plain": [
       "[(2, 8), (2, 9), (3, 8), (3, 9), (4, 8), (4, 9)]"
      ]
     },
     "execution_count": 19,
     "metadata": {},
     "output_type": "execute_result"
    }
   ],
   "source": [
    "grid_successors([3,9])"
   ]
  },
  {
   "cell_type": "code",
   "execution_count": 20,
   "metadata": {},
   "outputs": [
    {
     "data": {
      "text/plain": [
       "[(0, 0), (0, 1), (1, 0), (1, 1)]"
      ]
     },
     "execution_count": 20,
     "metadata": {},
     "output_type": "execute_result"
    }
   ],
   "source": [
    "grid_successors([0,0])"
   ]
  },
  {
   "cell_type": "code",
   "execution_count": 21,
   "metadata": {},
   "outputs": [
    {
     "name": "stdout",
     "output_type": "stream",
     "text": [
      "Breadth first\n",
      "path from (0, 0) to (9, 9) is [(0, 0), (1, 1), (2, 2), (3, 3), (4, 4), (5, 5), (6, 6), (7, 7), (8, 8), (9, 9)]\n"
     ]
    }
   ],
   "source": [
    "print('Breadth first')\n",
    "print('path from (0, 0) to (9, 9) is', breadth_first_search((0, 0), (9, 9), grid_successors))"
   ]
  },
  {
   "cell_type": "code",
   "execution_count": 22,
   "metadata": {},
   "outputs": [
    {
     "name": "stdout",
     "output_type": "stream",
     "text": [
      "Depth-first\n",
      "path from (0, 0) to (9, 9) is [(0, 0), (0, 1), (0, 2), (0, 3), (0, 4), (0, 5), (0, 6), (0, 7), (0, 8), (1, 9), (2, 8), (2, 7), (2, 6), (2, 5), (2, 4), (2, 3), (2, 2), (2, 1), (3, 0), (4, 0), (5, 0), (6, 0), (7, 0), (8, 0), (9, 1), (8, 2), (7, 2), (6, 2), (5, 2), (4, 3), (4, 4), (4, 5), (4, 6), (4, 7), (4, 8), (5, 9), (6, 8), (6, 7), (6, 6), (6, 5), (7, 4), (8, 4), (9, 5), (8, 6), (8, 7), (8, 8), (9, 9)]\n"
     ]
    }
   ],
   "source": [
    "print('Depth-first')\n",
    "print('path from (0, 0) to (9, 9) is', depth_first_search((0, 0), (9, 9), grid_successors))"
   ]
  },
  {
   "cell_type": "markdown",
   "metadata": {},
   "source": [
    "Let's plot the paths."
   ]
  },
  {
   "cell_type": "code",
   "execution_count": 23,
   "metadata": {},
   "outputs": [
    {
     "data": {
      "text/plain": [
       "[(0, 0),\n",
       " (0, 1),\n",
       " (0, 2),\n",
       " (0, 3),\n",
       " (0, 4),\n",
       " (0, 5),\n",
       " (0, 6),\n",
       " (0, 7),\n",
       " (0, 8),\n",
       " (1, 9),\n",
       " (2, 8),\n",
       " (2, 7),\n",
       " (2, 6),\n",
       " (2, 5),\n",
       " (2, 4),\n",
       " (2, 3),\n",
       " (2, 2),\n",
       " (2, 1),\n",
       " (3, 0),\n",
       " (4, 0),\n",
       " (5, 0),\n",
       " (6, 0),\n",
       " (7, 0),\n",
       " (8, 0),\n",
       " (9, 1),\n",
       " (8, 2),\n",
       " (7, 2),\n",
       " (6, 2),\n",
       " (5, 2),\n",
       " (4, 3),\n",
       " (4, 4),\n",
       " (4, 5),\n",
       " (4, 6),\n",
       " (4, 7),\n",
       " (4, 8),\n",
       " (5, 9),\n",
       " (6, 8),\n",
       " (6, 7),\n",
       " (6, 6),\n",
       " (6, 5),\n",
       " (7, 4),\n",
       " (8, 4),\n",
       " (9, 5),\n",
       " (8, 6),\n",
       " (8, 7),\n",
       " (8, 8),\n",
       " (9, 9)]"
      ]
     },
     "execution_count": 23,
     "metadata": {},
     "output_type": "execute_result"
    }
   ],
   "source": [
    "path_dfs = depth_first_search((0, 0), (9, 9), grid_successors)\n",
    "path_dfs"
   ]
  },
  {
   "cell_type": "markdown",
   "metadata": {},
   "source": [
    "Now, we have the path to goal state. To plot this path we must extract the first value in each tuple and put them in a list called `rows` to use as the $y$ coordinate of each point, and build a second list called `cols` of second values."
   ]
  },
  {
   "cell_type": "code",
   "execution_count": 24,
   "metadata": {},
   "outputs": [],
   "source": [
    "import matplotlib.pyplot as plt"
   ]
  },
  {
   "cell_type": "code",
   "execution_count": 25,
   "metadata": {},
   "outputs": [
    {
     "data": {
      "image/png": "[encoded data removed]",
      "text/plain": [
       "<Figure size 432x288 with 1 Axes>"
      ]
     },
     "metadata": {
      "needs_background": "light"
     },
     "output_type": "display_data"
    }
   ],
   "source": [
    "rows = [location[0] for location in path_dfs]\n",
    "cols = [location[1] for location in path_dfs]\n",
    "plt.plot(rows, cols, 'o-');"
   ]
  },
  {
   "cell_type": "code",
   "execution_count": 26,
   "metadata": {},
   "outputs": [
    {
     "name": "stdout",
     "output_type": "stream",
     "text": [
      "[(0, 0), (1, 1), (2, 2), (3, 3), (4, 4), (5, 5), (6, 6), (7, 7), (8, 8), (9, 9)]\n"
     ]
    },
    {
     "data": {
      "image/png": "[encoded data removed]",
      "text/plain": [
       "<Figure size 432x288 with 1 Axes>"
      ]
     },
     "metadata": {
      "needs_background": "light"
     },
     "output_type": "display_data"
    }
   ],
   "source": [
    "path_bfs = breadth_first_search((0, 0), (9, 9), grid_successors)\n",
    "print(path_bfs)\n",
    "rows = [location[0] for location in path_bfs]\n",
    "cols = [location[1] for location in path_bfs]\n",
    "plt.plot(rows, cols, 'o-');"
   ]
  },
  {
   "cell_type": "code",
   "execution_count": 27,
   "metadata": {},
   "outputs": [
    {
     "data": {
      "text/plain": [
       "'Goal not found'"
      ]
     },
     "execution_count": 27,
     "metadata": {},
     "output_type": "execute_result"
    }
   ],
   "source": [
    "depth_first_search((0, 0), (9, 20), grid_successors)"
   ]
  },
  {
   "cell_type": "markdown",
   "metadata": {},
   "source": [
    "# Required Modification to the Grid Puzzle (worth 20 points)\n",
    "\n",
    "Define a new function named `grid_successors_center_block` by copying the above `grid_successors` function and then modify it to add a square obstacle from coordinates (4, 4) to (6, 6).  Plot the path that results from doing breadth-first and depth-first searches with the start and goal states shown above.  Insert code cells and markdown cells here to do these steps."
   ]
  },
  {
   "cell_type": "markdown",
   "metadata": {},
   "source": [
    "*Define grid_successors_center_block here for 5 points.*"
   ]
  },
  {
   "cell_type": "code",
   "execution_count": 28,
   "metadata": {},
   "outputs": [],
   "source": [
    "def grid_successors_center_block(state):\n",
    "    row, col = state\n",
    "    # succs will be list of tuples () rather than list of lists [] because state must\n",
    "    # be an immutable type to serve as a key in dictionary of expanded nodes\n",
    "    succs = []\n",
    "    for r in [-1, 0, 1]:   #check each row\n",
    "        for c in [-1, 0, 1]:  # check in each col\n",
    "            newr = row + r\n",
    "            newc = col + c\n",
    "            #brute force method for blocking: list of all blocked tuples\n",
    "            blocked = [(4,4), (4,5), (4,6), (5,4), (5,5), (5,6), (6,4), (6,5), (6,6)]\n",
    "            if 0 <= newr <= 9 and 0 <= newc <= 9:\n",
    "                #do not add to succs if it is a blocked state\n",
    "                if (newr,newc) not in blocked:\n",
    "                    succs.append( (newr, newc) )\n",
    "    return succs"
   ]
  },
  {
   "cell_type": "markdown",
   "metadata": {},
   "source": [
    "In order to implement grid_successors_center_block I created a list of tuples with all of the blocked states.  I then used an if statement to add only tuples not in the list of blocked states to succs."
   ]
  },
  {
   "cell_type": "code",
   "execution_count": 29,
   "metadata": {},
   "outputs": [
    {
     "data": {
      "image/png": "[encoded data removed]",
      "text/plain": [
       "<Figure size 432x288 with 1 Axes>"
      ]
     },
     "metadata": {
      "needs_background": "light"
     },
     "output_type": "display_data"
    }
   ],
   "source": [
    "#DFS with center block\n",
    "path_dfs_block = depth_first_search((0, 0), (9, 9), grid_successors_center_block)\n",
    "rows = [location[0] for location in path_dfs_block]\n",
    "cols = [location[1] for location in path_dfs_block]\n",
    "plt.plot(rows, cols, 'o-');"
   ]
  },
  {
   "cell_type": "code",
   "execution_count": 30,
   "metadata": {},
   "outputs": [
    {
     "data": {
      "image/png": "[encoded data removed]",
      "text/plain": [
       "<Figure size 432x288 with 1 Axes>"
      ]
     },
     "metadata": {
      "needs_background": "light"
     },
     "output_type": "display_data"
    }
   ],
   "source": [
    "#BFS with center block\n",
    "path_bfs_block = breadth_first_search((0, 0), (9, 9), grid_successors_center_block)\n",
    "rows = [location[0] for location in path_bfs_block]\n",
    "cols = [location[1] for location in path_bfs_block]\n",
    "plt.plot(rows, cols, 'o-');"
   ]
  },
  {
   "cell_type": "markdown",
   "metadata": {},
   "source": [
    "Above are the resulting plots for DFS and BFS using grid_successors_center block.  For both the DFS and BFS plots, the paths can been seen to be going \"around\" the center block.  For DFS the overall path length is about the same as or even shorter than without the center block.  This is because the detour around the center block for DFS brought the path closer to the goal than in the original path without the center block.  For BFS the overall path length is much longer.  This is because the original path ended up going directly towards the goal.  Therefore since the path has to go around the center block in this version, the path is strictly longer than in the original version.  "
   ]
  },
  {
   "cell_type": "markdown",
   "metadata": {},
   "source": [
    "# Grading\n",
    "\n",
    "Your notebook will be run and graded automatically. Download [A1grader.tar](http://www.cs.colostate.edu/~anderson/cs440/notebooks/A1grader.tar)  and extract A1grader.py from it. Run the code in the following cell to demonstrate an example grading session. You should see a perfect score of 80/80 if your functions are defined correctly. \n",
    "\n",
    "The remaining 20% will be based on your writing.  In markdown cells, explain what your functions are doing and make observations about your results.  Also mention problems you encountered in trying to solve this assignment."
   ]
  },
  {
   "cell_type": "markdown",
   "metadata": {},
   "source": [
    "# Check-in"
   ]
  },
  {
   "cell_type": "markdown",
   "metadata": {},
   "source": [
    "Do not include this section in your notebook.\n",
    "\n",
    "Name your notebook ```Lastname-A1.ipynb```.  So, for me it would be ```Anderson-A1.ipynb```.  Submit the file using the ```Assignment 1``` link on [Canvas](https://colostate.instructure.com/courses/109411)."
   ]
  },
  {
   "cell_type": "code",
   "execution_count": 31,
   "metadata": {},
   "outputs": [
    {
     "name": "stdout",
     "output_type": "stream",
     "text": [
      "\n",
      "======================= Code Execution =======================\n",
      "\n",
      "Extracting python code from notebook named 'Valdes-A1.ipynb' and storing in notebookcode.py\n",
      "Removing all statements that are not function or class defs or import statements.\n",
      "\n",
      "Searching this graph:\n",
      " {'a': ['b'], 'b': ['c', 'd'], 'c': ['e'], 'd': ['f', 'i'], 'e': ['g', 'h', 'i']}\n",
      "\n",
      "Looking for path from a to b.\n",
      "  Calling breadth_first_search(a, b, successorsf)\n",
      "       and depth_first_search(a, b, successorsf)\n",
      "\n",
      "10/10 points. Your breadth_first_search found correct solution path of ['a', 'b']\n",
      "10/10 points. Your depth_first_search found correct solution path of ['a', 'b']\n",
      "\n",
      "Looking for path from a to i.\n",
      "  Calling breadth_first_search(a, i, successorsf)\n",
      "      and depth_first_search(a, i, successorsf)\n",
      "\n",
      "20/20 points. Your breadth_first_search found correct solution path of ['a', 'b', 'd', 'i']\n",
      "20/20 points. Your depth_first_search found correct solution path of ['a', 'b', 'c', 'e', 'i']\n",
      "\n",
      "Looking for nonexistent path from a to denver.\n",
      "  Calling breadth_first_search(a, denver, successorsf)\n",
      "      and depth_first_search(a, denver, successorsf)\n",
      "\n",
      "10/10 points. Your breadth_first_search found correct solution path of Goal not found\n",
      "10/10 points. Your depth_first_search found correct solution path of Goal not found\n",
      "\n",
      "======================================================================\n",
      "C:\\Users\\Adam Valdes\\CS 440 Execution Grade is 80 / 80\n",
      "======================================================================\n",
      "\n",
      "__ / 5 points. Correct implementation of the grid_successors_center_block function\n",
      "\n",
      "__ / 5 points. At least two sentences of text describing changes you made to grid_successors to implement grid_successors_center_block\n",
      "\n",
      "__ / 5 points. Plots of paths resulting from breadth-first and depth-first searches of the grid\n",
      "\n",
      "__ / 5 points. At least five sentences of text describing your resulting plots.  How are they different with the center block?\n",
      "\n",
      "======================================================================\n",
      "C:\\Users\\Adam Valdes\\CS 440 Discussion Grade is __ / 20\n",
      "======================================================================\n",
      "\n",
      "======================================================================\n",
      "C:\\Users\\Adam Valdes\\CS 440 FINAL GRADE is  _  / 100\n",
      "======================================================================\n",
      "\n",
      "Extra Credit: Earn one point of extra credit for using your search functions to solve the camel puzzle.\n",
      "\n",
      "C:\\Users\\Adam Valdes\\CS 440 EXTRA CREDIT is 0 / 1\n"
     ]
    }
   ],
   "source": [
    "%run -i A1grader.py"
   ]
  },
  {
   "cell_type": "code",
   "execution_count": null,
   "metadata": {},
   "outputs": [],
   "source": []
  }
 ],
 "metadata": {
  "anaconda-cloud": {},
  "jupytext": {
   "formats": "ipynb,py:light"
  },
  "kernelspec": {
   "display_name": "Python 3",
   "language": "python",
   "name": "python3"
  },
  "language_info": {
   "codemirror_mode": {
    "name": "ipython",
    "version": 3
   },
   "file_extension": ".py",
   "mimetype": "text/x-python",
   "name": "python",
   "nbconvert_exporter": "python",
   "pygments_lexer": "ipython3",
   "version": "3.7.4"
  },
  "toc": {
   "base_numbering": 1,
   "nav_menu": {},
   "number_sections": true,
   "sideBar": true,
   "skip_h1_title": false,
   "title_cell": "Table of Contents",
   "title_sidebar": "Contents",
   "toc_cell": true,
   "toc_position": {
    "height": "calc(100% - 180px)",
    "left": "10px",
    "top": "150px",
    "width": "165px"
   },
   "toc_section_display": true,
   "toc_window_display": true
  }
 },
 "nbformat": 4,
 "nbformat_minor": 1
}
