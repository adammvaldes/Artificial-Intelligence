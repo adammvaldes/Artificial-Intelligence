{
 "cells": [
  {
   "cell_type": "markdown",
   "metadata": {
    "toc": true
   },
   "source": [
    "<h1>Table of Contents<span class=\"tocSkip\"></span></h1>\n",
    "<div class=\"toc\"><ul class=\"toc-item\"><li><span><a href=\"#Assignment-2:-Iterative-Deepening-Search\" data-toc-modified-id=\"Assignment-2:-Iterative-Deepening-Search-1\"><span class=\"toc-item-num\">1&nbsp;&nbsp;</span>Assignment 2: Iterative-Deepening Search</a></span><ul class=\"toc-item\"><li><span><a href=\"#Overview\" data-toc-modified-id=\"Overview-1.1\"><span class=\"toc-item-num\">1.1&nbsp;&nbsp;</span>Overview</a></span></li><li><span><a href=\"#Required-Code\" data-toc-modified-id=\"Required-Code-1.2\"><span class=\"toc-item-num\">1.2&nbsp;&nbsp;</span>Required Code</a></span></li><li><span><a href=\"#Grading-and-Check-in\" data-toc-modified-id=\"Grading-and-Check-in-1.3\"><span class=\"toc-item-num\">1.3&nbsp;&nbsp;</span>Grading and Check in</a></span></li><li><span><a href=\"#Extra-Credit\" data-toc-modified-id=\"Extra-Credit-1.4\"><span class=\"toc-item-num\">1.4&nbsp;&nbsp;</span>Extra Credit</a></span></li></ul></li></ul></div>"
   ]
  },
  {
   "cell_type": "markdown",
   "metadata": {},
   "source": [
    "# Assignment 2: Iterative-Deepening Search\n",
    "\n",
    "* *A2.1: New A2grader.tar and modified explanation of one of the `depth_limited_search` results.*"
   ]
  },
  {
   "cell_type": "markdown",
   "metadata": {},
   "source": [
    "Adam Valdes"
   ]
  },
  {
   "cell_type": "markdown",
   "metadata": {},
   "source": [
    "## Overview"
   ]
  },
  {
   "cell_type": "markdown",
   "metadata": {},
   "source": [
    "Implement  the iterative-deepening search algorithm as discussed in our lecture notes and as shown in figures 3.17 and 3.18 in our text book. Apply it to the 8-puzzle and a second puzzle of your choice. "
   ]
  },
  {
   "cell_type": "markdown",
   "metadata": {},
   "source": [
    "## Required Code"
   ]
  },
  {
   "cell_type": "markdown",
   "metadata": {},
   "source": [
    "In this jupyter notebook, implement the following functions:\n",
    "\n",
    "  * `iterative_deepening_search(start_state, goal_state, actions_f, take_action_f, max_depth)`\n",
    "  * `depth_limited_search(start_state, goal_state, actions_f, take_action_f, depth_limit)`\n",
    "  \n",
    "`depth_limited_search` is called by `iterative_deepening_search` with `depth_limit`s of $0, 1, \\ldots, $ `max_depth`. Both must return either the solution path as a list of states, or the strings `'cutoff'` or `'failure'`.  `'failure'` signifies that all states were searched and the goal was not found. \n",
    "\n",
    "Each receives the arguments\n",
    "\n",
    "  * the starting state, \n",
    "  * the goal state,\n",
    "  * a function `actions_f` that is given a state and returns a list of valid actions from that state,\n",
    "  * a function `take_action_f` that is given a state and an action and returns the new state that results from applying the action to the state,\n",
    "  * either a `depth_limit` for `depth_limited_search`, or `max_depth` for `iterative_deepening_search`."
   ]
  },
  {
   "cell_type": "code",
   "execution_count": 1,
   "metadata": {},
   "outputs": [],
   "source": [
    "#from lecture 06\n",
    "def iterative_deepening_search(start_state, goal_state, actions_f, take_action_f, max_depth):\n",
    "    \n",
    "    # Conduct multiple searches, starting with smallest depth, then increasing it by 1 each time.\n",
    "    for depth in range(max_depth):\n",
    "        \n",
    "        # Conduct search from startState\n",
    "        result = depth_limited_search(start_state, goal_state, actions_f, take_action_f, depth)\n",
    "        \n",
    "        # If result was failure, return 'failure'.\n",
    "        if result is 'failure':\n",
    "            return 'failure'\n",
    "        \n",
    "        # Otherwise, if result was not cutoff, it succeeded, so add start_state to solution path and return it.\n",
    "        if result is not 'cutoff':\n",
    "            #Add start_state to front of solution path, in result, returned by depth_limited_search       \n",
    "            result.insert(0, start_state)\n",
    "            return result\n",
    "        \n",
    "    # If we reach here, no solution found within the max_depth limit.\n",
    "    return 'cutoff'"
   ]
  },
  {
   "cell_type": "code",
   "execution_count": 2,
   "metadata": {},
   "outputs": [],
   "source": [
    "#from lecture 06\n",
    "def depth_limited_search(state, goal_state, actions_f, take_action_f, depth_limit):\n",
    "    \n",
    "    # If we have reached the goal, exit, returning an empty solution path.\n",
    "    #If state == goal_state, then\n",
    "    if state == goal_state:\n",
    "        return []\n",
    "    \n",
    "    # If we have reached the depth limit, return the string 'cutoff'.\n",
    "    if depth_limit is 0:\n",
    "        #Return the string 'cutoff' to signal that the depth limit was reached\n",
    "        return 'cutoff'\n",
    "        \n",
    "    cutoff_occurred = False\n",
    "    \n",
    "    # For each possible action from state ...\n",
    "    for action in actions_f(state):\n",
    "        \n",
    "        # Apply the action to the current state to get a next state, named child_state\n",
    "        child_state = take_action_f(state, action)\n",
    "        \n",
    "        # Recursively call this function to continue the search starting from the child_state.\n",
    "        # Decrease by one the depth_limit for this search.\n",
    "        result = depth_limited_search(child_state, goal_state, actions_f, take_action_f, depth_limit - 1)\n",
    "        \n",
    "        # If result was 'cufoff', just note that this happened.\n",
    "        if result is 'cutoff':\n",
    "            cutoff_occurred = True\n",
    "            \n",
    "        # If result was not 'failure', search succeeded so add childState to front of solution path and\n",
    "        # return that path.\n",
    "        elif result is not 'failure':\n",
    "            #Add child_state to front of partial solution path, in result, returned by depth_limited_search\n",
    "            result.insert(0, child_state)\n",
    "            return result\n",
    "        \n",
    "    # We reach here only if cutoff or failure occurred.  Return whichever occurred.\n",
    "    if cutoff_occurred:\n",
    "        return 'cutoff'\n",
    "    else:\n",
    "        return 'failure'"
   ]
  },
  {
   "cell_type": "markdown",
   "metadata": {},
   "source": [
    "Use your solution to solve the 8-puzzle.\n",
    "Implement the state of the puzzle as a list of integers. 0 represents the empty position. \n",
    "\n",
    "Required functions for the 8-puzzle are the following.\n",
    "\n",
    "  * `find_blank_8p(state)`: return the row and column index for the location of the blank (the 0 value).\n",
    "  * `actions_f_8p(state)`: returns a list of up to four valid actions that can be applied in `state`. Return them in the order `left`, `right`, `up`, `down`, though only if each one is a valid action.\n",
    "  * `take_action_f_8p(state, action)`: return the state that results from applying `action` in `state`.\n",
    "  * `print_state_8p(state)`: prints the state as a 3 x 3 table, as shown in lecture notes, or a bit fancier with, for example, '-' and '|' characters to separate tiles.  This function is useful to call when debugging your search algorithms.\n",
    "  * `print_path_8p(start_state, goal_state, path)`: print a solution path in a readable form by calling `print_state_8p`."
   ]
  },
  {
   "cell_type": "code",
   "execution_count": 6,
   "metadata": {},
   "outputs": [],
   "source": [
    "def find_blank_8p(state):\n",
    "    #from lecture 9/8/2020\n",
    "    zero_at = state.index(0)\n",
    "    return zero_at // 3, zero_at % 3"
   ]
  },
  {
   "cell_type": "code",
   "execution_count": 8,
   "metadata": {},
   "outputs": [],
   "source": [
    "#can be done using generators (return a generator)\n",
    "def actions_f_8p(state):\n",
    "    actions = []\n",
    "    blank = find_blank_8p(state)\n",
    "    if blank[1] != 0:\n",
    "        actions.append('left')\n",
    "    if blank[1] != 2:\n",
    "        actions.append('right')\n",
    "    if blank[0] != 0:\n",
    "        actions.append('up')\n",
    "    if blank[0] != 2:\n",
    "        actions.append('down')\n",
    "    return actions"
   ]
  },
  {
   "cell_type": "code",
   "execution_count": 9,
   "metadata": {},
   "outputs": [],
   "source": [
    "def take_action_f_8p(state, action):\n",
    "    actions = actions_f_8p(state)\n",
    "    blank = find_blank_8p(state)\n",
    "    blank_index = state.index(0)\n",
    "    return_state = state.copy()\n",
    "    if action in actions:\n",
    "        if action == 'left':\n",
    "            return_state[blank_index] = return_state[blank_index-1]\n",
    "            return_state[blank_index-1] = 0\n",
    "        elif action == 'right':\n",
    "            return_state[blank_index] = return_state[blank_index+1]\n",
    "            return_state[blank_index+1] = 0\n",
    "        elif action == 'up':\n",
    "            return_state[blank_index] = return_state[blank_index-3]\n",
    "            return_state[blank_index-3] = 0\n",
    "        elif action == 'down':\n",
    "            return_state[blank_index] = return_state[blank_index+3]\n",
    "            return_state[blank_index+3] = 0\n",
    "    return return_state"
   ]
  },
  {
   "cell_type": "code",
   "execution_count": 10,
   "metadata": {},
   "outputs": [],
   "source": [
    "def print_state_8p(state):\n",
    "    print_state = ['-' if x == 0 else x for x in state]\n",
    "    print_string = ''\n",
    "    for i in range(len(print_state)):\n",
    "        if print_state[i] == '-':\n",
    "            print_string += '- '\n",
    "        else: \n",
    "            print_string += str(print_state[i])\n",
    "            print_string += ' '\n",
    "        if i % 3 == 2:\n",
    "            print_string += \"\\n\"\n",
    "    print(print_string)"
   ]
  },
  {
   "cell_type": "code",
   "execution_count": 11,
   "metadata": {},
   "outputs": [],
   "source": [
    "def print_path_8p(start_state, goal_state, path):\n",
    "    print(\"Path from\\n\")\n",
    "    print_state_8p(start_state)\n",
    "    print(\"to\")\n",
    "    print_state_8p(goal_state)\n",
    "    print(\"is \"+str(len(path))+\" nodes long:\\n\")\n",
    "    for i in range(len(path)):\n",
    "        print_state_8p(path[i])"
   ]
  },
  {
   "cell_type": "markdown",
   "metadata": {},
   "source": [
    "<font color='red'>Also, implement a second search problem of your choice.  Apply your `iterative_deepening_search` function to it.</font>"
   ]
  },
  {
   "cell_type": "markdown",
   "metadata": {},
   "source": [
    "Here are some example results."
   ]
  },
  {
   "cell_type": "code",
   "execution_count": 12,
   "metadata": {},
   "outputs": [],
   "source": [
    "start_state = [1, 0, 3, 4, 2, 5, 6, 7, 8]"
   ]
  },
  {
   "cell_type": "code",
   "execution_count": 13,
   "metadata": {},
   "outputs": [
    {
     "name": "stdout",
     "output_type": "stream",
     "text": [
      "1 - 3 \n",
      "4 2 5 \n",
      "6 7 8 \n",
      "\n"
     ]
    }
   ],
   "source": [
    "print_state_8p(start_state)"
   ]
  },
  {
   "cell_type": "code",
   "execution_count": 14,
   "metadata": {},
   "outputs": [
    {
     "data": {
      "text/plain": [
       "(0, 1)"
      ]
     },
     "execution_count": 14,
     "metadata": {},
     "output_type": "execute_result"
    }
   ],
   "source": [
    "find_blank_8p(start_state)"
   ]
  },
  {
   "cell_type": "code",
   "execution_count": 15,
   "metadata": {},
   "outputs": [
    {
     "data": {
      "text/plain": [
       "['left', 'right', 'down']"
      ]
     },
     "execution_count": 15,
     "metadata": {},
     "output_type": "execute_result"
    }
   ],
   "source": [
    "actions_f_8p(start_state)"
   ]
  },
  {
   "cell_type": "code",
   "execution_count": 16,
   "metadata": {},
   "outputs": [
    {
     "data": {
      "text/plain": [
       "[1, 2, 3, 4, 0, 5, 6, 7, 8]"
      ]
     },
     "execution_count": 16,
     "metadata": {},
     "output_type": "execute_result"
    }
   ],
   "source": [
    "take_action_f_8p(start_state, 'down')"
   ]
  },
  {
   "cell_type": "code",
   "execution_count": 17,
   "metadata": {},
   "outputs": [
    {
     "name": "stdout",
     "output_type": "stream",
     "text": [
      "1 2 3 \n",
      "4 - 5 \n",
      "6 7 8 \n",
      "\n"
     ]
    }
   ],
   "source": [
    "print_state_8p(take_action_f_8p(start_state, 'down'))"
   ]
  },
  {
   "cell_type": "code",
   "execution_count": 18,
   "metadata": {},
   "outputs": [],
   "source": [
    "goal_state = take_action_f_8p(start_state, 'down')"
   ]
  },
  {
   "cell_type": "code",
   "execution_count": 19,
   "metadata": {},
   "outputs": [],
   "source": [
    "new_state = take_action_f_8p(start_state, 'down')"
   ]
  },
  {
   "cell_type": "code",
   "execution_count": 20,
   "metadata": {},
   "outputs": [
    {
     "data": {
      "text/plain": [
       "True"
      ]
     },
     "execution_count": 20,
     "metadata": {},
     "output_type": "execute_result"
    }
   ],
   "source": [
    "new_state == goal_state"
   ]
  },
  {
   "cell_type": "code",
   "execution_count": 21,
   "metadata": {},
   "outputs": [
    {
     "data": {
      "text/plain": [
       "[1, 0, 3, 4, 2, 5, 6, 7, 8]"
      ]
     },
     "execution_count": 21,
     "metadata": {},
     "output_type": "execute_result"
    }
   ],
   "source": [
    "start_state"
   ]
  },
  {
   "cell_type": "code",
   "execution_count": 22,
   "metadata": {
    "scrolled": true
   },
   "outputs": [
    {
     "data": {
      "text/plain": [
       "[[1, 2, 3, 4, 0, 5, 6, 7, 8]]"
      ]
     },
     "execution_count": 22,
     "metadata": {},
     "output_type": "execute_result"
    }
   ],
   "source": [
    "path = depth_limited_search(start_state, goal_state, actions_f_8p, take_action_f_8p, 1)\n",
    "path"
   ]
  },
  {
   "cell_type": "markdown",
   "metadata": {},
   "source": [
    "Notice that `depth_limited_search` result is missing the start state.  This is inserted by `iterative_deepening_search`."
   ]
  },
  {
   "cell_type": "code",
   "execution_count": 23,
   "metadata": {
    "scrolled": true
   },
   "outputs": [
    {
     "data": {
      "text/plain": [
       "[[1, 2, 3, 4, 0, 5, 6, 7, 8]]"
      ]
     },
     "execution_count": 23,
     "metadata": {},
     "output_type": "execute_result"
    }
   ],
   "source": [
    "path = depth_limited_search(start_state, goal_state, actions_f_8p, take_action_f_8p, 2)\n",
    "path"
   ]
  },
  {
   "cell_type": "code",
   "execution_count": 24,
   "metadata": {
    "scrolled": true
   },
   "outputs": [
    {
     "data": {
      "text/plain": [
       "[[0, 1, 3, 4, 2, 5, 6, 7, 8],\n",
       " [1, 0, 3, 4, 2, 5, 6, 7, 8],\n",
       " [1, 2, 3, 4, 0, 5, 6, 7, 8]]"
      ]
     },
     "execution_count": 24,
     "metadata": {},
     "output_type": "execute_result"
    }
   ],
   "source": [
    "path = depth_limited_search(start_state, goal_state, actions_f_8p, take_action_f_8p, 3)\n",
    "path"
   ]
  },
  {
   "cell_type": "markdown",
   "metadata": {},
   "source": [
    "Here `depth_limited_search` returns more than the solution path.  This is due to how we implement `depth_limited_search`.  This only happens when we don't find the shortest path.  Of course, when called from `iterative_deepening_search` we do find the shortest path."
   ]
  },
  {
   "cell_type": "code",
   "execution_count": 25,
   "metadata": {
    "scrolled": true
   },
   "outputs": [
    {
     "data": {
      "text/plain": [
       "[[1, 0, 3, 4, 2, 5, 6, 7, 8], [1, 2, 3, 4, 0, 5, 6, 7, 8]]"
      ]
     },
     "execution_count": 25,
     "metadata": {},
     "output_type": "execute_result"
    }
   ],
   "source": [
    "path = iterative_deepening_search(start_state, goal_state, actions_f_8p, take_action_f_8p, 4)\n",
    "path"
   ]
  },
  {
   "cell_type": "markdown",
   "metadata": {},
   "source": [
    "Also notice that the successor states are lists, not tuples.  This is okay, because the search functions for this assignment do not make use of python dictionaries."
   ]
  },
  {
   "cell_type": "code",
   "execution_count": 26,
   "metadata": {},
   "outputs": [
    {
     "data": {
      "text/plain": [
       "'cutoff'"
      ]
     },
     "execution_count": 26,
     "metadata": {},
     "output_type": "execute_result"
    }
   ],
   "source": [
    "start_state = [4, 7, 2, 1, 6, 5, 0, 3, 8]\n",
    "path = iterative_deepening_search(start_state, goal_state, actions_f_8p, take_action_f_8p, 3)\n",
    "path"
   ]
  },
  {
   "cell_type": "code",
   "execution_count": 27,
   "metadata": {},
   "outputs": [
    {
     "data": {
      "text/plain": [
       "'cutoff'"
      ]
     },
     "execution_count": 27,
     "metadata": {},
     "output_type": "execute_result"
    }
   ],
   "source": [
    "start_state = [4, 7, 2, 1, 6, 5, 0, 3, 8]\n",
    "path = iterative_deepening_search(start_state, goal_state, actions_f_8p, take_action_f_8p, 5)\n",
    "path"
   ]
  },
  {
   "cell_type": "markdown",
   "metadata": {},
   "source": [
    "Humm...maybe we can't reach the goal state from this state.  We need a way to randomly generate a valid start state."
   ]
  },
  {
   "cell_type": "code",
   "execution_count": 28,
   "metadata": {},
   "outputs": [],
   "source": [
    "import random"
   ]
  },
  {
   "cell_type": "code",
   "execution_count": 29,
   "metadata": {},
   "outputs": [
    {
     "data": {
      "text/plain": [
       "'right'"
      ]
     },
     "execution_count": 29,
     "metadata": {},
     "output_type": "execute_result"
    }
   ],
   "source": [
    "random.choice(['left', 'right', 'down', 'up'])"
   ]
  },
  {
   "cell_type": "code",
   "execution_count": 30,
   "metadata": {},
   "outputs": [],
   "source": [
    "def random_start_state(goal_state, actions_f, take_action_f, n_steps):\n",
    "    state = goal_state\n",
    "    for i in range(n_steps):\n",
    "        state = take_action_f(state, random.choice(list(actions_f(state))))  # list required because actions_f is generator\n",
    "    return state"
   ]
  },
  {
   "cell_type": "code",
   "execution_count": 31,
   "metadata": {},
   "outputs": [
    {
     "data": {
      "text/plain": [
       "[1, 2, 3, 4, 7, 5, 6, 8, 0]"
      ]
     },
     "execution_count": 31,
     "metadata": {},
     "output_type": "execute_result"
    }
   ],
   "source": [
    "goal_state = [1, 2, 3, 4, 0, 5, 6, 7, 8]\n",
    "random_start_state(goal_state, actions_f_8p, take_action_f_8p, 10)"
   ]
  },
  {
   "cell_type": "code",
   "execution_count": 32,
   "metadata": {},
   "outputs": [
    {
     "data": {
      "text/plain": [
       "[0, 2, 3, 6, 4, 1, 8, 5, 7]"
      ]
     },
     "execution_count": 32,
     "metadata": {},
     "output_type": "execute_result"
    }
   ],
   "source": [
    "start_state = random_start_state(goal_state, actions_f_8p, take_action_f_8p, 50)\n",
    "start_state"
   ]
  },
  {
   "cell_type": "code",
   "execution_count": 33,
   "metadata": {},
   "outputs": [
    {
     "data": {
      "text/plain": [
       "[[0, 2, 3, 6, 4, 1, 8, 5, 7],\n",
       " [2, 0, 3, 6, 4, 1, 8, 5, 7],\n",
       " [2, 4, 3, 6, 0, 1, 8, 5, 7],\n",
       " [2, 4, 3, 6, 1, 0, 8, 5, 7],\n",
       " [2, 4, 3, 6, 1, 7, 8, 5, 0],\n",
       " [2, 4, 3, 6, 1, 7, 8, 0, 5],\n",
       " [2, 4, 3, 6, 1, 7, 0, 8, 5],\n",
       " [2, 4, 3, 0, 1, 7, 6, 8, 5],\n",
       " [2, 4, 3, 1, 0, 7, 6, 8, 5],\n",
       " [2, 4, 3, 1, 7, 0, 6, 8, 5],\n",
       " [2, 4, 3, 1, 7, 5, 6, 8, 0],\n",
       " [2, 4, 3, 1, 7, 5, 6, 0, 8],\n",
       " [2, 4, 3, 1, 0, 5, 6, 7, 8],\n",
       " [2, 0, 3, 1, 4, 5, 6, 7, 8],\n",
       " [0, 2, 3, 1, 4, 5, 6, 7, 8],\n",
       " [1, 2, 3, 0, 4, 5, 6, 7, 8],\n",
       " [1, 2, 3, 4, 0, 5, 6, 7, 8]]"
      ]
     },
     "execution_count": 33,
     "metadata": {},
     "output_type": "execute_result"
    }
   ],
   "source": [
    "path = iterative_deepening_search(start_state, goal_state, actions_f_8p, take_action_f_8p, 20)\n",
    "path"
   ]
  },
  {
   "cell_type": "markdown",
   "metadata": {},
   "source": [
    "Let's print out the state sequence in a readable form."
   ]
  },
  {
   "cell_type": "code",
   "execution_count": 34,
   "metadata": {},
   "outputs": [
    {
     "name": "stdout",
     "output_type": "stream",
     "text": [
      "- 2 3 \n",
      "6 4 1 \n",
      "8 5 7 \n",
      "\n",
      "\n",
      "2 - 3 \n",
      "6 4 1 \n",
      "8 5 7 \n",
      "\n",
      "\n",
      "2 4 3 \n",
      "6 - 1 \n",
      "8 5 7 \n",
      "\n",
      "\n",
      "2 4 3 \n",
      "6 1 - \n",
      "8 5 7 \n",
      "\n",
      "\n",
      "2 4 3 \n",
      "6 1 7 \n",
      "8 5 - \n",
      "\n",
      "\n",
      "2 4 3 \n",
      "6 1 7 \n",
      "8 - 5 \n",
      "\n",
      "\n",
      "2 4 3 \n",
      "6 1 7 \n",
      "- 8 5 \n",
      "\n",
      "\n",
      "2 4 3 \n",
      "- 1 7 \n",
      "6 8 5 \n",
      "\n",
      "\n",
      "2 4 3 \n",
      "1 - 7 \n",
      "6 8 5 \n",
      "\n",
      "\n",
      "2 4 3 \n",
      "1 7 - \n",
      "6 8 5 \n",
      "\n",
      "\n",
      "2 4 3 \n",
      "1 7 5 \n",
      "6 8 - \n",
      "\n",
      "\n",
      "2 4 3 \n",
      "1 7 5 \n",
      "6 - 8 \n",
      "\n",
      "\n",
      "2 4 3 \n",
      "1 - 5 \n",
      "6 7 8 \n",
      "\n",
      "\n",
      "2 - 3 \n",
      "1 4 5 \n",
      "6 7 8 \n",
      "\n",
      "\n",
      "- 2 3 \n",
      "1 4 5 \n",
      "6 7 8 \n",
      "\n",
      "\n",
      "1 2 3 \n",
      "- 4 5 \n",
      "6 7 8 \n",
      "\n",
      "\n",
      "1 2 3 \n",
      "4 - 5 \n",
      "6 7 8 \n",
      "\n",
      "\n"
     ]
    }
   ],
   "source": [
    "for p in path:\n",
    "    print_state_8p(p)\n",
    "    print()"
   ]
  },
  {
   "cell_type": "markdown",
   "metadata": {},
   "source": [
    "Here is one way to format the search problem and solution in a readable form."
   ]
  },
  {
   "cell_type": "code",
   "execution_count": 35,
   "metadata": {},
   "outputs": [
    {
     "name": "stdout",
     "output_type": "stream",
     "text": [
      "Path from\n",
      "\n",
      "- 2 3 \n",
      "6 4 1 \n",
      "8 5 7 \n",
      "\n",
      "to\n",
      "1 2 3 \n",
      "4 - 5 \n",
      "6 7 8 \n",
      "\n",
      "is 17 nodes long:\n",
      "\n",
      "- 2 3 \n",
      "6 4 1 \n",
      "8 5 7 \n",
      "\n",
      "2 - 3 \n",
      "6 4 1 \n",
      "8 5 7 \n",
      "\n",
      "2 4 3 \n",
      "6 - 1 \n",
      "8 5 7 \n",
      "\n",
      "2 4 3 \n",
      "6 1 - \n",
      "8 5 7 \n",
      "\n",
      "2 4 3 \n",
      "6 1 7 \n",
      "8 5 - \n",
      "\n",
      "2 4 3 \n",
      "6 1 7 \n",
      "8 - 5 \n",
      "\n",
      "2 4 3 \n",
      "6 1 7 \n",
      "- 8 5 \n",
      "\n",
      "2 4 3 \n",
      "- 1 7 \n",
      "6 8 5 \n",
      "\n",
      "2 4 3 \n",
      "1 - 7 \n",
      "6 8 5 \n",
      "\n",
      "2 4 3 \n",
      "1 7 - \n",
      "6 8 5 \n",
      "\n",
      "2 4 3 \n",
      "1 7 5 \n",
      "6 8 - \n",
      "\n",
      "2 4 3 \n",
      "1 7 5 \n",
      "6 - 8 \n",
      "\n",
      "2 4 3 \n",
      "1 - 5 \n",
      "6 7 8 \n",
      "\n",
      "2 - 3 \n",
      "1 4 5 \n",
      "6 7 8 \n",
      "\n",
      "- 2 3 \n",
      "1 4 5 \n",
      "6 7 8 \n",
      "\n",
      "1 2 3 \n",
      "- 4 5 \n",
      "6 7 8 \n",
      "\n",
      "1 2 3 \n",
      "4 - 5 \n",
      "6 7 8 \n",
      "\n"
     ]
    }
   ],
   "source": [
    "print_path_8p(start_state, goal_state, path)"
   ]
  },
  {
   "cell_type": "markdown",
   "metadata": {},
   "source": [
    "# Discussion Part 1: 8 Puzzle\n",
    "\n",
    "For the 8 puzzle I found that the path length and time to find the correct path varied greatly across several runs.  Specifically, I found that the time to find the correct path to the goal took anywhere from 10 to 15 seconds to 5 to 10 minutes.  This was because of the random selection of the start_state variable.  Even though all the start states chosen were the same amount of moves away from the goal state, if a start state was chosen such that the search went down several dead ends with high depths then the search time could grow much longer than it would be otherwise.  Overall I found that the search time depended greatly on the search algorithm's interaction with the randomly generated start state, with some searches encountering multiple dead ends with large depth values which resulted in inflated search times.  "
   ]
  },
  {
   "cell_type": "markdown",
   "metadata": {},
   "source": [
    "# Second search problem: 15 puzzle"
   ]
  },
  {
   "cell_type": "code",
   "execution_count": 36,
   "metadata": {},
   "outputs": [],
   "source": [
    "def find_blank_15p(state):\n",
    "    #from lecture 9/8/2020\n",
    "    zero_at = state.index(0)\n",
    "    return zero_at // 4, zero_at % 4"
   ]
  },
  {
   "cell_type": "code",
   "execution_count": 37,
   "metadata": {},
   "outputs": [],
   "source": [
    "#can be done using generators (return a generator)\n",
    "def actions_f_15p(state):\n",
    "    actions = []\n",
    "    blank = find_blank_15p(state)\n",
    "    if blank[1] != 0:\n",
    "        actions.append('left')\n",
    "    if blank[1] != 3:\n",
    "        actions.append('right')\n",
    "    if blank[0] != 0:\n",
    "        actions.append('up')\n",
    "    if blank[0] != 3:\n",
    "        actions.append('down')\n",
    "    return actions"
   ]
  },
  {
   "cell_type": "code",
   "execution_count": 38,
   "metadata": {},
   "outputs": [],
   "source": [
    "def take_action_f_15p(state, action):\n",
    "    actions = actions_f_15p(state)\n",
    "    blank = find_blank_15p(state)\n",
    "    blank_index = state.index(0)\n",
    "    return_state = state.copy()\n",
    "    if action in actions:\n",
    "        if action == 'left':\n",
    "            return_state[blank_index] = return_state[blank_index-1]\n",
    "            return_state[blank_index-1] = 0\n",
    "        elif action == 'right':\n",
    "            return_state[blank_index] = return_state[blank_index+1]\n",
    "            return_state[blank_index+1] = 0\n",
    "        elif action == 'up':\n",
    "            return_state[blank_index] = return_state[blank_index-4]\n",
    "            return_state[blank_index-4] = 0\n",
    "        elif action == 'down':\n",
    "            return_state[blank_index] = return_state[blank_index+4]\n",
    "            return_state[blank_index+4] = 0\n",
    "    return return_state"
   ]
  },
  {
   "cell_type": "code",
   "execution_count": 39,
   "metadata": {},
   "outputs": [],
   "source": [
    "def print_state_15p(state):\n",
    "    print_state = ['-' if x == 0 else x for x in state]\n",
    "    print_string = ''\n",
    "    for i in range(len(print_state)):\n",
    "        if print_state[i] == '-':\n",
    "            print_string += '- '\n",
    "        else: \n",
    "            print_string += str(print_state[i])\n",
    "            print_string += ' '\n",
    "            #change spacing for double digit numbers\n",
    "            if isinstance(print_state[i], str):\n",
    "                print(\"string in print_state:\", print_state)\n",
    "            if print_state[i] < 9:\n",
    "                print_string += ' '\n",
    "        if i % 4 == 3:\n",
    "            print_string += \"\\n\"\n",
    "    print(print_string)"
   ]
  },
  {
   "cell_type": "code",
   "execution_count": 40,
   "metadata": {},
   "outputs": [],
   "source": [
    "def print_path_15p(start_state, goal_state, path):\n",
    "    print(\"Path from\\n\")\n",
    "    print_state_15p(start_state)\n",
    "    print(\"to\")\n",
    "    print_state_15p(goal_state)\n",
    "    print(\"is \"+str(len(path))+\" nodes long:\\n\")\n",
    "    for i in range(len(path)):\n",
    "        print_state_15p(path[i])"
   ]
  },
  {
   "cell_type": "code",
   "execution_count": 41,
   "metadata": {},
   "outputs": [],
   "source": [
    "start_state = [1, 2, 3, 4, 5, 0, 7, 8, 9, 10, 11, 12, 13, 14, 15, 16]"
   ]
  },
  {
   "cell_type": "code",
   "execution_count": 42,
   "metadata": {},
   "outputs": [
    {
     "name": "stdout",
     "output_type": "stream",
     "text": [
      "1  2  3  4  \n",
      "5  - 7  8  \n",
      "9 10 11 12 \n",
      "13 14 15 16 \n",
      "\n"
     ]
    }
   ],
   "source": [
    "print_state_15p(start_state)"
   ]
  },
  {
   "cell_type": "code",
   "execution_count": 43,
   "metadata": {},
   "outputs": [
    {
     "data": {
      "text/plain": [
       "(1, 1)"
      ]
     },
     "execution_count": 43,
     "metadata": {},
     "output_type": "execute_result"
    }
   ],
   "source": [
    "find_blank_15p(start_state)"
   ]
  },
  {
   "cell_type": "code",
   "execution_count": 44,
   "metadata": {},
   "outputs": [
    {
     "data": {
      "text/plain": [
       "['left', 'right', 'up', 'down']"
      ]
     },
     "execution_count": 44,
     "metadata": {},
     "output_type": "execute_result"
    }
   ],
   "source": [
    "actions_f_15p(start_state)"
   ]
  },
  {
   "cell_type": "code",
   "execution_count": 45,
   "metadata": {},
   "outputs": [
    {
     "data": {
      "text/plain": [
       "[1, 2, 3, 4, 5, 10, 7, 8, 9, 0, 11, 12, 13, 14, 15, 16]"
      ]
     },
     "execution_count": 45,
     "metadata": {},
     "output_type": "execute_result"
    }
   ],
   "source": [
    "take_action_f_15p(start_state, 'down')"
   ]
  },
  {
   "cell_type": "code",
   "execution_count": 46,
   "metadata": {},
   "outputs": [
    {
     "name": "stdout",
     "output_type": "stream",
     "text": [
      "1  2  3  4  \n",
      "5  10 7  8  \n",
      "9 - 11 12 \n",
      "13 14 15 16 \n",
      "\n"
     ]
    }
   ],
   "source": [
    "print_state_15p(take_action_f_15p(start_state, 'down'))"
   ]
  },
  {
   "cell_type": "code",
   "execution_count": 47,
   "metadata": {},
   "outputs": [
    {
     "data": {
      "text/plain": [
       "[1, 2, 3, 4, 9, 5, 7, 8, 13, 6, 11, 12, 10, 0, 14, 15]"
      ]
     },
     "execution_count": 47,
     "metadata": {},
     "output_type": "execute_result"
    }
   ],
   "source": [
    "goal_state = [1, 2, 3, 4, 5, 6, 7, 8, 9, 10, 11, 12, 13, 14, 15, 0]\n",
    "random_start_state(goal_state, actions_f_15p, take_action_f_15p, 10)"
   ]
  },
  {
   "cell_type": "code",
   "execution_count": 48,
   "metadata": {},
   "outputs": [
    {
     "data": {
      "text/plain": [
       "[1, 2, 3, 4, 9, 5, 7, 8, 0, 10, 11, 12, 6, 13, 14, 15]"
      ]
     },
     "execution_count": 48,
     "metadata": {},
     "output_type": "execute_result"
    }
   ],
   "source": [
    "start_state = random_start_state(goal_state, actions_f_15p, take_action_f_15p, 50)\n",
    "start_state"
   ]
  },
  {
   "cell_type": "code",
   "execution_count": 49,
   "metadata": {},
   "outputs": [
    {
     "data": {
      "text/plain": [
       "[[1, 2, 3, 4, 9, 5, 7, 8, 0, 10, 11, 12, 6, 13, 14, 15],\n",
       " [1, 2, 3, 4, 9, 5, 7, 8, 6, 10, 11, 12, 0, 13, 14, 15],\n",
       " [1, 2, 3, 4, 9, 5, 7, 8, 6, 10, 11, 12, 13, 0, 14, 15],\n",
       " [1, 2, 3, 4, 9, 5, 7, 8, 6, 0, 11, 12, 13, 10, 14, 15],\n",
       " [1, 2, 3, 4, 9, 5, 7, 8, 0, 6, 11, 12, 13, 10, 14, 15],\n",
       " [1, 2, 3, 4, 0, 5, 7, 8, 9, 6, 11, 12, 13, 10, 14, 15],\n",
       " [1, 2, 3, 4, 5, 0, 7, 8, 9, 6, 11, 12, 13, 10, 14, 15],\n",
       " [1, 2, 3, 4, 5, 6, 7, 8, 9, 0, 11, 12, 13, 10, 14, 15],\n",
       " [1, 2, 3, 4, 5, 6, 7, 8, 9, 10, 11, 12, 13, 0, 14, 15],\n",
       " [1, 2, 3, 4, 5, 6, 7, 8, 9, 10, 11, 12, 13, 14, 0, 15],\n",
       " [1, 2, 3, 4, 5, 6, 7, 8, 9, 10, 11, 12, 13, 14, 15, 0]]"
      ]
     },
     "execution_count": 49,
     "metadata": {},
     "output_type": "execute_result"
    }
   ],
   "source": [
    "path = iterative_deepening_search(start_state, goal_state, actions_f_15p, take_action_f_15p, 20)\n",
    "path"
   ]
  },
  {
   "cell_type": "markdown",
   "metadata": {},
   "source": [
    "Let's print out the state sequence in a readable form."
   ]
  },
  {
   "cell_type": "code",
   "execution_count": 50,
   "metadata": {},
   "outputs": [
    {
     "name": "stdout",
     "output_type": "stream",
     "text": [
      "1  2  3  4  \n",
      "9 5  7  8  \n",
      "- 10 11 12 \n",
      "6  13 14 15 \n",
      "\n",
      "\n",
      "1  2  3  4  \n",
      "9 5  7  8  \n",
      "6  10 11 12 \n",
      "- 13 14 15 \n",
      "\n",
      "\n",
      "1  2  3  4  \n",
      "9 5  7  8  \n",
      "6  10 11 12 \n",
      "13 - 14 15 \n",
      "\n",
      "\n",
      "1  2  3  4  \n",
      "9 5  7  8  \n",
      "6  - 11 12 \n",
      "13 10 14 15 \n",
      "\n",
      "\n",
      "1  2  3  4  \n",
      "9 5  7  8  \n",
      "- 6  11 12 \n",
      "13 10 14 15 \n",
      "\n",
      "\n",
      "1  2  3  4  \n",
      "- 5  7  8  \n",
      "9 6  11 12 \n",
      "13 10 14 15 \n",
      "\n",
      "\n",
      "1  2  3  4  \n",
      "5  - 7  8  \n",
      "9 6  11 12 \n",
      "13 10 14 15 \n",
      "\n",
      "\n",
      "1  2  3  4  \n",
      "5  6  7  8  \n",
      "9 - 11 12 \n",
      "13 10 14 15 \n",
      "\n",
      "\n",
      "1  2  3  4  \n",
      "5  6  7  8  \n",
      "9 10 11 12 \n",
      "13 - 14 15 \n",
      "\n",
      "\n",
      "1  2  3  4  \n",
      "5  6  7  8  \n",
      "9 10 11 12 \n",
      "13 14 - 15 \n",
      "\n",
      "\n",
      "1  2  3  4  \n",
      "5  6  7  8  \n",
      "9 10 11 12 \n",
      "13 14 15 - \n",
      "\n",
      "\n"
     ]
    }
   ],
   "source": [
    "for p in path:\n",
    "    print_state_15p(p)\n",
    "    print()"
   ]
  },
  {
   "cell_type": "markdown",
   "metadata": {},
   "source": [
    "Here is one way to format the search problem and solution in a readable form."
   ]
  },
  {
   "cell_type": "code",
   "execution_count": 51,
   "metadata": {},
   "outputs": [
    {
     "name": "stdout",
     "output_type": "stream",
     "text": [
      "Path from\n",
      "\n",
      "1  2  3  4  \n",
      "9 5  7  8  \n",
      "- 10 11 12 \n",
      "6  13 14 15 \n",
      "\n",
      "to\n",
      "1  2  3  4  \n",
      "5  6  7  8  \n",
      "9 10 11 12 \n",
      "13 14 15 - \n",
      "\n",
      "is 11 nodes long:\n",
      "\n",
      "1  2  3  4  \n",
      "9 5  7  8  \n",
      "- 10 11 12 \n",
      "6  13 14 15 \n",
      "\n",
      "1  2  3  4  \n",
      "9 5  7  8  \n",
      "6  10 11 12 \n",
      "- 13 14 15 \n",
      "\n",
      "1  2  3  4  \n",
      "9 5  7  8  \n",
      "6  10 11 12 \n",
      "13 - 14 15 \n",
      "\n",
      "1  2  3  4  \n",
      "9 5  7  8  \n",
      "6  - 11 12 \n",
      "13 10 14 15 \n",
      "\n",
      "1  2  3  4  \n",
      "9 5  7  8  \n",
      "- 6  11 12 \n",
      "13 10 14 15 \n",
      "\n",
      "1  2  3  4  \n",
      "- 5  7  8  \n",
      "9 6  11 12 \n",
      "13 10 14 15 \n",
      "\n",
      "1  2  3  4  \n",
      "5  - 7  8  \n",
      "9 6  11 12 \n",
      "13 10 14 15 \n",
      "\n",
      "1  2  3  4  \n",
      "5  6  7  8  \n",
      "9 - 11 12 \n",
      "13 10 14 15 \n",
      "\n",
      "1  2  3  4  \n",
      "5  6  7  8  \n",
      "9 10 11 12 \n",
      "13 - 14 15 \n",
      "\n",
      "1  2  3  4  \n",
      "5  6  7  8  \n",
      "9 10 11 12 \n",
      "13 14 - 15 \n",
      "\n",
      "1  2  3  4  \n",
      "5  6  7  8  \n",
      "9 10 11 12 \n",
      "13 14 15 - \n",
      "\n"
     ]
    }
   ],
   "source": [
    "print_path_15p(start_state, goal_state, path)"
   ]
  },
  {
   "cell_type": "markdown",
   "metadata": {},
   "source": [
    "# Discussion Part 2: 15 Puzzle\n",
    "\n",
    "For the second search problem I implemented the 15 puzzle.  I found that the path lengths and execution times for the 15 puzzle were generally comparable to the 8 puzzle.  Although the time to find the path to the goal was generally longer for the 15 puzzle than for the 8 puzzle, it was not usually by a large amount.  In fact, the path for the 15 puzzle that is saved in this notebook is actually shorter than that of the 8 puzzle.  One reason for this is that I used the same arguments as in the 8 puzzle for n_steps and depth_limit for the calls to the random_start_state and iterative_deepening_search functions.  I think that the longer average execution time for the 15 puzzle was because of the larger game board, which allowed for the search to go down more paths than in the 8 puzzle.  Overall the larger game board resulted in longer average execution times for the search and longer average paths, but not by a large amount.  "
   ]
  },
  {
   "cell_type": "markdown",
   "metadata": {},
   "source": [
    "## Grading and Check in"
   ]
  },
  {
   "cell_type": "markdown",
   "metadata": {},
   "source": [
    "Download [A2grader.tar](A2grader.tar) and extract A2grader.py from it, before running next code cell."
   ]
  },
  {
   "cell_type": "code",
   "execution_count": 52,
   "metadata": {
    "scrolled": true
   },
   "outputs": [
    {
     "name": "stdout",
     "output_type": "stream",
     "text": [
      "\n",
      "======================= Code Execution =======================\n",
      "\n",
      "Extracting python code from notebook named 'Valdes-A2.ipynb' and storing in notebookcode.py\n",
      "Removing all statements that are not function or class defs or import statements.\n",
      "\n",
      "Searching this graph:\n",
      " {'a': ['b', 'z', 'd'], 'b': ['a'], 'e': ['z'], 'd': ['y'], 'y': ['z']}\n",
      "\n",
      "Looking for path from a to y with max depth of 1.\n",
      " 5/ 5 points. Your search correctly returned cutoff\n",
      "\n",
      "Looking for path from a to z with max depth of 5.\n",
      "10/10 points. Your search correctly returned ['a', 'z']\n",
      "\n",
      "Testing find_blank_8p([1, 2, 3, 4, 5, 6, 7, 0, 8])\n",
      " 5/ 5 points. Your find_blank_8p correctly returned 2 1\n",
      "\n",
      "Testing actions_f_8p([1, 2, 3, 4, 5, 6, 7, 0, 8])\n",
      "10/10 points. Your actions_f_8p correctly returned ['left', 'right', 'up']\n",
      "\n",
      "Testing take_action_f_8p([1, 2, 3, 4, 5, 6, 7, 0, 8], up)\n",
      "10/10 points. Your take_actions_f_8p correctly returned [1, 2, 3, 4, 0, 6, 7, 5, 8]\n",
      "\n",
      "Testing iterative_deepening_search([1, 2, 3, 4, 5, 6, 7, 0, 8],\n",
      "                                   [0, 2, 3, 1, 4,  6, 7, 5, 8],\n",
      "                                    actions_f_8p, take_action_f_8p, 5)\n",
      "20/20 points. Your search correctly returned\n",
      "               [1, 2, 3, 4, 5, 6, 7, 0, 8]\n",
      "               [1, 2, 3, 4, 0, 6, 7, 5, 8]\n",
      "               [1, 2, 3, 0, 4, 6, 7, 5, 8]\n",
      "               [0, 2, 3, 1, 4, 6, 7, 5, 8]\n",
      "\n",
      "Testing iterative_deepening_search([5, 2, 8, 0, 1, 4, 3, 7, 6],\n",
      "                                   [0, 2, 3, 1, 4,  6, 7, 5, 8],\n",
      "                                   actions_f_8p, take_action_f_8p, 10)\n",
      "10/10 points. Your search correctly returned cutoff.\n",
      "\n",
      "======================================================================\n",
      "C:\\Users\\Adam Valdes\\CS 440 Execution Grade is 70 / 70\n",
      "======================================================================\n",
      "\n",
      "__ / 10 points. At least four sentences describing the solutions found for the 8 puzzle.\n",
      "\n",
      "__ / 20 points. At least six sentences describing the second search problem, your implementation \n",
      "               of state, and the solutions found.\n",
      "\n",
      "======================================================================\n",
      "C:\\Users\\Adam Valdes\\CS 440 Additional Grade is __ / 30\n",
      "======================================================================\n",
      "\n",
      "======================================================================\n",
      "C:\\Users\\Adam Valdes\\CS 440 FINAL GRADE is  _  / 100\n",
      "======================================================================\n",
      "\n",
      "Extra Credit: Earn one point of extra credit for using your search functions to solve the variation\n",
      "              of the grid problem in Assignment 1.\n",
      "\n",
      "C:\\Users\\Adam Valdes\\CS 440 EXTRA CREDIT is 0 / 1\n"
     ]
    }
   ],
   "source": [
    "%run -i A2grader.py"
   ]
  },
  {
   "cell_type": "markdown",
   "metadata": {},
   "source": [
    "Check in your notebook for Assignment 2 on our [Canvas site](https://colostate.instructure.com/courses/109411)."
   ]
  },
  {
   "cell_type": "markdown",
   "metadata": {},
   "source": [
    "## Extra Credit\n",
    "\n",
    "For extra credit, apply your solution to the grid example in Assignment 1 with the addition of at least one horizontal and at least one vertical barrier, all at least three positions long.  Demonstrate the solutions found in four different pairs of start and goal states."
   ]
  }
 ],
 "metadata": {
  "anaconda-cloud": {},
  "jupytext": {
   "formats": "ipynb,py:light"
  },
  "kernelspec": {
   "display_name": "Python 3",
   "language": "python",
   "name": "python3"
  },
  "language_info": {
   "codemirror_mode": {
    "name": "ipython",
    "version": 3
   },
   "file_extension": ".py",
   "mimetype": "text/x-python",
   "name": "python",
   "nbconvert_exporter": "python",
   "pygments_lexer": "ipython3",
   "version": "3.7.4"
  },
  "toc": {
   "base_numbering": 1,
   "nav_menu": {},
   "number_sections": true,
   "sideBar": true,
   "skip_h1_title": false,
   "title_cell": "Table of Contents",
   "title_sidebar": "Contents",
   "toc_cell": true,
   "toc_position": {},
   "toc_section_display": true,
   "toc_window_display": true
  }
 },
 "nbformat": 4,
 "nbformat_minor": 1
}
