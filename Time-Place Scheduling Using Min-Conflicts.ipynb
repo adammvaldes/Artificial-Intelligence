{
 "cells": [
  {
   "cell_type": "markdown",
   "metadata": {},
   "source": [
    "$\\newcommand{\\xv}{\\mathbf{x}}\n",
    "\\newcommand{\\Xv}{\\mathbf{X}}\n",
    "\\newcommand{\\yv}{\\mathbf{y}}\n",
    "\\newcommand{\\zv}{\\mathbf{z}}\n",
    "\\newcommand{\\av}{\\mathbf{a}}\n",
    "\\newcommand{\\Wv}{\\mathbf{W}}\n",
    "\\newcommand{\\wv}{\\mathbf{w}}\n",
    "\\newcommand{\\tv}{\\mathbf{t}}\n",
    "\\newcommand{\\Tv}{\\mathbf{T}}\n",
    "\\newcommand{\\muv}{\\boldsymbol{\\mu}}\n",
    "\\newcommand{\\sigmav}{\\boldsymbol{\\sigma}}\n",
    "\\newcommand{\\phiv}{\\boldsymbol{\\phi}}\n",
    "\\newcommand{\\Phiv}{\\boldsymbol{\\Phi}}\n",
    "\\newcommand{\\Sigmav}{\\boldsymbol{\\Sigma}}\n",
    "\\newcommand{\\Lambdav}{\\boldsymbol{\\Lambda}}\n",
    "\\newcommand{\\half}{\\frac{1}{2}}\n",
    "\\newcommand{\\argmax}[1]{\\underset{#1}{\\operatorname{argmax}}}\n",
    "\\newcommand{\\argmin}[1]{\\underset{#1}{\\operatorname{argmin}}}$"
   ]
  },
  {
   "cell_type": "markdown",
   "metadata": {},
   "source": [
    "# A5:  Min-Conflicts\n",
    "\n",
    "* *A5.1*: New version of A5grader.py. Download and extract from [A5grader.tar](https://www.cs.colostate.edu/~anderson/cs440/notebooks/A5grader.tar).  This version includes 5pm as a class meeting time, uses a different random number seed and another few classes in the final test."
   ]
  },
  {
   "cell_type": "markdown",
   "metadata": {},
   "source": [
    "Adam Valdes"
   ]
  },
  {
   "cell_type": "markdown",
   "metadata": {},
   "source": [
    "For this assignment, you will use the `min-conflicts` code from the lecture notes to solve the following scheduling problem. <font color=\"red\">Do not change this code in completing this assignment.</font>"
   ]
  },
  {
   "cell_type": "code",
   "execution_count": 1,
   "metadata": {},
   "outputs": [],
   "source": [
    "#from lecture notes 17\n",
    "import random\n",
    "\n",
    "def min_conflicts(vars, domains, constraints, neighbors, max_steps=1000): \n",
    "    \"\"\"Solve a CSP by stochastic hillclimbing on the number of conflicts.\"\"\"\n",
    "    # Generate a complete assignment for all vars (probably with conflicts)\n",
    "    current = {}\n",
    "    for var in vars:\n",
    "        val = min_conflicts_value(var, current, domains, constraints, neighbors)\n",
    "        current[var] = val\n",
    "    # Now repeatedly choose a random conflicted variable and change it\n",
    "    for i in range(max_steps):\n",
    "        conflicted = conflicted_vars(current, vars, constraints, neighbors)\n",
    "        if not conflicted:\n",
    "            return (current, i)\n",
    "        var = random.choice(conflicted)\n",
    "        val = min_conflicts_value(var, current, domains, constraints, neighbors)\n",
    "        current[var] = val\n",
    "    return (None, None)\n",
    "\n",
    "def min_conflicts_value(var, current, domains, constraints, neighbors):\n",
    "    \"\"\"Return the value that will give var the least number of conflicts.\n",
    "    If there is a tie, choose at random.\"\"\"\n",
    "    return argmin_random_tie(domains[var],\n",
    "                             lambda val: nconflicts(var, val, current, constraints, neighbors)) \n",
    "\n",
    "def conflicted_vars(current, vars, constraints, neighbors):\n",
    "    \"Return a list of variables in current assignment that are in conflict\"\n",
    "    return [var for var in vars\n",
    "            if nconflicts(var, current[var], current, constraints, neighbors) > 0]\n",
    "\n",
    "def nconflicts(var, val, assignment, constraints, neighbors):\n",
    "    \"Return the number of conflicts var=val has with other variables.\"\n",
    "    # Subclasses may implement this more efficiently\n",
    "    def conflict(var2):\n",
    "        val2 = assignment.get(var2, None)\n",
    "        return val2 != None and not constraints(var, val, var2, val2)\n",
    "    return len(list(filter(conflict, neighbors[var])))\n",
    "\n",
    "def argmin_random_tie(seq, fn):\n",
    "    \"\"\"Return an element with lowest fn(seq[i]) score; break ties at random.\n",
    "    Thus, for all s,f: argmin_random_tie(s, f) in argmin_list(s, f)\"\"\"\n",
    "    best_score = fn(seq[0])\n",
    "    n = 0\n",
    "    for x in seq:\n",
    "        x_score = fn(x)\n",
    "        if x_score < best_score:\n",
    "            best, best_score = x, x_score; n = 1\n",
    "        elif x_score == best_score:\n",
    "            n += 1\n",
    "            if random.randrange(n) == 0:\n",
    "                    best = x\n",
    "    return best"
   ]
  },
  {
   "cell_type": "markdown",
   "metadata": {},
   "source": [
    "You are in charge of assigning classes to classrooms and times for the\n",
    "department. The scheduling is simplified by the fact at this imaginary university each class meets every day. \n",
    "\n",
    "You have been asked to schedule these four class rooms:\n",
    "\n",
    "  * CSB 130\n",
    "  * CSB 325\n",
    "  * CSB 425\n",
    "  * Clark 101\n",
    "  \n",
    "Classes start on the hour. You can only assign classes to the hours of\n",
    "\n",
    "  *  8 am\n",
    "  *  9 am\n",
    "  * 10 am\n",
    "  * 11 am\n",
    "  * 12 pm\n",
    "  *  1 pm\n",
    "  *  2 pm\n",
    "  *  3 pm\n",
    "  *  4 pm\n",
    "  *  5 pm\n",
    "  \n",
    "You must schedule these 37 classes:\n",
    "\n",
    "  * CS160, CS163, CS164, CS165, CS192, CS199,\n",
    "  * CS220, CS270, CS253, CS245, CS250, CS280,\n",
    "  * CS320, CS314, CS356, CS370, CS380, CS390,\n",
    "  * CS410, CS414, CS420, CS425, CS430, CS435, CS440, CS445, CS453, \n",
    "  * CS510, CS514, CS520, CS530, CS533, CS535, CS540, CS545, CS548, CS553\n",
    "\n",
    "Your schedule must not violate any of the following constraints.\n",
    "\n",
    "  * Two classes cannot meet in the same room at the same time.\n",
    "  * Classes with the same first digit cannot meet at the same time, because students might take a subset of these in one semester. There is one exception to this rule. CS163 and CS164 can meet at the same time.\n",
    "  \n",
    "In addition to these constraints, let's add some preferences, which turns this CSP problem into a COP problem.  Let's prefer schedules with the fewest number of classes scheduled at 8 am and 5 pm. "
   ]
  },
  {
   "cell_type": "markdown",
   "metadata": {},
   "source": [
    "The variables for this COP problem are the classes.  The values you assign to each class will be a tuple containing a room and a time."
   ]
  },
  {
   "cell_type": "markdown",
   "metadata": {},
   "source": [
    "## Required Functions"
   ]
  },
  {
   "cell_type": "markdown",
   "metadata": {},
   "source": [
    "### `assignments = schedule(classes, times, rooms, max_steps, n_solutions_to_test,)`\n",
    "\n",
    "Given:\n",
    "* `classes`: list of all class names, like 'CS410'\n",
    "* `times`: list of all start times, like '10 am' and ' 1 pm'\n",
    "* `rooms`: list of all rooms, like 'CSB 325'\n",
    "* `max_steps`: maximum number of assignments to try, passed to `min_conflicts` as the last argument\n",
    "* `n_solutions_to_test`: call `min_conflicts` this many times.  For each solution, count the number of classes scheduled at 8 am or 5 pm.  Keep track of the lowest number of classes at 8 am and 5 pm and the corresponding assignments of values to variables.\n",
    "\n",
    "Return:\n",
    "* `assignments`: dictionary of best values assigned to variables (ones that have lowest number of classes scheduled at 8 am or 5pm), like `{'CS410': ('CSB 425', '10 am'), ...}`\n",
    "\n",
    "`assignments` will each be `None` if a solution was not found.\n",
    "\n",
    "### `result = constraints_ok(class_name_1, value_1, class_name_2, value_2)`\n",
    "\n",
    "Given:\n",
    "* `class_name_1`: as above, like 'CS410'\n",
    "* `value_1`: tuple containing room and time\n",
    "* `class_name_2`: a second class name\n",
    "* `value_2`: another tuple containing a room and time\n",
    "\n",
    "Returns:\n",
    "* `result`: `True` if the assignment of `value_1` to `class_name 1` and `value_2` to `class_name 2` does\n",
    "not violate any constraints.  `False` otherwise.\n",
    "     \n",
    "### `dataframe = display(assignments, rooms, times)`\n",
    "Given\n",
    "* `assignments`: returned from your `schedule` function\n",
    "* `rooms`: list of all rooms as above\n",
    "* `times`: list of all times as above\n",
    "Returns:\n",
    "* `dataframe`: a `pandas.DataFrame` of the solution, as shown in the example below."
   ]
  },
  {
   "cell_type": "code",
   "execution_count": 2,
   "metadata": {},
   "outputs": [],
   "source": [
    "def schedule(classes, times, rooms, max_steps, n_solutions_to_test):\n",
    "    vars = classes\n",
    "    domains = {}\n",
    "    #domains should be the combination of (room, time) tuples for each class\n",
    "    #finding domain combinations\n",
    "    #domain format= {class : [(class1,time1),(class2,time2),...]}\n",
    "    for class_ in classes:\n",
    "        domain_tuples = []\n",
    "        for time in times:\n",
    "            for room in rooms:\n",
    "                domain_tuples.append((room, time))\n",
    "        domains[class_] = domain_tuples\n",
    "    #neighbors for a given class are all the classes except itself\n",
    "    neighbors = {var: [v for v in vars if v != var] for var in vars}\n",
    "    results = []\n",
    "    #call min_conflicts n_solutions_to_test times\n",
    "    for i in range(n_solutions_to_test):\n",
    "        result = min_conflicts(vars, domains, constraints_ok, neighbors, max_steps)\n",
    "        if result != (None, None):\n",
    "            results.append(result)\n",
    "    #keep track of number of classes at 8/5\n",
    "    best_class = len(classes)\n",
    "    solution_number = 0\n",
    "    assignments = {}\n",
    "    #check all results to find the one with the fewest number of classes at 8 am or 5 pm\n",
    "    for r in results:\n",
    "        solution_number += 1\n",
    "        bad_classes = 0\n",
    "        #find number of classes at 8/5\n",
    "        for key in r[0]:\n",
    "            if '8' in r[0][key][1] or '5' in r[0][key][1]:\n",
    "                bad_classes += 1\n",
    "        #see if it is better than the current best\n",
    "        if bad_classes < best_class:\n",
    "            #if it is then it is the new best\n",
    "            best_class = bad_classes\n",
    "            print(\"Solution\",solution_number,\"is new best solution found in\", r[1], \"steps, with\", best_class,\"classes at 8 am or 5 pm.\")\n",
    "            assignments = r\n",
    "    #convert to dictionary instead of tuple before returning\n",
    "    return assignments[0]\n",
    "    \n",
    "    \n",
    "def constraints_ok(class_name_1, value_1, class_name_2, value_2):\n",
    "    #value tuples are of form (room, time)\n",
    "    #if there is a duplicate class and they are at the same time return False\n",
    "    if value_1 == value_2:\n",
    "        return False\n",
    "    class_list = []\n",
    "    class_list.append(class_name_1)\n",
    "    class_list.append(class_name_2)\n",
    "    #if the classes are CS163 and CS164 and they are not in the same room return True, even if they are at the same time\n",
    "    if 'CS163' in class_list and 'CS164' in class_list and value_1[0] != value_2[0]:\n",
    "        return True\n",
    "    #if the classes have the first same digit and the same time then return False\n",
    "    if class_name_1[2] == class_name_2[2] and value_1[1] == value_2[1]:\n",
    "        return False\n",
    "    #all other classes are valid\n",
    "    return True\n",
    "\n",
    "\n",
    "def display(assignments, rooms, times):\n",
    "    import pandas as pd\n",
    "    import copy\n",
    "    df = pd.DataFrame(columns=rooms)\n",
    "    ddf = []\n",
    "    roomslist = rooms\n",
    "    roomslist.sort()\n",
    "    for time in times:\n",
    "        row = []\n",
    "        for key in assignments:\n",
    "            if assignments[key][1] == time:\n",
    "                row.append((key, assignments[key][0]))\n",
    "        #check if there is an empty room\n",
    "        if len(row) < len(rooms):\n",
    "            #make a copy of rooms and leave only the empty room remaining\n",
    "            empty_room = copy.deepcopy(rooms)\n",
    "            for i in row:\n",
    "                if i[1] in empty_room:\n",
    "                    empty_room.remove(i[1])\n",
    "            #add the empty rooms to the row\n",
    "            for i in empty_room:\n",
    "                row.append((\" \", i))\n",
    "        srow = sorted(row, key = lambda x: x[1])\n",
    "        frow = []\n",
    "        for i in srow:\n",
    "            frow.append(i[0])\n",
    "        ddf.append(frow)\n",
    "    df = pd.DataFrame(ddf, index=times, columns=roomslist)\n",
    "    return df"
   ]
  },
  {
   "cell_type": "markdown",
   "metadata": {},
   "source": [
    "## Examples"
   ]
  },
  {
   "cell_type": "code",
   "execution_count": 3,
   "metadata": {
    "ExecuteTime": {
     "end_time": "2020-10-21T22:05:56.732896Z",
     "start_time": "2020-10-21T22:05:56.729330Z"
    }
   },
   "outputs": [],
   "source": [
    "classes = ['CS160', 'CS163', 'CS164', 'CS165', 'CS192', 'CS199',\n",
    "           'CS220', 'CS270', 'CS253', 'CS245', 'CS250', 'CS280',\n",
    "           'CS320', 'CS314', 'CS356', 'CS370', 'CS380', 'CS390',\n",
    "           'CS410', 'CS414', 'CS420', 'CS425', 'CS430', 'CS435', 'CS440', 'CS445', 'CS453', \n",
    "           'CS510', 'CS514', 'CS520', 'CS530', 'CS533', 'CS535', 'CS540', 'CS545', 'CS548', 'CS553']\n",
    "\n",
    "times = [' 8 am',\n",
    "         ' 9 am',\n",
    "         '10 am',\n",
    "         '11 am',\n",
    "         '12 pm',\n",
    "         ' 1 pm',\n",
    "         ' 2 pm',\n",
    "         ' 3 pm',\n",
    "         ' 4 pm',\n",
    "         ' 5 pm']\n",
    "\n",
    "\n",
    "rooms = ['CSB 130', 'CSB 325', 'CSB 425',\n",
    "         'Clark 101'] #, 'Clark 102']"
   ]
  },
  {
   "cell_type": "code",
   "execution_count": 4,
   "metadata": {
    "ExecuteTime": {
     "end_time": "2020-10-21T22:05:56.749601Z",
     "start_time": "2020-10-21T22:05:56.734312Z"
    }
   },
   "outputs": [
    {
     "data": {
      "text/plain": [
       "(37, 40)"
      ]
     },
     "execution_count": 4,
     "metadata": {},
     "output_type": "execute_result"
    }
   ],
   "source": [
    "len(classes), len(times) * len(rooms)"
   ]
  },
  {
   "cell_type": "code",
   "execution_count": 5,
   "metadata": {
    "ExecuteTime": {
     "end_time": "2020-10-21T22:07:18.510316Z",
     "start_time": "2020-10-21T22:06:41.923634Z"
    }
   },
   "outputs": [
    {
     "name": "stdout",
     "output_type": "stream",
     "text": [
      "Solution 1 is new best solution found in 1 steps, with 8 classes at 8 am or 5 pm.\n",
      "Solution 2 is new best solution found in 0 steps, with 7 classes at 8 am or 5 pm.\n",
      "Solution 20 is new best solution found in 6 steps, with 6 classes at 8 am or 5 pm.\n",
      "Solution 55 is new best solution found in 0 steps, with 5 classes at 8 am or 5 pm.\n"
     ]
    }
   ],
   "source": [
    "import random\n",
    "random.seed(555)\n",
    "\n",
    "n_solutions_to_test = 1000\n",
    "max_steps = 100\n",
    "assignments = schedule(classes, times, rooms, max_steps, n_solutions_to_test)"
   ]
  },
  {
   "cell_type": "code",
   "execution_count": 6,
   "metadata": {
    "ExecuteTime": {
     "end_time": "2020-10-21T22:07:23.113406Z",
     "start_time": "2020-10-21T22:07:23.106208Z"
    }
   },
   "outputs": [
    {
     "data": {
      "text/html": [
       "<div>\n",
       "<style scoped>\n",
       "    .dataframe tbody tr th:only-of-type {\n",
       "        vertical-align: middle;\n",
       "    }\n",
       "\n",
       "    .dataframe tbody tr th {\n",
       "        vertical-align: top;\n",
       "    }\n",
       "\n",
       "    .dataframe thead th {\n",
       "        text-align: right;\n",
       "    }\n",
       "</style>\n",
       "<table border=\"1\" class=\"dataframe\">\n",
       "  <thead>\n",
       "    <tr style=\"text-align: right;\">\n",
       "      <th></th>\n",
       "      <th>CSB 130</th>\n",
       "      <th>CSB 325</th>\n",
       "      <th>CSB 425</th>\n",
       "      <th>Clark 101</th>\n",
       "    </tr>\n",
       "  </thead>\n",
       "  <tbody>\n",
       "    <tr>\n",
       "      <td>8 am</td>\n",
       "      <td>CS160</td>\n",
       "      <td>CS535</td>\n",
       "      <td></td>\n",
       "      <td>CS425</td>\n",
       "    </tr>\n",
       "    <tr>\n",
       "      <td>9 am</td>\n",
       "      <td>CS165</td>\n",
       "      <td>CS245</td>\n",
       "      <td>CS440</td>\n",
       "      <td>CS510</td>\n",
       "    </tr>\n",
       "    <tr>\n",
       "      <td>10 am</td>\n",
       "      <td>CS410</td>\n",
       "      <td>CS548</td>\n",
       "      <td>CS380</td>\n",
       "      <td>CS199</td>\n",
       "    </tr>\n",
       "    <tr>\n",
       "      <td>11 am</td>\n",
       "      <td>CS540</td>\n",
       "      <td>CS164</td>\n",
       "      <td>CS430</td>\n",
       "      <td>CS250</td>\n",
       "    </tr>\n",
       "    <tr>\n",
       "      <td>12 pm</td>\n",
       "      <td>CS530</td>\n",
       "      <td>CS163</td>\n",
       "      <td>CS253</td>\n",
       "      <td>CS320</td>\n",
       "    </tr>\n",
       "    <tr>\n",
       "      <td>1 pm</td>\n",
       "      <td>CS280</td>\n",
       "      <td>CS545</td>\n",
       "      <td>CS420</td>\n",
       "      <td>CS314</td>\n",
       "    </tr>\n",
       "    <tr>\n",
       "      <td>2 pm</td>\n",
       "      <td>CS270</td>\n",
       "      <td>CS520</td>\n",
       "      <td>CS370</td>\n",
       "      <td>CS435</td>\n",
       "    </tr>\n",
       "    <tr>\n",
       "      <td>3 pm</td>\n",
       "      <td>CS390</td>\n",
       "      <td>CS514</td>\n",
       "      <td>CS220</td>\n",
       "      <td>CS445</td>\n",
       "    </tr>\n",
       "    <tr>\n",
       "      <td>4 pm</td>\n",
       "      <td>CS453</td>\n",
       "      <td>CS192</td>\n",
       "      <td>CS553</td>\n",
       "      <td>CS356</td>\n",
       "    </tr>\n",
       "    <tr>\n",
       "      <td>5 pm</td>\n",
       "      <td>CS414</td>\n",
       "      <td></td>\n",
       "      <td>CS533</td>\n",
       "      <td></td>\n",
       "    </tr>\n",
       "  </tbody>\n",
       "</table>\n",
       "</div>"
      ],
      "text/plain": [
       "      CSB 130 CSB 325 CSB 425 Clark 101\n",
       " 8 am   CS160   CS535             CS425\n",
       " 9 am   CS165   CS245   CS440     CS510\n",
       "10 am   CS410   CS548   CS380     CS199\n",
       "11 am   CS540   CS164   CS430     CS250\n",
       "12 pm   CS530   CS163   CS253     CS320\n",
       " 1 pm   CS280   CS545   CS420     CS314\n",
       " 2 pm   CS270   CS520   CS370     CS435\n",
       " 3 pm   CS390   CS514   CS220     CS445\n",
       " 4 pm   CS453   CS192   CS553     CS356\n",
       " 5 pm   CS414           CS533          "
      ]
     },
     "execution_count": 6,
     "metadata": {},
     "output_type": "execute_result"
    }
   ],
   "source": [
    "display(assignments, rooms, times)"
   ]
  },
  {
   "cell_type": "markdown",
   "metadata": {},
   "source": [
    "## Check-in"
   ]
  },
  {
   "cell_type": "markdown",
   "metadata": {},
   "source": [
    "Do not include this section in your notebook.\n",
    "\n",
    "Name your notebook ```Lastname-A5.ipynb```.  So, for me it would be ```Anderson-A5.ipynb```.  Submit the file using the ```Assignment 5``` link on [Canvas](https://colostate.instructure.com/courses/109411)."
   ]
  },
  {
   "cell_type": "markdown",
   "metadata": {},
   "source": [
    "## Grading\n",
    "\n",
    "Download [A5grader.tar](http://www.cs.colostate.edu/~anderson/cs440/notebooks/A5grader.tar) and extract `A5grader.py` from it."
   ]
  },
  {
   "cell_type": "code",
   "execution_count": 7,
   "metadata": {
    "ExecuteTime": {
     "end_time": "2020-10-21T22:52:42.108948Z",
     "start_time": "2020-10-21T22:52:40.833474Z"
    },
    "scrolled": false
   },
   "outputs": [
    {
     "name": "stdout",
     "output_type": "stream",
     "text": [
      "\n",
      "======================= Code Execution =======================\n",
      "\n",
      "['Valdes-A5.ipynb']\n",
      "Extracting python code from notebook named 'Valdes-A5.ipynb' and storing in notebookcode.py\n",
      "Removing all statements that are not function or class defs or import statements.\n",
      "\n",
      "Testing\n",
      "\n",
      "  constraints_ok('CS410', ('CSB 130', ' 9 am'), 'CS510', ('CSB 130', ' 9 am'))\n",
      "\n",
      "\n",
      "--- 10/10 points. Your constraints_ok function correctly returned False\n",
      "\n",
      "Testing\n",
      "\n",
      "   constraints_ok('CS410', ('CSB 130', ' 9 am'), 'CS510', ('CSB 130', '10 am'))\n",
      "\n",
      "\n",
      "--- 10/10 points. Your constraints_ok function correctly returned True\n",
      "\n",
      "Testing\n",
      "\n",
      "  constraints_ok('CS410', ('CSB 130', '10 am'), 'CS430', ('CSB 425', '10 am'))\n",
      "\n",
      "\n",
      "--- 10/10 points. Your constraints_ok function correctly returned False\n",
      "\n",
      "Testing\n",
      "\n",
      "      classes = ['CS160', 'CS163', 'CS164',\n",
      "              'CS220', 'CS270', 'CS253',\n",
      "              'CS320', 'CS314', 'CS356', 'CS370',\n",
      "              'CS410', 'CS414', 'CS420', 'CS430', 'CS440', 'CS445', 'CS453', 'CS464',\n",
      "              'CS510', 'CS514', 'CS535', 'CS540', 'CS545']\n",
      "\n",
      "      times = [' 8 am',\n",
      "               ' 9 am',\n",
      "               '10 am',\n",
      "               '11 am',\n",
      "               '12 pm',\n",
      "               ' 1 pm',\n",
      "               ' 2 pm',\n",
      "               ' 3 pm',\n",
      "               ' 4 pm',\n",
      "               ' 5 pm']\n",
      "\n",
      "      rooms = ['CSB 130', 'CSB 325', 'CSB 425']\n",
      "\n",
      "      random.seed(111)\n",
      "      result = schedule(classes, times, rooms, 100, 10)\n",
      "\n",
      "Solution 1 is new best solution found in 0 steps, with 5 classes at 8 am or 5 pm.\n",
      "Solution 3 is new best solution found in 0 steps, with 4 classes at 8 am or 5 pm.\n",
      "\n",
      "--- 30/30 points. Your schedule function returned a valid schedule.\n",
      "\n",
      "Testing a call to schedule again with two more classes\n",
      "\n",
      "    classes += ['CS554', 'CS551', 'CS552', 'CS555', 'CS898', 'CS899']\n",
      "    random.seed(333)\n",
      "    result = schedule(classes, times, rooms, 1000, 10)\n",
      "    n_classes_at_8 = len([(room, time) for\n",
      "                          (room, time) in result.values()\n",
      "                          if time.endswith('8 am')])\n",
      "    n_classes_at_5 = len([(room, time) for\n",
      "                          (room, time) in result.values()\n",
      "                          if time.endswith('5 pm')])\n",
      "\n",
      "Solution 1 is new best solution found in 11 steps, with 6 classes at 8 am or 5 pm.\n",
      "Solution 3 is new best solution found in 0 steps, with 5 classes at 8 am or 5 pm.\n",
      "\n",
      "--- 30/30 points. Your schedule function correctly returned solution with 5 classes at 8 am or 5 pm.\n",
      "\n",
      "======================================================================\n",
      "C:\\Users\\Adam Valdes\\CS 440 EXECUTION Grade is 90 / 90\n",
      "======================================================================\n",
      "\n",
      "                \n",
      "___ / 10 points. Your display function returns the correct pandas.DataFrame.\n",
      "\n",
      "\n",
      "======================================================================\n",
      "C:\\Users\\Adam Valdes\\CS 440 Additional Grade is __ / 10\n",
      "======================================================================\n",
      "\n",
      "======================================================================\n",
      "C:\\Users\\Adam Valdes\\CS 440 FINAL GRADE is  _  / 100\n",
      "======================================================================\n",
      "\n",
      "Extra Credit: Earn one point of extra credit for correct result from schedule_best_for_freshman and discussion about it..\n",
      "\n",
      "C:\\Users\\Adam Valdes\\CS 440 EXTRA CREDIT is 0 / 1\n"
     ]
    }
   ],
   "source": [
    "%run -i A5grader.py"
   ]
  },
  {
   "cell_type": "markdown",
   "metadata": {},
   "source": [
    "# Extra Credit\n",
    "\n",
    "Let's give the freshman a break and try to schedule their courses in the middle of the day.  So, solve the scheduling problem again but with the additional preference of:\n",
    "\n",
    "  * prefer schedules with CS1xx courses scheduled at 11 am, 12 pm, or 1pm.\n",
    "\n",
    "Create a second version of `schedule` called `schedule_best_for_freshman` that includes this additional preference.  "
   ]
  }
 ],
 "metadata": {
  "anaconda-cloud": {},
  "kernelspec": {
   "display_name": "Python 3",
   "language": "python",
   "name": "python3"
  },
  "language_info": {
   "codemirror_mode": {
    "name": "ipython",
    "version": 3
   },
   "file_extension": ".py",
   "mimetype": "text/x-python",
   "name": "python",
   "nbconvert_exporter": "python",
   "pygments_lexer": "ipython3",
   "version": "3.7.4"
  },
  "toc": {
   "base_numbering": 1,
   "nav_menu": {},
   "number_sections": true,
   "sideBar": true,
   "skip_h1_title": false,
   "title_cell": "Table of Contents",
   "title_sidebar": "Contents",
   "toc_cell": false,
   "toc_position": {},
   "toc_section_display": "block",
   "toc_window_display": false
  }
 },
 "nbformat": 4,
 "nbformat_minor": 1
}
